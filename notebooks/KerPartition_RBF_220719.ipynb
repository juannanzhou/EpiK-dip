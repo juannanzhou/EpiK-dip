{
 "cells": [
  {
   "cell_type": "code",
   "execution_count": 1,
   "id": "3ee8fa84-c71b-493a-9c8d-4fa4b0829463",
   "metadata": {},
   "outputs": [
    {
     "data": {
      "text/plain": [
       "2"
      ]
     },
     "execution_count": 1,
     "metadata": {},
     "output_type": "execute_result"
    }
   ],
   "source": [
    "1*2"
   ]
  },
  {
   "cell_type": "code",
   "execution_count": 2,
   "id": "8484b94a-4fb4-4fd2-a9a1-64c096f40a15",
   "metadata": {},
   "outputs": [
    {
     "name": "stdout",
     "output_type": "stream",
     "text": [
      "| ID | GPU | MEM |\n",
      "------------------\n",
      "|  0 |  0% |  0% |\n",
      "|  1 |  0% |  0% |\n",
      "|  2 |  0% |  0% |\n",
      "|  3 |  0% |  0% |\n",
      "|  4 |  0% |  0% |\n",
      "|  5 |  0% |  0% |\n",
      "|  6 |  0% |  0% |\n",
      "|  7 |  0% |  0% |\n"
     ]
    }
   ],
   "source": [
    "import GPUtil\n",
    "GPUtil.showUtilization()"
   ]
  },
  {
   "cell_type": "code",
   "execution_count": 6,
   "id": "ec12a8f1-5cba-4427-81e9-48230eec314c",
   "metadata": {},
   "outputs": [],
   "source": [
    "import importlib\n",
    "def rl(module):\n",
    "    importlib.reload(module)"
   ]
  },
  {
   "cell_type": "code",
   "execution_count": 4,
   "id": "07aea3b5-3e0b-46a1-b760-98816c158d50",
   "metadata": {},
   "outputs": [],
   "source": [
    "import pandas as pd\n",
    "import os\n",
    "import numpy as np\n",
    "import matplotlib.pyplot as plt\n",
    "from matplotlib.pyplot import figure\n",
    "\n",
    "import torch\n",
    "import gpytorch\n",
    "\n",
    "from scipy.stats import pearsonr\n",
    "from scipy.special import binom as binom\n",
    "from sklearn.metrics import r2_score as r2\n",
    "from sklearn.metrics import mean_squared_error as mse\n",
    "from sklearn.model_selection import train_test_split\n",
    "\n",
    "# import Di"
   ]
  },
  {
   "cell_type": "code",
   "execution_count": 5,
   "id": "042ddf01-64c3-4adc-af97-fe519867df5a",
   "metadata": {},
   "outputs": [
    {
     "name": "stdout",
     "output_type": "stream",
     "text": [
      "8\n",
      "0\n"
     ]
    }
   ],
   "source": [
    "print(torch.cuda.device_count())\n",
    "print(torch.cuda.current_device())\n",
    "output_device = 0\n",
    "n_devices = torch.cuda.device_count()"
   ]
  },
  {
   "cell_type": "markdown",
   "id": "4a537e15-35c7-44d7-8fb0-5df33f48bf93",
   "metadata": {},
   "source": [
    "### kernel module"
   ]
  },
  {
   "cell_type": "code",
   "execution_count": 6,
   "id": "f949ac6c-1423-4f34-aa80-9c412eea142c",
   "metadata": {},
   "outputs": [],
   "source": [
    "from gpytorch import settings\n",
    "from gpytorch.constraints import Positive\n",
    "from gpytorch.lazy import LazyEvaluatedKernelTensor, ZeroLazyTensor, delazify, lazify\n",
    "from gpytorch.models import exact_prediction_strategies\n",
    "from gpytorch.module import Module\n",
    "from gpytorch.utils.broadcasting import _mul_broadcast_shape"
   ]
  },
  {
   "cell_type": "code",
   "execution_count": 7,
   "id": "3f5b2153-70db-47df-b47c-cc56009f924d",
   "metadata": {},
   "outputs": [],
   "source": [
    "#!/usr/bin/env python3\n",
    "\n",
    "import warnings\n",
    "from abc import abstractmethod\n",
    "from copy import deepcopy\n",
    "\n",
    "import torch\n",
    "from torch.nn import ModuleList\n",
    "\n",
    "from gpytorch import settings\n",
    "from gpytorch.constraints import Positive\n",
    "from gpytorch.lazy import LazyEvaluatedKernelTensor, ZeroLazyTensor, delazify, lazify\n",
    "from gpytorch.models import exact_prediction_strategies\n",
    "from gpytorch.module import Module\n",
    "from gpytorch.utils.broadcasting import _mul_broadcast_shape\n",
    "\n",
    "\n",
    "def default_postprocess_script(x):\n",
    "    return x"
   ]
  },
  {
   "cell_type": "code",
   "execution_count": 8,
   "id": "2e94584a-554f-4e8b-a9b1-527adf6236b5",
   "metadata": {
    "tags": []
   },
   "outputs": [],
   "source": [
    "def d(geno1, geno2):\n",
    "  \"\"\"build distance tensor between two sets of genotypes\n",
    "  geno1, geno2: n x L, m x L torch tensors\n",
    "\n",
    "  \"\"\"\n",
    "  geno1_h0 = 1. * (geno1 == 0.)\n",
    "  geno1_h1 = 1. * (geno1 == 2.)\n",
    "  geno2_h0 = 1. * (geno2 == 0.)\n",
    "  geno2_h1 = 1. * (geno2 == 2.)\n",
    "  S1 = torch.matmul(geno1 % 2, torch.transpose(geno2 % 2, 0, 1))\n",
    "  S2 = (torch.matmul(geno1_h0, torch.transpose(geno2_h0, 0, 1))\n",
    "        + torch.matmul(geno1_h1, torch.transpose(geno2_h1, 0, 1)))\n",
    "  D2 = (torch.matmul(geno1_h0, torch.transpose(geno2_h1, 0, 1))\n",
    "        + torch.matmul(geno1_h1, torch.transpose(geno2_h0, 0, 1)))\n",
    "  D1 = L - S1 - S2 - D2\n",
    "\n",
    "  return torch.stack((S1, S2, D1, D2))"
   ]
  },
  {
   "cell_type": "code",
   "execution_count": 9,
   "id": "d425885b-7e7e-43dd-a18b-0a04aa82e2c1",
   "metadata": {},
   "outputs": [],
   "source": [
    "class Distance1(torch.nn.Module):\n",
    "    def __init__(self, postprocess_script=default_postprocess_script):\n",
    "        super().__init__()\n",
    "        self._postprocess = postprocess_script\n",
    "\n",
    "    def _sq_dist(self, x1, x2, postprocess, x1_eq_x2=False):\n",
    "        # TODO: use torch squared cdist once implemented: https://github.com/pytorch/pytorch/pull/25799\n",
    "#         adjustment = x1.mean(-2, keepdim=True)\n",
    "#         x1 = x1 - adjustment\n",
    "#         x2 = x2 - adjustment  # x1 and x2 should be identical in all dims except -2 at this point\n",
    "\n",
    "        # Compute squared distance matrix using quadratic expansion\n",
    "#         x1_norm = x1.pow(2).sum(dim=-1, keepdim=True)\n",
    "#         x1_pad = torch.ones_like(x1_norm)\n",
    "#         if x1_eq_x2 and not x1.requires_grad and not x2.requires_grad:\n",
    "#             x2_norm, x2_pad = x1_norm, x1_pad\n",
    "#         else:\n",
    "#             x2_norm = x2.pow(2).sum(dim=-1, keepdim=True)\n",
    "#             x2_pad = torch.ones_like(x2_norm)\n",
    "#         x1_ = torch.cat([-2.0 * x1, x1_norm, x1_pad], dim=-1)\n",
    "#         x2_ = torch.cat([x2, x2_pad, x2_norm], dim=-1)\n",
    "#         res = x1_.matmul(x2_.transpose(-2, -1))\n",
    "        res = x1.matmul(x2.transpose(-2, -1))        \n",
    "\n",
    "        if x1_eq_x2 and not x1.requires_grad and not x2.requires_grad:\n",
    "            pass\n",
    "#             res.diagonal(dim1=-2, dim2=-1).fill_(0)\n",
    "\n",
    "        # Zero out negative values\n",
    "        res.clamp_min_(0)\n",
    "        return self._postprocess(res) if postprocess else res\n",
    "\n",
    "    def _dist(self, x1, x2, postprocess, x1_eq_x2=False):\n",
    "        # TODO: use torch cdist once implementation is improved: https://github.com/pytorch/pytorch/pull/25799\n",
    "        res = self._sq_dist(x1, x2, postprocess=False, x1_eq_x2=x1_eq_x2)\n",
    "        res = res.clamp_min_(1e-30).sqrt_()\n",
    "        return self._postprocess(res) if postprocess else res\n"
   ]
  },
  {
   "cell_type": "code",
   "execution_count": 10,
   "id": "0e9b179f-1a5a-4fd8-a0dc-0c46232a3039",
   "metadata": {
    "tags": []
   },
   "outputs": [],
   "source": [
    "class Kernel(Module):\n",
    "\n",
    "    has_lengthscale = False\n",
    "\n",
    "    def __init__(\n",
    "        self,\n",
    "        ard_num_dims=None,\n",
    "        batch_shape=torch.Size([]),\n",
    "        active_dims=None,\n",
    "        lengthscale_prior=None,\n",
    "        lengthscale_constraint=None,\n",
    "        eps=1e-6,\n",
    "        **kwargs,\n",
    "    ):\n",
    "        super(Kernel, self).__init__()\n",
    "        self._batch_shape = batch_shape\n",
    "        if active_dims is not None and not torch.is_tensor(active_dims):\n",
    "            active_dims = torch.tensor(active_dims, dtype=torch.long)\n",
    "        self.register_buffer(\"active_dims\", active_dims)\n",
    "        self.ard_num_dims = ard_num_dims\n",
    "\n",
    "        self.eps = eps\n",
    "\n",
    "        param_transform = kwargs.get(\"param_transform\")\n",
    "\n",
    "        if lengthscale_constraint is None:\n",
    "            lengthscale_constraint = Positive()\n",
    "\n",
    "        if param_transform is not None:\n",
    "            warnings.warn(\n",
    "                \"The 'param_transform' argument is now deprecated. If you want to use a different \"\n",
    "                \"transformation, specify a different 'lengthscale_constraint' instead.\",\n",
    "                DeprecationWarning,\n",
    "            )\n",
    "\n",
    "        if self.has_lengthscale:\n",
    "            lengthscale_num_dims = 1 if ard_num_dims is None else ard_num_dims\n",
    "            self.register_parameter(\n",
    "                name=\"raw_lengthscale\",\n",
    "                parameter=torch.nn.Parameter(torch.zeros(*self.batch_shape, 1, lengthscale_num_dims)),\n",
    "            )\n",
    "            if lengthscale_prior is not None:\n",
    "                self.register_prior(\n",
    "                    \"lengthscale_prior\", lengthscale_prior, lambda m: m.lengthscale, lambda m, v: m._set_lengthscale(v)\n",
    "                )\n",
    "\n",
    "            self.register_constraint(\"raw_lengthscale\", lengthscale_constraint)\n",
    "\n",
    "        self.distance_module = None\n",
    "        # TODO: Remove this on next official PyTorch release.\n",
    "        self.__pdist_supports_batch = True\n",
    "\n",
    "    @abstractmethod\n",
    "    def forward(self, x1, x2, diag=False, last_dim_is_batch=False, **params):\n",
    "        raise NotImplementedError()\n",
    "\n",
    "    @property\n",
    "    def batch_shape(self):\n",
    "        kernels = list(self.sub_kernels())\n",
    "        if len(kernels):\n",
    "            return _mul_broadcast_shape(self._batch_shape, *[k.batch_shape for k in kernels])\n",
    "        else:\n",
    "            return self._batch_shape\n",
    "\n",
    "    @batch_shape.setter\n",
    "    def batch_shape(self, val):\n",
    "        self._batch_shape = val\n",
    "\n",
    "    @property\n",
    "    def dtype(self):\n",
    "        if self.has_lengthscale:\n",
    "            return self.lengthscale.dtype\n",
    "        else:\n",
    "            for param in self.parameters():\n",
    "                return param.dtype\n",
    "            return torch.get_default_dtype()\n",
    "\n",
    "    @property\n",
    "    def is_stationary(self) -> bool:\n",
    "        \"\"\"\n",
    "        Property to indicate whether kernel is stationary or not.\n",
    "        \"\"\"\n",
    "        return self.has_lengthscale\n",
    "\n",
    "    @property\n",
    "    def lengthscale(self):\n",
    "        if self.has_lengthscale:\n",
    "            return self.raw_lengthscale_constraint.transform(self.raw_lengthscale)\n",
    "        else:\n",
    "            return None\n",
    "\n",
    "    @lengthscale.setter\n",
    "    def lengthscale(self, value):\n",
    "        self._set_lengthscale(value)\n",
    "\n",
    "    def _set_lengthscale(self, value):\n",
    "        if not self.has_lengthscale:\n",
    "            raise RuntimeError(\"Kernel has no lengthscale.\")\n",
    "\n",
    "        if not torch.is_tensor(value):\n",
    "            value = torch.as_tensor(value).to(self.raw_lengthscale)\n",
    "\n",
    "        self.initialize(raw_lengthscale=self.raw_lengthscale_constraint.inverse_transform(value))\n",
    "\n",
    "    def local_load_samples(self, samples_dict, memo, prefix):\n",
    "        num_samples = next(iter(samples_dict.values())).size(0)\n",
    "        self.batch_shape = torch.Size([num_samples]) + self.batch_shape\n",
    "        super().local_load_samples(samples_dict, memo, prefix)\n",
    "\n",
    "    def covar_dist(\n",
    "        self,\n",
    "        x1,\n",
    "        x2,\n",
    "        diag=False,\n",
    "        last_dim_is_batch=False,\n",
    "        square_dist=True,\n",
    "        dist_postprocess_func=default_postprocess_script,\n",
    "        postprocess=True,\n",
    "        **params,\n",
    "    ):\n",
    "\n",
    "        if last_dim_is_batch:\n",
    "            x1 = x1.transpose(-1, -2).unsqueeze(-1)\n",
    "            x2 = x2.transpose(-1, -2).unsqueeze(-1)\n",
    "\n",
    "        x1_eq_x2 = torch.equal(x1, x2)\n",
    "\n",
    "        # torch scripts expect tensors\n",
    "        postprocess = torch.tensor(postprocess)\n",
    "\n",
    "        res = None\n",
    "\n",
    "        # Cache the Distance object or else JIT will recompile every time\n",
    "        if not self.distance_module or self.distance_module._postprocess != dist_postprocess_func:\n",
    "            self.distance_module = Distance1(dist_postprocess_func)\n",
    "\n",
    "        if diag:\n",
    "            # Special case the diagonal because we can return all zeros most of the time.\n",
    "            if x1_eq_x2:\n",
    "                res = torch.zeros(*x1.shape[:-2], x1.shape[-2], dtype=x1.dtype, device=x1.device)\n",
    "                if postprocess:\n",
    "                    res = dist_postprocess_func(res)\n",
    "                return res\n",
    "            else:\n",
    "                res = torch.norm(x1 - x2, p=2, dim=-1)\n",
    "                if square_dist:\n",
    "                    res = res.pow(2)\n",
    "            if postprocess:\n",
    "                res = dist_postprocess_func(res)\n",
    "            return res\n",
    "\n",
    "        elif square_dist:\n",
    "            res = self.distance_module._sq_dist(x1, x2, postprocess, x1_eq_x2)\n",
    "        else:\n",
    "            res = self.distance_module._dist(x1, x2, postprocess, x1_eq_x2)\n",
    "\n",
    "        return res\n",
    "\n",
    "    def named_sub_kernels(self):\n",
    "        for name, module in self.named_modules():\n",
    "            if module is not self and isinstance(module, Kernel):\n",
    "                yield name, module\n",
    "\n",
    "    def num_outputs_per_input(self, x1, x2):\n",
    "        \"\"\"\n",
    "        How many outputs are produced per input (default 1)\n",
    "        if x1 is size `n x d` and x2 is size `m x d`, then the size of the kernel\n",
    "        will be `(n * num_outputs_per_input) x (m * num_outputs_per_input)`\n",
    "        Default: 1\n",
    "        \"\"\"\n",
    "        return 1\n",
    "\n",
    "    def prediction_strategy(self, train_inputs, train_prior_dist, train_labels, likelihood):\n",
    "        return exact_prediction_strategies.DefaultPredictionStrategy(\n",
    "            train_inputs, train_prior_dist, train_labels, likelihood\n",
    "        )\n",
    "\n",
    "    def sub_kernels(self):\n",
    "        for _, kernel in self.named_sub_kernels():\n",
    "            yield kernel\n",
    "\n",
    "    def __call__(self, x1, x2=None, diag=False, last_dim_is_batch=False, **params):\n",
    "        x1_, x2_ = x1, x2\n",
    "\n",
    "        # Select the active dimensions\n",
    "        if self.active_dims is not None:\n",
    "            x1_ = x1_.index_select(-1, self.active_dims)\n",
    "            if x2_ is not None:\n",
    "                x2_ = x2_.index_select(-1, self.active_dims)\n",
    "\n",
    "        # Give x1_ and x2_ a last dimension, if necessary\n",
    "        if x1_.ndimension() == 1:\n",
    "            x1_ = x1_.unsqueeze(1)\n",
    "        if x2_ is not None:\n",
    "            if x2_.ndimension() == 1:\n",
    "                x2_ = x2_.unsqueeze(1)\n",
    "            if not x1_.size(-1) == x2_.size(-1):\n",
    "                raise RuntimeError(\"x1_ and x2_ must have the same number of dimensions!\")\n",
    "\n",
    "        if x2_ is None:\n",
    "            x2_ = x1_\n",
    "\n",
    "        # Check that ard_num_dims matches the supplied number of dimensions\n",
    "        if settings.debug.on():\n",
    "            if self.ard_num_dims is not None and self.ard_num_dims != x1_.size(-1):\n",
    "                raise RuntimeError(\n",
    "                    \"Expected the input to have {} dimensionality \"\n",
    "                    \"(based on the ard_num_dims argument). Got {}.\".format(self.ard_num_dims, x1_.size(-1))\n",
    "                )\n",
    "\n",
    "        if diag:\n",
    "            res = super(Kernel, self).__call__(x1_, x2_, diag=True, last_dim_is_batch=last_dim_is_batch, **params)\n",
    "            # Did this Kernel eat the diag option?\n",
    "            # If it does not return a LazyEvaluatedKernelTensor, we can call diag on the output\n",
    "            if not isinstance(res, LazyEvaluatedKernelTensor):\n",
    "                if res.dim() == x1_.dim() and res.shape[-2:] == torch.Size((x1_.size(-2), x2_.size(-2))):\n",
    "                    res = res.diag()\n",
    "            return res\n",
    "\n",
    "        else:\n",
    "            if settings.lazily_evaluate_kernels.on():\n",
    "                res = LazyEvaluatedKernelTensor(x1_, x2_, kernel=self, last_dim_is_batch=last_dim_is_batch, **params)\n",
    "            else:\n",
    "                res = lazify(super(Kernel, self).__call__(x1_, x2_, last_dim_is_batch=last_dim_is_batch, **params))\n",
    "            return res\n",
    "\n",
    "    def __getstate__(self):\n",
    "        # JIT ScriptModules cannot be pickled\n",
    "        self.distance_module = None\n",
    "        return self.__dict__\n",
    "\n",
    "    def __add__(self, other):\n",
    "        kernels = []\n",
    "        kernels += self.kernels if isinstance(self, AdditiveKernel) else [self]\n",
    "        kernels += other.kernels if isinstance(other, AdditiveKernel) else [other]\n",
    "        return AdditiveKernel(*kernels)\n",
    "\n",
    "    def __mul__(self, other):\n",
    "        kernels = []\n",
    "        kernels += self.kernels if isinstance(self, ProductKernel) else [self]\n",
    "        kernels += other.kernels if isinstance(other, ProductKernel) else [other]\n",
    "        return ProductKernel(*kernels)\n",
    "\n",
    "    def __setstate__(self, d):\n",
    "        self.__dict__ = d\n",
    "\n",
    "    def __getitem__(self, index):\n",
    "        if len(self.batch_shape) == 0:\n",
    "            return self\n",
    "\n",
    "        new_kernel = deepcopy(self)\n",
    "        # Process the index\n",
    "        index = index if isinstance(index, tuple) else (index,)\n",
    "\n",
    "        for param_name, param in self._parameters.items():\n",
    "            new_kernel._parameters[param_name].data = param.__getitem__(index)\n",
    "            ndim_removed = len(param.shape) - len(new_kernel._parameters[param_name].shape)\n",
    "            new_batch_shape_len = len(self.batch_shape) - ndim_removed\n",
    "            new_kernel.batch_shape = new_kernel._parameters[param_name].shape[:new_batch_shape_len]\n",
    "\n",
    "        for sub_module_name, sub_module in self.named_sub_kernels():\n",
    "            self._modules[sub_module_name] = sub_module.__getitem__(index)\n",
    "\n",
    "        return new_kernel\n",
    "\n",
    "\n",
    "class AdditiveKernel(Kernel):\n",
    "    \"\"\"\n",
    "    A Kernel that supports summing over multiple component kernels.\n",
    "\n",
    "    Example:\n",
    "        >>> covar_module = RBFKernel(active_dims=torch.tensor([1])) + RBFKernel(active_dims=torch.tensor([2]))\n",
    "        >>> x1 = torch.randn(50, 2)\n",
    "        >>> additive_kernel_matrix = covar_module(x1)\n",
    "    \"\"\"\n",
    "\n",
    "    @property\n",
    "    def is_stationary(self) -> bool:\n",
    "        \"\"\"\n",
    "        Kernel is stationary if all components are stationary.\n",
    "        \"\"\"\n",
    "        return all(k.is_stationary for k in self.kernels)\n",
    "\n",
    "    def __init__(self, *kernels):\n",
    "        super(AdditiveKernel, self).__init__()\n",
    "        self.kernels = ModuleList(kernels)\n",
    "\n",
    "    def forward(self, x1, x2, diag=False, **params):\n",
    "        res = ZeroLazyTensor() if not diag else 0\n",
    "        for kern in self.kernels:\n",
    "            next_term = kern(x1, x2, diag=diag, **params)\n",
    "            if not diag:\n",
    "                res = res + lazify(next_term)\n",
    "            else:\n",
    "                res = res + next_term\n",
    "\n",
    "        return res\n",
    "\n",
    "    def num_outputs_per_input(self, x1, x2):\n",
    "        return self.kernels[0].num_outputs_per_input(x1, x2)\n",
    "\n",
    "    def __getitem__(self, index):\n",
    "        new_kernel = deepcopy(self)\n",
    "        for i, kernel in enumerate(self.kernels):\n",
    "            new_kernel.kernels[i] = self.kernels[i].__getitem__(index)\n",
    "\n",
    "        return new_kernel\n",
    "\n",
    "\n",
    "class ProductKernel(Kernel):\n",
    "    \"\"\"\n",
    "    A Kernel that supports elementwise multiplying multiple component kernels together.\n",
    "\n",
    "    Example:\n",
    "        >>> covar_module = RBFKernel(active_dims=torch.tensor([1])) * RBFKernel(active_dims=torch.tensor([2]))\n",
    "        >>> x1 = torch.randn(50, 2)\n",
    "        >>> kernel_matrix = covar_module(x1) # The RBF Kernel already decomposes multiplicatively, so this is foolish!\n",
    "    \"\"\"\n",
    "\n",
    "    @property\n",
    "    def is_stationary(self) -> bool:\n",
    "        \"\"\"\n",
    "        Kernel is stationary if all components are stationary.\n",
    "        \"\"\"\n",
    "        return all(k.is_stationary for k in self.kernels)\n",
    "\n",
    "    def __init__(self, *kernels):\n",
    "        super(ProductKernel, self).__init__()\n",
    "        self.kernels = ModuleList(kernels)\n",
    "\n",
    "    def forward(self, x1, x2, diag=False, **params):\n",
    "        x1_eq_x2 = torch.equal(x1, x2)\n",
    "\n",
    "        if not x1_eq_x2:\n",
    "            # If x1 != x2, then we can't make a MulLazyTensor because the kernel won't necessarily be square/symmetric\n",
    "            res = delazify(self.kernels[0](x1, x2, diag=diag, **params))\n",
    "        else:\n",
    "            res = self.kernels[0](x1, x2, diag=diag, **params)\n",
    "\n",
    "            if not diag:\n",
    "                res = lazify(res)\n",
    "\n",
    "        for kern in self.kernels[1:]:\n",
    "            next_term = kern(x1, x2, diag=diag, **params)\n",
    "            if not x1_eq_x2:\n",
    "                # Again delazify if x1 != x2\n",
    "                res = res * delazify(next_term)\n",
    "            else:\n",
    "                if not diag:\n",
    "                    res = res * lazify(next_term)\n",
    "                else:\n",
    "                    res = res * next_term\n",
    "\n",
    "        return res\n",
    "\n",
    "    def num_outputs_per_input(self, x1, x2):\n",
    "        return self.kernels[0].num_outputs_per_input(x1, x2)\n",
    "\n",
    "    def __getitem__(self, index):\n",
    "        new_kernel = deepcopy(self)\n",
    "        for i, kernel in enumerate(self.kernels):\n",
    "            new_kernel.kernels[i] = self.kernels[i].__getitem__(index)\n",
    "\n",
    "        return new_kernel"
   ]
  },
  {
   "cell_type": "code",
   "execution_count": 11,
   "id": "cefe83a4-fe39-487d-b524-300e35eff88b",
   "metadata": {},
   "outputs": [],
   "source": [
    "def di_k(log_lda, log_eta, S1, S2, D2):\n",
    "    \n",
    "    lda = torch.exp(log_lda)\n",
    "    eta = torch.exp(log_eta)\n",
    "    \n",
    "    k = (((1 + lda + eta)**(S2 - L/2))\n",
    "    *((1 - lda + eta)**D2)\n",
    "    *((1 + eta)**(S1 - L/2)) \n",
    "    * (1 - eta)**((L - S1 - S2 - D2)))\n",
    "    \n",
    "    return k\n",
    "\n",
    "\n",
    "from gpytorch.constraints import Positive\n",
    "from gpytorch.constraints import LessThan\n",
    "\n",
    "class DiKernel(Kernel):\n",
    "    \"\"\"Diploid kernel\"\"\"\n",
    "\n",
    "    is_stationary = True\n",
    "\n",
    "    # We will register the parameter when initializing the kernel\n",
    "    def __init__(self, \n",
    "                lda_prior=None, lda_constraint=None, \n",
    "                eta_prior=None, eta_constraint=None,\n",
    "                **kwargs):\n",
    "      super().__init__(**kwargs)\n",
    "\n",
    "      # register the raw parameter\n",
    "      self.register_parameter(\n",
    "          name='raw_lda', \n",
    "          parameter=torch.nn.Parameter(torch.zeros(*self.batch_shape, 1, 1))\n",
    "      )\n",
    "\n",
    "      self.register_parameter(\n",
    "          name='raw_eta', \n",
    "          parameter=torch.nn.Parameter(torch.zeros(*self.batch_shape, 1, 1))\n",
    "      )\n",
    "\n",
    "      # set the parameter constraint to be positive, when nothing is specified\n",
    "      if lda_constraint is None:\n",
    "          lda_constraint = LessThan(upper_bound=0.)\n",
    "\n",
    "      if eta_constraint is None:\n",
    "          eta_constraint = LessThan(upper_bound=0.)\n",
    "\n",
    "      # register the constraint\n",
    "      self.register_constraint(\"raw_lda\", lda_constraint)\n",
    "      self.register_constraint(\"raw_eta\", eta_constraint)\n",
    "\n",
    "\n",
    "    # now set up the 'actual' paramter\n",
    "    @property\n",
    "    def lda(self):\n",
    "      # when accessing the parameter, apply the constraint transform\n",
    "      return self.raw_lda_constraint.transform(self.raw_lda)\n",
    "\n",
    "    @property\n",
    "    def eta(self):\n",
    "      # when accessing the parameter, apply the constraint transform\n",
    "      return self.raw_eta_constraint.transform(self.raw_eta)\n",
    "\n",
    "    @lda.setter\n",
    "    def lda(self, value):\n",
    "      return self._set_lda(value)\n",
    "\n",
    "    @eta.setter\n",
    "    def eta(self, value):\n",
    "      return self._set_eta(value)\n",
    "\n",
    "    def forward(self, geno1, geno2, **params):\n",
    "        geno1_ht = 1.*(geno1 == 1.)\n",
    "        geno2_ht = 1.*(geno2 == 1.)        \n",
    "        geno1_h0 = 1.*(geno1 == 0.)\n",
    "        geno1_h1 = 1.*(geno1 == 2.)\n",
    "        geno2_h0 = 1.*(geno2 == 0.)\n",
    "        geno2_h1 = 1.*(geno2 == 2.)\n",
    "\n",
    "        S1 = self.covar_dist(geno1_ht, geno2_ht, **params)\n",
    "        S2 = self.covar_dist(geno1_h0, geno2_h0, **params) + self.covar_dist(geno1_h1, geno2_h1, **params)\n",
    "        D2 = self.covar_dist(geno1_h0, geno2_h1, **params) + self.covar_dist(geno1_h1, geno2_h0, **params)\n",
    "\n",
    "#         res = torch.exp(-.01*S1)*torch.exp(-.05*S2)*torch.exp(-.02*D2)*torch.exp(-.001*(L - S1 - S2 - D2))\n",
    "#         return res\n",
    "\n",
    "        return di_k(self.lda, self.eta, S1, S2, D2)"
   ]
  },
  {
   "cell_type": "code",
   "execution_count": 12,
   "id": "b94d767c-aa32-41b1-892d-fa36af1c592f",
   "metadata": {},
   "outputs": [],
   "source": [
    "def rbf_k(length, S1, S2, D2):\n",
    "    D1 = L - S1 - S2 - D2\n",
    "    diff = (D1 + 4*D2)/L\n",
    "    return torch.exp(-length*diff)\n",
    "\n",
    "class RBFKernel(Kernel):\n",
    "    is_stationary = True\n",
    "\n",
    "    def __init__(self, length_prior=None, length_constraint=None, **kwargs):\n",
    "        super().__init__(**kwargs)        \n",
    "\n",
    "        # register the raw parameter\n",
    "        self.register_parameter(\n",
    "            name='raw_length', \n",
    "            parameter=torch.nn.Parameter(torch.zeros(*self.batch_shape, 1, 1))\n",
    "        )\n",
    "\n",
    "        # set the parameter constraint to be positive, when nothing is specified\n",
    "        length_constraint = Positive()\n",
    "            \n",
    "\n",
    "        # register the constraint\n",
    "        self.register_constraint(\"raw_length\", length_constraint)\n",
    "\n",
    "\n",
    "    # set up actual paramter\n",
    "    @property\n",
    "    def length(self):\n",
    "        # when accessing the parameter, apply the constraint transform\n",
    "        return self.raw_length_constraint.transform(self.raw_length)\n",
    "\n",
    "    @length.setter\n",
    "    def length(self, value):\n",
    "        return self._set_length(value)\n",
    "\n",
    "    def _set_length(self, value):\n",
    "        if not torch.is_tensor(value):\n",
    "            value = torch.as_tensor(value).to(self.raw_length)\n",
    "        # when setting the paramater, transform the actual value to a raw one by applying the inverse transform\n",
    "        self.initialize(raw_length=self.raw_length_constraint.inverse_transform(value))\n",
    "\n",
    "        \n",
    "#     def forward(self, geno1, geno2, **params):\n",
    "#         geno1_h0 = 1.*(geno1 == 0.)\n",
    "#         geno1_h1 = 1.*(geno1 == 2.)\n",
    "#         geno2_h0 = 1.*(geno2 == 0.)\n",
    "#         geno2_h1 = 1.*(geno2 == 2.)\n",
    "\n",
    "#         S1 = self.covar_dist(geno1, geno2, **params)\n",
    "#         S2 = self.covar_dist(geno1_h0, geno2_h0, **params) + self.covar_dist(geno1_h1, geno2_h1, **params)\n",
    "#         D2 = self.covar_dist(geno1_h0, geno2_h1, **params) + self.covar_dist(geno1_h1, geno2_h0, **params)\n",
    "\n",
    "# #         res = torch.exp(-.01*S1)*torch.exp(-.05*S2)*torch.exp(-.02*D2)*torch.exp(-.001*(L - S1 - S2 - D2))\n",
    "# #         return res\n",
    "\n",
    "#         return rbf_k(self.length, S1, S2, D2)\n",
    "\n",
    "#     def calc_d(self, geno1, geno2, **params):\n",
    "#         geno1_ht = 1.*(geno1 == 1.)\n",
    "#         geno2_ht = 1.*(geno2 == 1.)\n",
    "#         geno1_h0 = 1.*(geno1 == 0.)\n",
    "#         geno1_h1 = 1.*(geno1 == 2.)\n",
    "#         geno2_h0 = 1.*(geno2 == 0.)\n",
    "#         geno2_h1 = 1.*(geno2 == 2.)\n",
    "\n",
    "#         S1 = self.covar_dist(geno1_ht, geno2_ht, **params)\n",
    "#         S2 = self.covar_dist(geno1_h0, geno2_h0, **params) + self.covar_dist(geno1_h1, geno2_h1, **params)\n",
    "#         D2 = self.covar_dist(geno1_h0, geno2_h1, **params) + self.covar_dist(geno1_h1, geno2_h0, **params)\n",
    "#         D1 = L - S1 - S2 - D2\n",
    "#         diff = (D1 + 4*D2)/L\n",
    "#         return S1, S2, D2\n",
    "\n",
    "#     def forward(self, geno1, geno2, diag=False, **params):\n",
    "#         geno1_ht = 1.*(geno1 == 1.)\n",
    "#         geno2_ht = 1.*(geno2 == 1.)\n",
    "#         geno1_h0 = 1.*(geno1 == 0.)\n",
    "#         geno1_h1 = 1.*(geno1 == 2.)\n",
    "#         geno2_h0 = 1.*(geno2 == 0.)\n",
    "#         geno2_h1 = 1.*(geno2 == 2.)\n",
    "\n",
    "#         S1 = self.covar_dist(geno1_ht, geno2_ht, **params)\n",
    "#         S2 = self.covar_dist(geno1_h0, geno2_h0, **params) + self.covar_dist(geno1_h1, geno2_h1, **params)\n",
    "#         D2 = self.covar_dist(geno1_h0, geno2_h1, **params) + self.covar_dist(geno1_h1, geno2_h0, **params)\n",
    "        \n",
    "#         return rbf_k(self.length, S1, S2, D2)\n",
    "\n",
    "    def forward(self, geno1, geno2, diag=False, **params):\n",
    "        geno1_ht = 1.*(geno1 == 1.)\n",
    "        geno2_ht = 1.*(geno2 == 1.)\n",
    "        geno1_h0 = 1.*(geno1 == 0.)\n",
    "        geno1_h1 = 1.*(geno1 == 2.)\n",
    "        geno2_h0 = 1.*(geno2 == 0.)\n",
    "        geno2_h1 = 1.*(geno2 == 2.)\n",
    "\n",
    "        S1 = self.covar_dist(geno1_ht, geno2_ht, **params)\n",
    "        S2 = self.covar_dist(geno1_h0, geno2_h0, **params) + self.covar_dist(geno1_h1, geno2_h1, **params)\n",
    "        D2 = self.covar_dist(geno1_h0, geno2_h1, **params) + self.covar_dist(geno1_h1, geno2_h0, **params)\n",
    "        D1 = L - S1 - S2 - D2\n",
    "        diff = (D1 + 4*D2)/L\n",
    "\n",
    "        return torch.exp(-diff)\n",
    "    "
   ]
  },
  {
   "cell_type": "code",
   "execution_count": 13,
   "id": "4f561d0c-d477-480e-9ddd-9a1aaadf5c13",
   "metadata": {
    "tags": []
   },
   "outputs": [],
   "source": [
    "class DiGPModel(gpytorch.models.ExactGP):\n",
    "    def __init__(self, train_x, train_y, likelihood, n_devices):\n",
    "        super(DiGPModel, self).__init__(train_x, train_y, likelihood)\n",
    "        self.mean_module = gpytorch.means.ConstantMean()\n",
    "        base_covar_module = DiKernel()\n",
    "\n",
    "        self.covar_module = gpytorch.kernels.MultiDeviceKernel(\n",
    "            base_covar_module, device_ids=range(n_devices),\n",
    "            output_device=output_device\n",
    "        )\n",
    "\n",
    "    def forward(self, x):\n",
    "        mean_x = self.mean_module(x)\n",
    "        covar_x = self.covar_module(x)\n",
    "        return gpytorch.distributions.MultivariateNormal(mean_x, covar_x)"
   ]
  },
  {
   "cell_type": "code",
   "execution_count": 14,
   "id": "9032415c-85ad-43d1-9216-753f5bc6daf1",
   "metadata": {
    "tags": []
   },
   "outputs": [],
   "source": [
    "class ExactGPModel(gpytorch.models.ExactGP):\n",
    "    def __init__(self, train_x, train_y, likelihood, n_devices, ker):\n",
    "        super(ExactGPModel, self).__init__(train_x, train_y, likelihood)\n",
    "        self.mean_module = gpytorch.means.ConstantMean()\n",
    "        base_covar_module = ker\n",
    "\n",
    "        self.covar_module = gpytorch.kernels.MultiDeviceKernel(\n",
    "            base_covar_module, device_ids=range(n_devices),\n",
    "            output_device=output_device\n",
    "        )\n",
    "\n",
    "    def forward(self, x):\n",
    "        mean_x = self.mean_module(x)\n",
    "        covar_x = self.covar_module(x)\n",
    "        return gpytorch.distributions.MultivariateNormal(mean_x, covar_x)"
   ]
  },
  {
   "cell_type": "code",
   "execution_count": 12,
   "id": "b80a9cc2-b5d6-4dd8-98e9-657257593816",
   "metadata": {},
   "outputs": [],
   "source": [
    "rl(Kernels)"
   ]
  },
  {
   "cell_type": "code",
   "execution_count": 11,
   "id": "680f3cdf-408b-4834-9bbd-9aa0f031f39c",
   "metadata": {},
   "outputs": [],
   "source": [
    "import Kernels"
   ]
  },
  {
   "cell_type": "code",
   "execution_count": 13,
   "id": "fef447d1-a2f1-4d29-9d3b-853929d047dc",
   "metadata": {},
   "outputs": [],
   "source": [
    "from Kernels import get_envs"
   ]
  },
  {
   "cell_type": "code",
   "execution_count": 17,
   "id": "5b9c1f30-ed13-4552-93a6-32cad32a751a",
   "metadata": {},
   "outputs": [],
   "source": [
    "env_list = get_envs()\n",
    "env = env_list[5]"
   ]
  },
  {
   "cell_type": "code",
   "execution_count": 15,
   "id": "ca9b5f8a-9347-4381-bfa5-688016db6c3a",
   "metadata": {},
   "outputs": [
    {
     "name": "stderr",
     "output_type": "stream",
     "text": [
      "/scratch/local/43122499/ipykernel_241665/2080791058.py:17: UserWarning: To copy construct from a tensor, it is recommended to use sourceTensor.clone().detach() or sourceTensor.clone().detach().requires_grad_(True), rather than torch.tensor(sourceTensor).\n",
      "  geno_t = torch.tensor(geno_t, dtype=torch.float)\n"
     ]
    }
   ],
   "source": [
    "geno_file_list = []\n",
    "for path, currentDirectory, files in os.walk(\"96ghpptzvf-4/SData2/\"):\n",
    "    for file in files:\n",
    "        if file.endswith(\"geno.txt\"):\n",
    "            geno_file_list.append(file)\n",
    "\n",
    "geno_file_list = list(set(geno_file_list))\n",
    "\n",
    "env_list = [file.split('_')[0] for file in geno_file_list]\n",
    "env_list = sorted(env_list)\n",
    "env = env_list[5]\n",
    "\n",
    "df = pd.read_csv(\"96ghpptzvf-4/SData2/\"+ env + \"_geno.txt\", sep='\\t', nrows=5, engine='python')\n",
    "ids = list(df.columns[3:])\n",
    "\n",
    "geno_t = torch.load(env + '_matsui_geno_t.pt')\n",
    "geno_t = torch.tensor(geno_t, dtype=torch.float)\n",
    "geno_t = torch.transpose(geno_t, 0, 1)\n",
    "N, L = geno_t.shape\n",
    "\n",
    "pheno = pd.read_csv(\"96ghpptzvf-4/SData6/\" + env + \"_pheno.txt\", sep='\\t', engine=\"python\")\n",
    "pheno = pheno.set_index('geno')\n",
    "pheno = pheno.loc[ids]"
   ]
  },
  {
   "cell_type": "code",
   "execution_count": 1,
   "id": "3a2ed801-2db3-46f8-91d9-5982023ee26d",
   "metadata": {
    "tags": []
   },
   "outputs": [
    {
     "ename": "NameError",
     "evalue": "name 'np' is not defined",
     "output_type": "error",
     "traceback": [
      "\u001b[0;31m---------------------------------------------------------------------------\u001b[0m",
      "\u001b[0;31mNameError\u001b[0m                                 Traceback (most recent call last)",
      "\u001b[0;32m/scratch/local/43122499/ipykernel_101532/432431313.py\u001b[0m in \u001b[0;36m<module>\u001b[0;34m\u001b[0m\n\u001b[0;32m----> 1\u001b[0;31m \u001b[0minds_sub\u001b[0m \u001b[0;34m=\u001b[0m \u001b[0mnp\u001b[0m\u001b[0;34m.\u001b[0m\u001b[0mwhere\u001b[0m\u001b[0;34m(\u001b[0m\u001b[0mnp\u001b[0m\u001b[0;34m.\u001b[0m\u001b[0marray\u001b[0m\u001b[0;34m(\u001b[0m\u001b[0mpheno\u001b[0m\u001b[0;34m.\u001b[0m\u001b[0mpheno\u001b[0m \u001b[0;34m<\u001b[0m \u001b[0;34m-\u001b[0m\u001b[0;36m0.6\u001b[0m\u001b[0;34m)\u001b[0m \u001b[0;34m==\u001b[0m \u001b[0;32mFalse\u001b[0m\u001b[0;34m)\u001b[0m\u001b[0;34m[\u001b[0m\u001b[0;36m0\u001b[0m\u001b[0;34m]\u001b[0m\u001b[0;34m\u001b[0m\u001b[0;34m\u001b[0m\u001b[0m\n\u001b[0m\u001b[1;32m      2\u001b[0m \u001b[0;34m\u001b[0m\u001b[0m\n\u001b[1;32m      3\u001b[0m \u001b[0mnp\u001b[0m\u001b[0;34m.\u001b[0m\u001b[0mrandom\u001b[0m\u001b[0;34m.\u001b[0m\u001b[0mseed\u001b[0m\u001b[0;34m(\u001b[0m\u001b[0;36m100\u001b[0m\u001b[0;34m)\u001b[0m\u001b[0;34m\u001b[0m\u001b[0;34m\u001b[0m\u001b[0m\n\u001b[1;32m      4\u001b[0m \u001b[0msub\u001b[0m \u001b[0;34m=\u001b[0m \u001b[0mnp\u001b[0m\u001b[0;34m.\u001b[0m\u001b[0mrandom\u001b[0m\u001b[0;34m.\u001b[0m\u001b[0mchoice\u001b[0m\u001b[0;34m(\u001b[0m\u001b[0minds_sub\u001b[0m\u001b[0;34m,\u001b[0m \u001b[0;36m100000\u001b[0m\u001b[0;34m)\u001b[0m\u001b[0;34m\u001b[0m\u001b[0;34m\u001b[0m\u001b[0m\n\u001b[1;32m      5\u001b[0m \u001b[0msub_t\u001b[0m \u001b[0;34m=\u001b[0m \u001b[0mnp\u001b[0m\u001b[0;34m.\u001b[0m\u001b[0mrandom\u001b[0m\u001b[0;34m.\u001b[0m\u001b[0mchoice\u001b[0m\u001b[0;34m(\u001b[0m\u001b[0mlist\u001b[0m\u001b[0;34m(\u001b[0m\u001b[0mset\u001b[0m\u001b[0;34m(\u001b[0m\u001b[0minds_sub\u001b[0m\u001b[0;34m)\u001b[0m\u001b[0;34m.\u001b[0m\u001b[0mdifference\u001b[0m\u001b[0;34m(\u001b[0m\u001b[0msub\u001b[0m\u001b[0;34m)\u001b[0m\u001b[0;34m)\u001b[0m\u001b[0;34m,\u001b[0m \u001b[0;36m5000\u001b[0m\u001b[0;34m)\u001b[0m\u001b[0;34m\u001b[0m\u001b[0;34m\u001b[0m\u001b[0m\n",
      "\u001b[0;31mNameError\u001b[0m: name 'np' is not defined"
     ]
    }
   ],
   "source": [
    "inds_sub = np.where(np.array(pheno.pheno < -0.6) == False)[0]\n",
    "\n",
    "np.random.seed(100)\n",
    "sub = np.random.choice(inds_sub, 100000)\n",
    "sub_t = np.random.choice(list(set(inds_sub).difference(sub)), 5000)\n",
    "\n",
    "train_x = geno_t[sub]\n",
    "train_y = torch.tensor(np.array(pheno.pheno[sub]), dtype=torch.float32)\n",
    "\n",
    "test_x = geno_t[sub_t]\n",
    "test_y = torch.tensor(np.array(pheno.pheno[sub_t]), dtype=torch.float32)\n",
    "\n",
    "train_x, train_y = train_x.contiguous(), train_y.contiguous()\n",
    "test_x, test_y = test_x.contiguous(), test_y.contiguous()\n",
    "\n",
    "train_x, train_y = train_x.to(output_device), train_y.to(output_device)\n",
    "test_x, test_y = test_x.to(output_device), test_y.to(output_device)"
   ]
  },
  {
   "cell_type": "code",
   "execution_count": null,
   "id": "e4eec356-ef3d-4c09-911e-06a4de5b7d7b",
   "metadata": {},
   "outputs": [],
   "source": [
    "x1 = train_x[:10]\n",
    "x2 = train_x[10:20]"
   ]
  },
  {
   "cell_type": "markdown",
   "id": "898a61ef-48c6-4a6b-97d4-54ad9db1f832",
   "metadata": {},
   "source": [
    "### Control: Diploid kernel"
   ]
  },
  {
   "cell_type": "code",
   "execution_count": null,
   "id": "5b0c2fba-c3b7-4d7c-ad1f-8ecda20ff84d",
   "metadata": {},
   "outputs": [],
   "source": [
    "likelihood = gpytorch.likelihoods.GaussianLikelihood().to(output_device)\n",
    "model = DiGPModel(train_x, train_y, likelihood, n_devices)\n",
    "model.covar_module.module.raw_lda = torch.nn.Parameter(torch.tensor(-8.))\n",
    "model.covar_module.module.raw_eta = torch.nn.Parameter(torch.tensor(-12.))\n",
    "model = model.to(output_device)"
   ]
  },
  {
   "cell_type": "code",
   "execution_count": null,
   "id": "91d391da-6809-43f2-81eb-c2db2b9b449a",
   "metadata": {
    "tags": []
   },
   "outputs": [],
   "source": [
    "preconditioner_size = 100\n",
    "checkpoint_size = train_x.shape[0]//8\n",
    "test_x = test_x.cuda()\n",
    "model.eval()\n",
    "likelihood.eval()\n",
    "\n",
    "with gpytorch.beta_features.checkpoint_kernel(checkpoint_size):\n",
    "    f_preds = model(test_x)"
   ]
  },
  {
   "cell_type": "code",
   "execution_count": null,
   "id": "b2c9a81e-4906-429a-a8b1-885b8c7531a1",
   "metadata": {
    "tags": []
   },
   "outputs": [],
   "source": [
    "f_mean = f_preds.mean.cpu().detach().numpy()\n",
    "y_test = test_y.detach().cpu().numpy()\n",
    "\n",
    "figure(figsize=(5, 5), dpi=80)\n",
    "plt.plot(f_mean, y_test, 'o', alpha=.3)\n",
    "plt.show()\n",
    "print('r2 = %f'%pearsonr(f_mean, y_test)[0]**2)\n",
    "print('R2 = %f'%r2(y_test, f_mean))\n",
    "print('mse = %f'%mse(f_mean, y_test))"
   ]
  },
  {
   "cell_type": "markdown",
   "id": "7d121469-d6b9-4e3e-8392-845adec1e7a9",
   "metadata": {},
   "source": [
    "### Test on small training data"
   ]
  },
  {
   "cell_type": "code",
   "execution_count": 86,
   "id": "7cbd19ca-f012-493b-a87d-381c9e0881c3",
   "metadata": {},
   "outputs": [],
   "source": [
    "ker = gpytorch.kernels.ScaleKernel(gpytorch.kernels.RBFKernel()).to(output_device)\n",
    "ker = gpytorch.kernels.RBFKernel().to(output_device)"
   ]
  },
  {
   "cell_type": "code",
   "execution_count": 87,
   "id": "44cd759b-7d4d-4a5c-b66d-2eb65ae3317a",
   "metadata": {},
   "outputs": [
    {
     "data": {
      "text/plain": [
       "OrderedDict([('raw_lengthscale', tensor([[0.]], device='cuda:0')),\n",
       "             ('raw_lengthscale_constraint.lower_bound',\n",
       "              tensor(0., device='cuda:0')),\n",
       "             ('raw_lengthscale_constraint.upper_bound',\n",
       "              tensor(inf, device='cuda:0'))])"
      ]
     },
     "execution_count": 87,
     "metadata": {},
     "output_type": "execute_result"
    }
   ],
   "source": [
    "ker.state_dict()"
   ]
  },
  {
   "cell_type": "code",
   "execution_count": 88,
   "id": "70814a83-817d-4885-947c-08f3d94d7220",
   "metadata": {},
   "outputs": [
    {
     "data": {
      "text/plain": [
       "OrderedDict([('raw_lengthscale', tensor([[0.]], device='cuda:0')),\n",
       "             ('raw_lengthscale_constraint.lower_bound',\n",
       "              tensor(0., device='cuda:0')),\n",
       "             ('raw_lengthscale_constraint.upper_bound',\n",
       "              tensor(inf, device='cuda:0'))])"
      ]
     },
     "execution_count": 88,
     "metadata": {},
     "output_type": "execute_result"
    }
   ],
   "source": [
    "ker.state_dict()"
   ]
  },
  {
   "cell_type": "code",
   "execution_count": 112,
   "id": "97950923-3617-4db2-8c0f-b48f52639954",
   "metadata": {},
   "outputs": [],
   "source": [
    "ls = torch.nn.Parameter(torch.tensor([[-5.]]))"
   ]
  },
  {
   "cell_type": "code",
   "execution_count": 113,
   "id": "feefab62-db89-4d39-9590-6b1c1604ff0f",
   "metadata": {},
   "outputs": [
    {
     "data": {
      "text/plain": [
       "RBFKernel(\n",
       "  (raw_lengthscale_constraint): Positive()\n",
       "  (distance_module): Distance()\n",
       ")"
      ]
     },
     "execution_count": 113,
     "metadata": {},
     "output_type": "execute_result"
    }
   ],
   "source": [
    "ker.raw_lengthscale = ls\n",
    "ker.to(output_device)"
   ]
  },
  {
   "cell_type": "code",
   "execution_count": 115,
   "id": "1ca81a01-b859-4bb1-877c-cb1ff932e4d4",
   "metadata": {},
   "outputs": [
    {
     "data": {
      "text/plain": [
       "tensor([[1.0000, 0.1925, 0.2045, 0.2168, 0.2200, 0.3206, 0.1962, 0.4119, 0.2367,\n",
       "         0.2102],\n",
       "        [0.1925, 1.0000, 0.1828, 0.2205, 0.1950, 0.1868, 0.1498, 0.2436, 0.1656,\n",
       "         0.1639],\n",
       "        [0.2045, 0.1828, 1.0000, 0.2770, 0.2547, 0.1838, 0.1995, 0.2809, 0.2593,\n",
       "         0.1969],\n",
       "        [0.2168, 0.2205, 0.2770, 1.0000, 0.1778, 0.2399, 0.2188, 0.2370, 0.3215,\n",
       "         0.2401],\n",
       "        [0.2200, 0.1950, 0.2547, 0.1778, 1.0000, 0.1604, 0.2465, 0.2726, 0.2545,\n",
       "         0.2351],\n",
       "        [0.3206, 0.1868, 0.1838, 0.2399, 0.1604, 1.0000, 0.1788, 0.3050, 0.2800,\n",
       "         0.2470],\n",
       "        [0.1962, 0.1498, 0.1995, 0.2188, 0.2465, 0.1788, 1.0000, 0.1754, 0.2470,\n",
       "         0.2930],\n",
       "        [0.4119, 0.2436, 0.2809, 0.2370, 0.2726, 0.3050, 0.1754, 1.0000, 0.2546,\n",
       "         0.2505],\n",
       "        [0.2367, 0.1656, 0.2593, 0.3215, 0.2545, 0.2800, 0.2470, 0.2546, 1.0000,\n",
       "         0.2304],\n",
       "        [0.2102, 0.1639, 0.1969, 0.2401, 0.2351, 0.2470, 0.2930, 0.2505, 0.2304,\n",
       "         1.0000]], device='cuda:0', grad_fn=<RBFCovarianceBackward>)"
      ]
     },
     "execution_count": 115,
     "metadata": {},
     "output_type": "execute_result"
    }
   ],
   "source": [
    "ker(x1/L, x1/L).evaluate()"
   ]
  },
  {
   "cell_type": "code",
   "execution_count": 70,
   "id": "b4d7e143-a667-4c52-ab4d-5a793fa5d1ee",
   "metadata": {},
   "outputs": [
    {
     "data": {
      "text/plain": [
       "tensor([[ 89.4727,  95.0796,  99.3620,  95.3247,  90.1218,  91.1756,  87.7513,\n",
       "          88.9931,  92.6157,  83.0506],\n",
       "        [ 94.1384,  90.8895,  82.3053,  90.9739,  94.1842,  94.2860,  87.4397,\n",
       "          89.1014,  95.5431,  98.0323],\n",
       "        [ 88.5815,  84.0687,  85.7816,  82.3303,  89.8375,  84.9743,  86.9586,\n",
       "          97.0815,  88.4477,  92.1336],\n",
       "        [ 84.4071,  87.6890,  82.9835,  83.4276,  93.7049,  80.8839,  77.1340,\n",
       "          77.9550,  83.8739,  88.0369],\n",
       "        [ 80.4757,  88.5139,  86.0221,  84.8645,  90.0569,  86.9686,  93.5664,\n",
       "          90.6443,  89.9461, 101.4487],\n",
       "        [ 90.8344,  85.4283,  95.8678,  92.6740,  97.5362,  92.3388,  87.3040,\n",
       "          89.4281,  93.2592,  88.9674],\n",
       "        [ 81.7279,  87.9421,  93.7064,  91.6986, 106.9635,  93.8651,  91.7492,\n",
       "          94.1675,  88.9465,  97.8207],\n",
       "        [ 86.0479,  90.5384,  90.2665,  84.1662,  83.3121,  89.0627,  83.6023,\n",
       "          87.9009,  91.4042,  82.1971],\n",
       "        [ 82.2423,  87.2850,  85.3081,  87.4491,  99.0645,  83.7588,  77.8259,\n",
       "          81.1934,  91.4770,  85.8477],\n",
       "        [ 84.3998,  80.7228,  97.2049,  84.7634,  95.6739,  87.1933,  86.0115,\n",
       "          88.1800,  86.4377,  90.3726]], device='cuda:0')"
      ]
     },
     "execution_count": 70,
     "metadata": {},
     "output_type": "execute_result"
    }
   ],
   "source": [
    "ker.covar_dist(x1, x2)"
   ]
  },
  {
   "cell_type": "code",
   "execution_count": 73,
   "id": "7d402c94-84d9-42f0-8376-8d1e4c645184",
   "metadata": {},
   "outputs": [],
   "source": [
    "Dmat = d(x1, x2)"
   ]
  },
  {
   "cell_type": "code",
   "execution_count": 74,
   "id": "ca7d885b-a85f-4265-ad31-49eb987f13e3",
   "metadata": {},
   "outputs": [
    {
     "data": {
      "text/plain": [
       "tensor([[ 8005.,  9040.,  9875.,  9089.,  8122.,  8312.,  7700.,  7921.,  8579.,\n",
       "          6899.],\n",
       "        [ 8862.,  8261.,  6776.,  8278.,  8871.,  8889.,  7645.,  7940.,  9130.,\n",
       "          9612.],\n",
       "        [ 7845.,  7066.,  7359.,  6779.,  8070.,  7218.,  7560.,  9425.,  7823.,\n",
       "          8489.],\n",
       "        [ 7123.,  7688.,  6887.,  6961.,  8780.,  6540.,  5948.,  6077.,  7035.,\n",
       "          7751.],\n",
       "        [ 6475.,  7834.,  7401.,  7203.,  8110.,  7562.,  8754.,  8217.,  8091.,\n",
       "         10293.],\n",
       "        [ 8250.,  7297.,  9192.,  8590.,  9513.,  8525.,  7621.,  7998.,  8698.,\n",
       "          7916.],\n",
       "        [ 6678.,  7733.,  8782.,  8410., 11441.,  8809.,  8417.,  8868.,  7912.,\n",
       "          9570.],\n",
       "        [ 7403.,  8196.,  8149.,  7085.,  6940.,  7930.,  6988.,  7727.,  8355.,\n",
       "          6757.],\n",
       "        [ 6763.,  7618.,  7279.,  7649.,  9814.,  7014.,  6056.,  6593.,  8369.,\n",
       "          7371.],\n",
       "        [ 7123.,  6516.,  9451.,  7187.,  9154.,  7602.,  7398.,  7777.,  7473.,\n",
       "          8169.]], device='cuda:0')"
      ]
     },
     "execution_count": 74,
     "metadata": {},
     "output_type": "execute_result"
    }
   ],
   "source": [
    "Dmat[2] + 4*Dmat[3]"
   ]
  },
  {
   "cell_type": "code",
   "execution_count": 121,
   "id": "ebef479a-79b2-4719-aaee-05e5b95b3f29",
   "metadata": {
    "tags": []
   },
   "outputs": [],
   "source": [
    "class RBFGPModel(gpytorch.models.ExactGP):\n",
    "    def __init__(self, train_x, train_y, likelihood, n_devices):\n",
    "        super(RBFGPModel, self).__init__(train_x, train_y, likelihood)\n",
    "        self.mean_module = gpytorch.means.ConstantMean()\n",
    "#         base_covar_module = gpytorch.kernels.ScaleKernel(gpytorch.kernels.RBFKernel())\n",
    "        base_covar_module = ker\n",
    "\n",
    "\n",
    "        self.covar_module = gpytorch.kernels.MultiDeviceKernel(\n",
    "            base_covar_module, device_ids=range(n_devices),\n",
    "            output_device=output_device\n",
    "        )\n",
    "\n",
    "    def forward(self, x):\n",
    "        mean_x = self.mean_module(x)\n",
    "        covar_x = self.covar_module(x)\n",
    "        return gpytorch.distributions.MultivariateNormal(mean_x, covar_x)"
   ]
  },
  {
   "cell_type": "code",
   "execution_count": 49,
   "id": "eccf0a19-2079-4470-b691-38d8db5e26ac",
   "metadata": {},
   "outputs": [],
   "source": [
    "def train_model(model, \n",
    "                likelihood, \n",
    "                train_x, \n",
    "                train_y, \n",
    "                checkpoint_size, \n",
    "                preconditioner_size, \n",
    "                training_iter=300, \n",
    "                lr=.05):\n",
    "    losses = []\n",
    "    optimizer = torch.optim.AdamW(model.parameters(), lr)\n",
    "    mll = gpytorch.mlls.ExactMarginalLogLikelihood(likelihood, model)\n",
    "    \n",
    "    for i in range(training_iter):\n",
    "        print(i)\n",
    "        with gpytorch.beta_features.checkpoint_kernel(checkpoint_size):\n",
    "            output = model(train_x)\n",
    "            loss = -mll(output, train_y)\n",
    "            loss.backward()  \n",
    "            losses.append(loss.item())\n",
    "            optimizer.step()"
   ]
  },
  {
   "cell_type": "code",
   "execution_count": 54,
   "id": "70d04ac7-a037-461b-8b4c-5c245a17ffc6",
   "metadata": {
    "tags": []
   },
   "outputs": [],
   "source": [
    "inds_sub = np.where(np.array(pheno.pheno < -0.6) == False)[0]\n",
    "\n",
    "np.random.seed(100)\n",
    "sub = np.random.choice(inds_sub, 10000)\n",
    "sub_t = np.random.choice(list(set(inds_sub).difference(sub)), 5000)\n",
    "\n",
    "train_x = geno_t[sub]\n",
    "train_y = torch.tensor(np.array(pheno.pheno[sub]), dtype=torch.float32)\n",
    "\n",
    "test_x = geno_t[sub_t]\n",
    "test_y = torch.tensor(np.array(pheno.pheno[sub_t]), dtype=torch.float32)\n",
    "\n",
    "train_x, train_y = train_x.contiguous(), train_y.contiguous()\n",
    "test_x, test_y = test_x.contiguous(), test_y.contiguous()\n",
    "\n",
    "train_x, train_y = train_x.to(output_device), train_y.to(output_device)\n",
    "test_x, test_y = test_x.to(output_device), test_y.to(output_device)"
   ]
  },
  {
   "cell_type": "code",
   "execution_count": 128,
   "id": "547409fa-3ddd-4348-b3ad-a08c827a69e2",
   "metadata": {},
   "outputs": [],
   "source": [
    "ls = torch.nn.Parameter(torch.tensor([[-5.]]))"
   ]
  },
  {
   "cell_type": "code",
   "execution_count": 179,
   "id": "b53a23a0-e6ef-4e57-a405-e6be6f1c3c27",
   "metadata": {},
   "outputs": [
    {
     "data": {
      "text/plain": [
       "RBFKernel(\n",
       "  (raw_lengthscale_constraint): Positive()\n",
       ")"
      ]
     },
     "execution_count": 179,
     "metadata": {},
     "output_type": "execute_result"
    }
   ],
   "source": [
    "ker = gpytorch.kernels.ScaleKernel(gpytorch.kernels.RBFKernel()).to(output_device)\n",
    "ker = gpytorch.kernels.RBFKernel().to(output_device)\n",
    "ker.raw_lengthscale = ls\n",
    "ker.to(output_device)"
   ]
  },
  {
   "cell_type": "code",
   "execution_count": 207,
   "id": "61e9326f-0fa2-4a28-a52a-4c49a27f6f1d",
   "metadata": {},
   "outputs": [],
   "source": [
    "likelihood = gpytorch.likelihoods.GaussianLikelihood().to(output_device)\n",
    "model = RBFGPModel(train_x, train_y, likelihood, n_devices)\n",
    "mll = gpytorch.mlls.ExactMarginalLogLikelihood(likelihood, model)\n",
    "optimizer = torch.optim.AdamW(model.parameters(), .02)"
   ]
  },
  {
   "cell_type": "code",
   "execution_count": 208,
   "id": "fc7292d7-c70e-4d6b-afeb-a124746b4a36",
   "metadata": {},
   "outputs": [],
   "source": [
    "model = model.to(output_device)"
   ]
  },
  {
   "cell_type": "code",
   "execution_count": 209,
   "id": "3d130a09-4e21-4fd0-aa2d-91b5040bcb91",
   "metadata": {},
   "outputs": [],
   "source": [
    "model.covar_module.module.lengthscale = torch.tensor([[100.]]).to(output_device)"
   ]
  },
  {
   "cell_type": "code",
   "execution_count": 210,
   "id": "425a2ea3-c07c-4cc2-b85f-d6521f53622e",
   "metadata": {},
   "outputs": [],
   "source": [
    "checkpoint_size = train_x.shape[0]//8\n",
    "checkpoint_size = 0\n",
    "preconditioner_size = 100"
   ]
  },
  {
   "cell_type": "code",
   "execution_count": 211,
   "id": "fa578c25-e956-4f82-8f0b-3759f362c8ab",
   "metadata": {
    "collapsed": true,
    "jupyter": {
     "outputs_hidden": true
    },
    "tags": []
   },
   "outputs": [
    {
     "name": "stdout",
     "output_type": "stream",
     "text": [
      "0\n",
      "1\n",
      "2\n",
      "3\n"
     ]
    },
    {
     "name": "stderr",
     "output_type": "stream",
     "text": [
      "/home/juannanzhou/.local/lib/python3.8/site-packages/gpytorch/utils/linear_cg.py:234: UserWarning: An output with one or more elements was resized since it had shape [11], which does not match the required output shape [1, 11].This behavior is deprecated, and in a future PyTorch release outputs will not be resized unless they have zero elements. You can explicitly reuse an out tensor t by resizing it, inplace, to zero elements with t.resize_(0). (Triggered internally at  /pytorch/aten/src/ATen/native/Resize.cpp:23.)\n",
      "  torch.sum(mul_storage, -2, keepdim=True, out=alpha)\n"
     ]
    },
    {
     "name": "stdout",
     "output_type": "stream",
     "text": [
      "4\n",
      "5\n",
      "6\n",
      "7\n",
      "8\n",
      "9\n",
      "10\n",
      "11\n",
      "12\n",
      "13\n",
      "14\n",
      "15\n",
      "16\n",
      "17\n",
      "18\n",
      "19\n",
      "20\n",
      "21\n",
      "22\n",
      "23\n",
      "24\n",
      "25\n",
      "26\n",
      "27\n",
      "28\n",
      "29\n",
      "30\n",
      "31\n",
      "32\n",
      "33\n",
      "34\n",
      "35\n",
      "36\n",
      "37\n",
      "38\n",
      "39\n",
      "40\n",
      "41\n",
      "42\n",
      "43\n",
      "44\n",
      "45\n",
      "46\n",
      "47\n",
      "48\n",
      "49\n",
      "50\n",
      "51\n",
      "52\n",
      "53\n",
      "54\n",
      "55\n",
      "56\n",
      "57\n",
      "58\n",
      "59\n",
      "60\n",
      "61\n",
      "62\n",
      "63\n",
      "64\n",
      "65\n",
      "66\n",
      "67\n",
      "68\n",
      "69\n",
      "70\n",
      "71\n",
      "72\n",
      "73\n",
      "74\n",
      "75\n",
      "76\n",
      "77\n",
      "78\n",
      "79\n",
      "80\n",
      "81\n",
      "82\n",
      "83\n",
      "84\n",
      "85\n",
      "86\n",
      "87\n",
      "88\n",
      "89\n",
      "90\n",
      "91\n",
      "92\n",
      "93\n",
      "94\n",
      "95\n",
      "96\n",
      "97\n",
      "98\n",
      "99\n"
     ]
    }
   ],
   "source": [
    "losses = train_model(model, \n",
    "                likelihood, \n",
    "                train_x, \n",
    "                train_y, \n",
    "                checkpoint_size, \n",
    "                preconditioner_size, \n",
    "                training_iter=100, \n",
    "                lr=.02)"
   ]
  },
  {
   "cell_type": "code",
   "execution_count": 216,
   "id": "74ef23b0-9e4a-4147-bc28-d8281786b08e",
   "metadata": {},
   "outputs": [
    {
     "data": {
      "text/plain": [
       "tensor([[96.0399]], device='cuda:0', grad_fn=<SoftplusBackward>)"
      ]
     },
     "execution_count": 216,
     "metadata": {},
     "output_type": "execute_result"
    }
   ],
   "source": [
    "model.covar_module.module.lengthscale"
   ]
  },
  {
   "cell_type": "code",
   "execution_count": 212,
   "id": "564cb4aa-65c6-4ce8-8abb-2c9c2d1843c8",
   "metadata": {
    "tags": []
   },
   "outputs": [],
   "source": [
    "preconditioner_size = 100\n",
    "checkpoint_size = train_x.shape[0]//8\n",
    "checkpoint_size = 0\n",
    "\n",
    "test_x = test_x.cuda()\n",
    "model.eval()\n",
    "likelihood.eval()\n",
    "\n",
    "with gpytorch.beta_features.checkpoint_kernel(checkpoint_size):\n",
    "    f_preds = model(test_x)"
   ]
  },
  {
   "cell_type": "code",
   "execution_count": 213,
   "id": "12557a09-99d6-4dbd-bcd6-e0315aba201f",
   "metadata": {
    "tags": []
   },
   "outputs": [
    {
     "data": {
      "image/png": "[encoded data removed]",
      "text/plain": [
       "<Figure size 400x400 with 1 Axes>"
      ]
     },
     "metadata": {
      "needs_background": "light"
     },
     "output_type": "display_data"
    },
    {
     "name": "stdout",
     "output_type": "stream",
     "text": [
      "r2 = 0.503103\n",
      "R2 = 0.497309\n",
      "mse = 0.004179\n"
     ]
    }
   ],
   "source": [
    "f_mean = f_preds.mean.cpu().detach().numpy()\n",
    "y_test = test_y.detach().cpu().numpy()\n",
    "\n",
    "figure(figsize=(5, 5), dpi=80)\n",
    "plt.plot(f_mean, y_test, 'o', alpha=.3)\n",
    "plt.show()\n",
    "print('r2 = %f'%pearsonr(f_mean, y_test)[0]**2)\n",
    "print('R2 = %f'%r2(y_test, f_mean))\n",
    "print('mse = %f'%mse(f_mean, y_test))"
   ]
  },
  {
   "cell_type": "code",
   "execution_count": null,
   "id": "6576e0cb-8711-498a-883d-068542f39c13",
   "metadata": {},
   "outputs": [],
   "source": []
  },
  {
   "cell_type": "markdown",
   "id": "09120f57-de13-4c24-a9c8-a78a2f963f71",
   "metadata": {},
   "source": [
    "### Test on large data"
   ]
  },
  {
   "cell_type": "code",
   "execution_count": 18,
   "id": "5ec344a3-fd97-4728-90cd-4ade98f60af2",
   "metadata": {
    "tags": []
   },
   "outputs": [],
   "source": [
    "class RBFGPModel(gpytorch.models.ExactGP):\n",
    "    def __init__(self, train_x, train_y, likelihood, n_devices):\n",
    "        super(RBFGPModel, self).__init__(train_x, train_y, likelihood)\n",
    "        self.mean_module = gpytorch.means.ConstantMean()\n",
    "#         base_covar_module = gpytorch.kernels.ScaleKernel(gpytorch.kernels.RBFKernel())\n",
    "        base_covar_module = ker\n",
    "\n",
    "\n",
    "        self.covar_module = gpytorch.kernels.MultiDeviceKernel(\n",
    "            base_covar_module, device_ids=range(n_devices),\n",
    "            output_device=output_device\n",
    "        )\n",
    "\n",
    "    def forward(self, x):\n",
    "        mean_x = self.mean_module(x)\n",
    "        covar_x = self.covar_module(x)\n",
    "        return gpytorch.distributions.MultivariateNormal(mean_x, covar_x)"
   ]
  },
  {
   "cell_type": "code",
   "execution_count": 19,
   "id": "cc300006-fd23-48c0-a1a6-8fa3a6d29d32",
   "metadata": {},
   "outputs": [],
   "source": [
    "ls = torch.tensor([[96.04]]).to(output_device)"
   ]
  },
  {
   "cell_type": "code",
   "execution_count": 20,
   "id": "cf457621-3191-4cce-a203-83ab36941a88",
   "metadata": {
    "tags": []
   },
   "outputs": [],
   "source": [
    "inds_sub = np.where(np.array(pheno.pheno < -0.6) == False)[0]\n",
    "\n",
    "np.random.seed(100)\n",
    "sub = np.random.choice(inds_sub, 150000)\n",
    "sub_t = np.random.choice(list(set(inds_sub).difference(sub)), 2000)\n",
    "\n",
    "train_x = geno_t[sub]\n",
    "train_y = torch.tensor(np.array(pheno.pheno[sub]), dtype=torch.float32)\n",
    "\n",
    "test_x = geno_t[sub_t]\n",
    "test_y = torch.tensor(np.array(pheno.pheno[sub_t]), dtype=torch.float32)\n",
    "\n",
    "train_x, train_y = train_x.contiguous(), train_y.contiguous()\n",
    "test_x, test_y = test_x.contiguous(), test_y.contiguous()\n",
    "\n",
    "train_x, train_y = train_x.to(output_device), train_y.to(output_device)\n",
    "test_x, test_y = test_x.to(output_device), test_y.to(output_device)"
   ]
  },
  {
   "cell_type": "code",
   "execution_count": 21,
   "id": "b111d648-f154-4082-99bd-9b23217da81c",
   "metadata": {},
   "outputs": [
    {
     "data": {
      "text/plain": [
       "RBFKernel(\n",
       "  (raw_lengthscale_constraint): Positive()\n",
       ")"
      ]
     },
     "execution_count": 21,
     "metadata": {},
     "output_type": "execute_result"
    }
   ],
   "source": [
    "ker = gpytorch.kernels.ScaleKernel(gpytorch.kernels.RBFKernel()).to(output_device)\n",
    "ker = gpytorch.kernels.RBFKernel().to(output_device)\n",
    "ker.to(output_device)"
   ]
  },
  {
   "cell_type": "code",
   "execution_count": 22,
   "id": "191077d3-c46c-4417-a857-6089b5d77154",
   "metadata": {},
   "outputs": [],
   "source": [
    "likelihood = gpytorch.likelihoods.GaussianLikelihood().to(output_device)\n",
    "model = RBFGPModel(train_x, train_y, likelihood, n_devices)\n",
    "mll = gpytorch.mlls.ExactMarginalLogLikelihood(likelihood, model)\n",
    "optimizer = torch.optim.AdamW(model.parameters(), .02)"
   ]
  },
  {
   "cell_type": "code",
   "execution_count": 23,
   "id": "672dac75-8d2e-4d63-a9fa-91ad9e892d57",
   "metadata": {},
   "outputs": [],
   "source": [
    "model = model.to(output_device)"
   ]
  },
  {
   "cell_type": "code",
   "execution_count": 24,
   "id": "27665835-f73b-4c45-bf73-7194bfec1d8b",
   "metadata": {},
   "outputs": [],
   "source": [
    "model.covar_module.module.lengthscale = ls"
   ]
  },
  {
   "cell_type": "code",
   "execution_count": 25,
   "id": "656b8995-62c0-4350-a709-46de4d5685be",
   "metadata": {
    "tags": []
   },
   "outputs": [],
   "source": [
    "preconditioner_size = 100\n",
    "checkpoint_size = train_x.shape[0]//8\n",
    "\n",
    "test_x = test_x.cuda()\n",
    "model.eval()\n",
    "likelihood.eval()\n",
    "\n",
    "with gpytorch.beta_features.checkpoint_kernel(checkpoint_size):\n",
    "    f_preds = model(test_x)"
   ]
  },
  {
   "cell_type": "code",
   "execution_count": 26,
   "id": "30432e69-b645-45e0-9d3e-0ebabc8a96ca",
   "metadata": {
    "tags": []
   },
   "outputs": [
    {
     "data": {
      "image/png": "[encoded data removed]",
      "text/plain": [
       "<Figure size 400x400 with 1 Axes>"
      ]
     },
     "metadata": {
      "needs_background": "light"
     },
     "output_type": "display_data"
    },
    {
     "name": "stdout",
     "output_type": "stream",
     "text": [
      "r2 = 0.579865\n",
      "R2 = 0.576909\n",
      "mse = 0.003687\n"
     ]
    }
   ],
   "source": [
    "f_mean = f_preds.mean.cpu().detach().numpy()\n",
    "y_test = test_y.detach().cpu().numpy()\n",
    "\n",
    "figure(figsize=(5, 5), dpi=80)\n",
    "plt.plot(f_mean, y_test, 'o', alpha=.3)\n",
    "plt.show()\n",
    "print('r2 = %f'%pearsonr(f_mean, y_test)[0]**2)\n",
    "print('R2 = %f'%r2(y_test, f_mean))\n",
    "print('mse = %f'%mse(f_mean, y_test))"
   ]
  },
  {
   "cell_type": "markdown",
   "id": "1809449c-6ebc-4bda-a020-cde0ed963290",
   "metadata": {},
   "source": [
    "### Test"
   ]
  },
  {
   "cell_type": "markdown",
   "id": "bec971bf-dc33-4f84-979e-f8f3a6dadc6e",
   "metadata": {},
   "source": [
    "#### Build RBF kernel from scratch"
   ]
  },
  {
   "cell_type": "code",
   "execution_count": 18,
   "id": "8aba4165-024a-45d1-9e87-8cb4fdfc92a5",
   "metadata": {},
   "outputs": [],
   "source": [
    "lda = torch.exp(torch.tensor(-8.))\n",
    "eta = torch.exp(torch.tensor(-12.))"
   ]
  },
  {
   "cell_type": "code",
   "execution_count": 19,
   "id": "d734c21e-e258-4908-a0fb-de235a4b8c65",
   "metadata": {},
   "outputs": [],
   "source": [
    "from gpytorch.constraints import Positive\n",
    "from gpytorch.constraints import LessThan\n",
    "\n",
    "class RBFKernel(Kernel):\n",
    "    \"\"\"Diploid kernel\"\"\"\n",
    "\n",
    "    is_stationary = True\n",
    "\n",
    "    # We will register the parameter when initializing the kernel\n",
    "    def __init__(self, \n",
    "                **kwargs):\n",
    "      super().__init__(**kwargs)\n",
    "\n",
    "    # now set up the 'actual' paramter\n",
    "\n",
    "    def forward(self, geno1, geno2, diag=False, **params):\n",
    "        geno1_ht = 1.*(geno1 == 1.)\n",
    "        geno2_ht = 1.*(geno2 == 1.)        \n",
    "        geno1_h0 = 1.*(geno1 == 0.)\n",
    "        geno1_h1 = 1.*(geno1 == 2.)\n",
    "        geno2_h0 = 1.*(geno2 == 0.)\n",
    "        geno2_h1 = 1.*(geno2 == 2.)\n",
    "\n",
    "        S1 = self.covar_dist(geno1_ht, geno2_ht, **params)\n",
    "        S2 = self.covar_dist(geno1_h0, geno2_h0, **params) + self.covar_dist(geno1_h1, geno2_h1, **params)\n",
    "        D2 = self.covar_dist(geno1_h0, geno2_h1, **params) + self.covar_dist(geno1_h1, geno2_h0, **params)\n",
    "\n",
    "#         res = torch.exp(-.01*S1)*torch.exp(-.05*S2)*torch.exp(-.02*D2)*torch.exp(-.001*(L - S1 - S2 - D2))\n",
    "#         return res\n",
    "        K = di_k(lda, eta, S1, S2, D2)\n",
    "        if diag:\n",
    "            return K.diag()\n",
    "        else: return K"
   ]
  },
  {
   "cell_type": "code",
   "execution_count": 20,
   "id": "88d686fa-0ee4-431e-9284-30807479fafc",
   "metadata": {
    "tags": []
   },
   "outputs": [],
   "source": [
    "class RBFGPModel(gpytorch.models.ExactGP):\n",
    "    def __init__(self, train_x, train_y, likelihood, n_devices):\n",
    "        super(RBFGPModel, self).__init__(train_x, train_y, likelihood)\n",
    "        self.mean_module = gpytorch.means.ConstantMean()\n",
    "        base_covar_module = RBFKernel()\n",
    "\n",
    "        self.covar_module = gpytorch.kernels.MultiDeviceKernel(\n",
    "            base_covar_module, device_ids=range(n_devices),\n",
    "            output_device=output_device\n",
    "        )\n",
    "\n",
    "    def forward(self, x):\n",
    "        mean_x = self.mean_module(x)\n",
    "        covar_x = self.covar_module(x)\n",
    "        return gpytorch.distributions.MultivariateNormal(mean_x, covar_x)"
   ]
  },
  {
   "cell_type": "code",
   "execution_count": 18,
   "id": "7458fd97-089c-4f53-a9c5-a120ed160bfa",
   "metadata": {
    "tags": []
   },
   "outputs": [],
   "source": [
    "class RBFGPModel(gpytorch.models.ExactGP):\n",
    "    def __init__(self, train_x, train_y, likelihood, n_devices):\n",
    "        super(RBFGPModel, self).__init__(train_x, train_y, likelihood)\n",
    "        self.mean_module = gpytorch.means.ConstantMean()\n",
    "        base_covar_module = gpytorch.kernels.RBFKernel()\n",
    "\n",
    "        self.covar_module = gpytorch.kernels.MultiDeviceKernel(\n",
    "            base_covar_module, device_ids=range(n_devices),\n",
    "            output_device=output_device\n",
    "        )\n",
    "\n",
    "    def forward(self, x):\n",
    "        mean_x = self.mean_module(x)\n",
    "        covar_x = self.covar_module(x)\n",
    "        return gpytorch.distributions.MultivariateNormal(mean_x, covar_x)"
   ]
  },
  {
   "cell_type": "code",
   "execution_count": 22,
   "id": "a1b5ec67-7729-47a5-b213-6f08cd1de141",
   "metadata": {},
   "outputs": [],
   "source": [
    "likelihood = gpytorch.likelihoods.GaussianLikelihood().to(output_device)\n",
    "model = RBFGPModel(train_x, train_y, likelihood, n_devices)\n",
    "mll = gpytorch.mlls.ExactMarginalLogLikelihood(likelihood, model)\n",
    "optimizer = torch.optim.AdamW(model.parameters(), .02)"
   ]
  },
  {
   "cell_type": "code",
   "execution_count": 23,
   "id": "de438737-bad7-49ed-a980-6cbd22b2845e",
   "metadata": {},
   "outputs": [],
   "source": [
    "model = model.to(output_device)"
   ]
  },
  {
   "cell_type": "code",
   "execution_count": 26,
   "id": "a068e8cb-263e-4417-825a-e9fab92a44ba",
   "metadata": {
    "tags": []
   },
   "outputs": [],
   "source": [
    "checkpoint_size = train_x.shape[0]//8\n",
    "with gpytorch.beta_features.checkpoint_kernel(checkpoint_size):\n",
    "    output = model(train_x)\n",
    "    loss = mll(output, train_y)\n",
    "    loss.backward()\n",
    "    optimizer.step()"
   ]
  },
  {
   "cell_type": "code",
   "execution_count": 27,
   "id": "61151f47-33d4-4316-8ae1-2117d4863cb8",
   "metadata": {
    "tags": []
   },
   "outputs": [],
   "source": [
    "preconditioner_size = 100\n",
    "checkpoint_size = train_x.shape[0]//8\n",
    "test_x = test_x.cuda()\n",
    "model.eval()\n",
    "likelihood.eval()\n",
    "\n",
    "with gpytorch.beta_features.checkpoint_kernel(checkpoint_size):\n",
    "    f_preds = model(test_x)"
   ]
  },
  {
   "cell_type": "code",
   "execution_count": 28,
   "id": "3d3b984d-0986-43d3-a463-a20fbc1c1fde",
   "metadata": {
    "tags": []
   },
   "outputs": [
    {
     "data": {
      "image/png": "[encoded data removed]",
      "text/plain": [
       "<Figure size 400x400 with 1 Axes>"
      ]
     },
     "metadata": {
      "needs_background": "light"
     },
     "output_type": "display_data"
    },
    {
     "name": "stdout",
     "output_type": "stream",
     "text": [
      "r2 = 0.000301\n",
      "R2 = -0.423301\n",
      "mse = 0.011706\n"
     ]
    }
   ],
   "source": [
    "f_mean = f_preds.mean.cpu().detach().numpy()\n",
    "y_test = test_y.detach().cpu().numpy()\n",
    "\n",
    "figure(figsize=(5, 5), dpi=80)\n",
    "plt.plot(f_mean, y_test, 'o', alpha=.3)\n",
    "plt.show()\n",
    "print('r2 = %f'%pearsonr(f_mean, y_test)[0]**2)\n",
    "print('R2 = %f'%r2(y_test, f_mean))\n",
    "print('mse = %f'%mse(f_mean, y_test))"
   ]
  },
  {
   "cell_type": "code",
   "execution_count": 31,
   "id": "368c60cf-ba41-445e-9bf7-eba88107f38d",
   "metadata": {},
   "outputs": [],
   "source": [
    "def train_model(model, \n",
    "                likelihood, \n",
    "                train_x, \n",
    "                train_y, \n",
    "                checkpoint_size, \n",
    "                preconditioner_size, \n",
    "                training_iter=300, \n",
    "                lr=.05):\n",
    "    losses = []\n",
    "    optimizer = torch.optim.AdamW(model.parameters(), lr)\n",
    "    mll = gpytorch.mlls.ExactMarginalLogLikelihood(likelihood, model)\n",
    "    \n",
    "    for i in range(training_iter):\n",
    "        print(i)\n",
    "        with gpytorch.beta_features.checkpoint_kernel(checkpoint_size):\n",
    "            output = model(train_x)\n",
    "            loss = -mll(output, train_y)\n",
    "            loss.backward()  \n",
    "            losses.append(loss.item())\n",
    "            optimizer.step()        "
   ]
  },
  {
   "cell_type": "code",
   "execution_count": 32,
   "id": "3132a4a0-8309-4f03-bfdf-f7e022993651",
   "metadata": {},
   "outputs": [],
   "source": [
    "checkpoint_size = train_x.shape[0]//8\n",
    "preconditioner_size = 100"
   ]
  },
  {
   "cell_type": "code",
   "execution_count": 33,
   "id": "461d9e6e-fe46-41aa-8502-1688eb03c8ac",
   "metadata": {
    "collapsed": true,
    "jupyter": {
     "outputs_hidden": true
    },
    "tags": []
   },
   "outputs": [
    {
     "name": "stdout",
     "output_type": "stream",
     "text": [
      "0\n"
     ]
    },
    {
     "name": "stderr",
     "output_type": "stream",
     "text": [
      "/home/juannanzhou/.local/lib/python3.8/site-packages/gpytorch/models/exact_gp.py:273: GPInputWarning: The input matches the stored training data. Did you forget to call model.train()?\n",
      "  warnings.warn(\n"
     ]
    },
    {
     "ename": "RuntimeError",
     "evalue": "CUDA out of memory. Tried to allocate 37.25 GiB (GPU 0; 79.35 GiB total capacity; 44.32 GiB already allocated; 29.15 GiB free; 47.91 GiB reserved in total by PyTorch)",
     "output_type": "error",
     "traceback": [
      "\u001b[0;31m---------------------------------------------------------------------------\u001b[0m",
      "\u001b[0;31mRuntimeError\u001b[0m                              Traceback (most recent call last)",
      "\u001b[0;32m/scratch/local/43122499/ipykernel_208542/3773566493.py\u001b[0m in \u001b[0;36m<module>\u001b[0;34m\u001b[0m\n\u001b[0;32m----> 1\u001b[0;31m losses = train_model(model, \n\u001b[0m\u001b[1;32m      2\u001b[0m                 \u001b[0mlikelihood\u001b[0m\u001b[0;34m,\u001b[0m\u001b[0;34m\u001b[0m\u001b[0;34m\u001b[0m\u001b[0m\n\u001b[1;32m      3\u001b[0m                 \u001b[0mtrain_x\u001b[0m\u001b[0;34m,\u001b[0m\u001b[0;34m\u001b[0m\u001b[0;34m\u001b[0m\u001b[0m\n\u001b[1;32m      4\u001b[0m                 \u001b[0mtrain_y\u001b[0m\u001b[0;34m,\u001b[0m\u001b[0;34m\u001b[0m\u001b[0;34m\u001b[0m\u001b[0m\n\u001b[1;32m      5\u001b[0m                 \u001b[0mcheckpoint_size\u001b[0m\u001b[0;34m,\u001b[0m\u001b[0;34m\u001b[0m\u001b[0;34m\u001b[0m\u001b[0m\n",
      "\u001b[0;32m/scratch/local/43122499/ipykernel_208542/2393830725.py\u001b[0m in \u001b[0;36mtrain_model\u001b[0;34m(model, likelihood, train_x, train_y, checkpoint_size, preconditioner_size, training_iter, lr)\u001b[0m\n\u001b[1;32m     14\u001b[0m         \u001b[0mprint\u001b[0m\u001b[0;34m(\u001b[0m\u001b[0mi\u001b[0m\u001b[0;34m)\u001b[0m\u001b[0;34m\u001b[0m\u001b[0;34m\u001b[0m\u001b[0m\n\u001b[1;32m     15\u001b[0m         \u001b[0;32mwith\u001b[0m \u001b[0mgpytorch\u001b[0m\u001b[0;34m.\u001b[0m\u001b[0mbeta_features\u001b[0m\u001b[0;34m.\u001b[0m\u001b[0mcheckpoint_kernel\u001b[0m\u001b[0;34m(\u001b[0m\u001b[0mcheckpoint_size\u001b[0m\u001b[0;34m)\u001b[0m\u001b[0;34m:\u001b[0m\u001b[0;34m\u001b[0m\u001b[0;34m\u001b[0m\u001b[0m\n\u001b[0;32m---> 16\u001b[0;31m             \u001b[0moutput\u001b[0m \u001b[0;34m=\u001b[0m \u001b[0mmodel\u001b[0m\u001b[0;34m(\u001b[0m\u001b[0mtrain_x\u001b[0m\u001b[0;34m)\u001b[0m\u001b[0;34m\u001b[0m\u001b[0;34m\u001b[0m\u001b[0m\n\u001b[0m\u001b[1;32m     17\u001b[0m             \u001b[0mloss\u001b[0m \u001b[0;34m=\u001b[0m \u001b[0;34m-\u001b[0m\u001b[0mmll\u001b[0m\u001b[0;34m(\u001b[0m\u001b[0moutput\u001b[0m\u001b[0;34m,\u001b[0m \u001b[0mtrain_y\u001b[0m\u001b[0;34m)\u001b[0m\u001b[0;34m\u001b[0m\u001b[0;34m\u001b[0m\u001b[0m\n\u001b[1;32m     18\u001b[0m             \u001b[0mloss\u001b[0m\u001b[0;34m.\u001b[0m\u001b[0mbackward\u001b[0m\u001b[0;34m(\u001b[0m\u001b[0;34m)\u001b[0m\u001b[0;34m\u001b[0m\u001b[0;34m\u001b[0m\u001b[0m\n",
      "\u001b[0;32m~/.local/lib/python3.8/site-packages/gpytorch/models/exact_gp.py\u001b[0m in \u001b[0;36m__call__\u001b[0;34m(self, *args, **kwargs)\u001b[0m\n\u001b[1;32m    317\u001b[0m             \u001b[0;31m# Make the prediction\u001b[0m\u001b[0;34m\u001b[0m\u001b[0;34m\u001b[0m\u001b[0;34m\u001b[0m\u001b[0m\n\u001b[1;32m    318\u001b[0m             \u001b[0;32mwith\u001b[0m \u001b[0msettings\u001b[0m\u001b[0;34m.\u001b[0m\u001b[0m_use_eval_tolerance\u001b[0m\u001b[0;34m(\u001b[0m\u001b[0;34m)\u001b[0m\u001b[0;34m:\u001b[0m\u001b[0;34m\u001b[0m\u001b[0;34m\u001b[0m\u001b[0m\n\u001b[0;32m--> 319\u001b[0;31m                 \u001b[0mpredictive_mean\u001b[0m\u001b[0;34m,\u001b[0m \u001b[0mpredictive_covar\u001b[0m \u001b[0;34m=\u001b[0m \u001b[0mself\u001b[0m\u001b[0;34m.\u001b[0m\u001b[0mprediction_strategy\u001b[0m\u001b[0;34m.\u001b[0m\u001b[0mexact_prediction\u001b[0m\u001b[0;34m(\u001b[0m\u001b[0mfull_mean\u001b[0m\u001b[0;34m,\u001b[0m \u001b[0mfull_covar\u001b[0m\u001b[0;34m)\u001b[0m\u001b[0;34m\u001b[0m\u001b[0;34m\u001b[0m\u001b[0m\n\u001b[0m\u001b[1;32m    320\u001b[0m \u001b[0;34m\u001b[0m\u001b[0m\n\u001b[1;32m    321\u001b[0m             \u001b[0;31m# Reshape predictive mean to match the appropriate event shape\u001b[0m\u001b[0;34m\u001b[0m\u001b[0;34m\u001b[0m\u001b[0;34m\u001b[0m\u001b[0m\n",
      "\u001b[0;32m~/.local/lib/python3.8/site-packages/gpytorch/models/exact_prediction_strategies.py\u001b[0m in \u001b[0;36mexact_prediction\u001b[0;34m(self, joint_mean, joint_covar)\u001b[0m\n\u001b[1;32m    261\u001b[0m         return (\n\u001b[1;32m    262\u001b[0m             \u001b[0mself\u001b[0m\u001b[0;34m.\u001b[0m\u001b[0mexact_predictive_mean\u001b[0m\u001b[0;34m(\u001b[0m\u001b[0mtest_mean\u001b[0m\u001b[0;34m,\u001b[0m \u001b[0mtest_train_covar\u001b[0m\u001b[0;34m)\u001b[0m\u001b[0;34m,\u001b[0m\u001b[0;34m\u001b[0m\u001b[0;34m\u001b[0m\u001b[0m\n\u001b[0;32m--> 263\u001b[0;31m             \u001b[0mself\u001b[0m\u001b[0;34m.\u001b[0m\u001b[0mexact_predictive_covar\u001b[0m\u001b[0;34m(\u001b[0m\u001b[0mtest_test_covar\u001b[0m\u001b[0;34m,\u001b[0m \u001b[0mtest_train_covar\u001b[0m\u001b[0;34m)\u001b[0m\u001b[0;34m,\u001b[0m\u001b[0;34m\u001b[0m\u001b[0;34m\u001b[0m\u001b[0m\n\u001b[0m\u001b[1;32m    264\u001b[0m         )\n\u001b[1;32m    265\u001b[0m \u001b[0;34m\u001b[0m\u001b[0m\n",
      "\u001b[0;32m~/.local/lib/python3.8/site-packages/gpytorch/models/exact_prediction_strategies.py\u001b[0m in \u001b[0;36mexact_predictive_covar\u001b[0;34m(self, test_test_covar, test_train_covar)\u001b[0m\n\u001b[1;32m    310\u001b[0m                 \u001b[0mtrain_train_covar\u001b[0m \u001b[0;34m=\u001b[0m \u001b[0mself\u001b[0m\u001b[0;34m.\u001b[0m\u001b[0mlikelihood\u001b[0m\u001b[0;34m(\u001b[0m\u001b[0mdist\u001b[0m\u001b[0;34m,\u001b[0m \u001b[0mself\u001b[0m\u001b[0;34m.\u001b[0m\u001b[0mtrain_inputs\u001b[0m\u001b[0;34m)\u001b[0m\u001b[0;34m.\u001b[0m\u001b[0mlazy_covariance_matrix\u001b[0m\u001b[0;34m\u001b[0m\u001b[0;34m\u001b[0m\u001b[0m\n\u001b[1;32m    311\u001b[0m \u001b[0;34m\u001b[0m\u001b[0m\n\u001b[0;32m--> 312\u001b[0;31m             \u001b[0mtest_train_covar\u001b[0m \u001b[0;34m=\u001b[0m \u001b[0mdelazify\u001b[0m\u001b[0;34m(\u001b[0m\u001b[0mtest_train_covar\u001b[0m\u001b[0;34m)\u001b[0m\u001b[0;34m\u001b[0m\u001b[0;34m\u001b[0m\u001b[0m\n\u001b[0m\u001b[1;32m    313\u001b[0m             \u001b[0mtrain_test_covar\u001b[0m \u001b[0;34m=\u001b[0m \u001b[0mtest_train_covar\u001b[0m\u001b[0;34m.\u001b[0m\u001b[0mtranspose\u001b[0m\u001b[0;34m(\u001b[0m\u001b[0;34m-\u001b[0m\u001b[0;36m1\u001b[0m\u001b[0;34m,\u001b[0m \u001b[0;34m-\u001b[0m\u001b[0;36m2\u001b[0m\u001b[0;34m)\u001b[0m\u001b[0;34m\u001b[0m\u001b[0;34m\u001b[0m\u001b[0m\n\u001b[1;32m    314\u001b[0m             \u001b[0mcovar_correction_rhs\u001b[0m \u001b[0;34m=\u001b[0m \u001b[0mtrain_train_covar\u001b[0m\u001b[0;34m.\u001b[0m\u001b[0minv_matmul\u001b[0m\u001b[0;34m(\u001b[0m\u001b[0mtrain_test_covar\u001b[0m\u001b[0;34m)\u001b[0m\u001b[0;34m\u001b[0m\u001b[0;34m\u001b[0m\u001b[0m\n",
      "\u001b[0;32m~/.local/lib/python3.8/site-packages/gpytorch/lazy/lazy_tensor.py\u001b[0m in \u001b[0;36mdelazify\u001b[0;34m(obj)\u001b[0m\n\u001b[1;32m   2218\u001b[0m         \u001b[0;32mreturn\u001b[0m \u001b[0mobj\u001b[0m\u001b[0;34m\u001b[0m\u001b[0;34m\u001b[0m\u001b[0m\n\u001b[1;32m   2219\u001b[0m     \u001b[0;32melif\u001b[0m \u001b[0misinstance\u001b[0m\u001b[0;34m(\u001b[0m\u001b[0mobj\u001b[0m\u001b[0;34m,\u001b[0m \u001b[0mLazyTensor\u001b[0m\u001b[0;34m)\u001b[0m\u001b[0;34m:\u001b[0m\u001b[0;34m\u001b[0m\u001b[0;34m\u001b[0m\u001b[0m\n\u001b[0;32m-> 2220\u001b[0;31m         \u001b[0;32mreturn\u001b[0m \u001b[0mobj\u001b[0m\u001b[0;34m.\u001b[0m\u001b[0mevaluate\u001b[0m\u001b[0;34m(\u001b[0m\u001b[0;34m)\u001b[0m\u001b[0;34m\u001b[0m\u001b[0;34m\u001b[0m\u001b[0m\n\u001b[0m\u001b[1;32m   2221\u001b[0m     \u001b[0;32melse\u001b[0m\u001b[0;34m:\u001b[0m\u001b[0;34m\u001b[0m\u001b[0;34m\u001b[0m\u001b[0m\n\u001b[1;32m   2222\u001b[0m         \u001b[0;32mraise\u001b[0m \u001b[0mTypeError\u001b[0m\u001b[0;34m(\u001b[0m\u001b[0;34m\"object of class {} cannot be made into a Tensor\"\u001b[0m\u001b[0;34m.\u001b[0m\u001b[0mformat\u001b[0m\u001b[0;34m(\u001b[0m\u001b[0mobj\u001b[0m\u001b[0;34m.\u001b[0m\u001b[0m__class__\u001b[0m\u001b[0;34m.\u001b[0m\u001b[0m__name__\u001b[0m\u001b[0;34m)\u001b[0m\u001b[0;34m)\u001b[0m\u001b[0;34m\u001b[0m\u001b[0;34m\u001b[0m\u001b[0m\n",
      "\u001b[0;32m~/.local/lib/python3.8/site-packages/gpytorch/utils/memoize.py\u001b[0m in \u001b[0;36mg\u001b[0;34m(self, *args, **kwargs)\u001b[0m\n\u001b[1;32m     57\u001b[0m         \u001b[0mkwargs_pkl\u001b[0m \u001b[0;34m=\u001b[0m \u001b[0mpickle\u001b[0m\u001b[0;34m.\u001b[0m\u001b[0mdumps\u001b[0m\u001b[0;34m(\u001b[0m\u001b[0mkwargs\u001b[0m\u001b[0;34m)\u001b[0m\u001b[0;34m\u001b[0m\u001b[0;34m\u001b[0m\u001b[0m\n\u001b[1;32m     58\u001b[0m         \u001b[0;32mif\u001b[0m \u001b[0;32mnot\u001b[0m \u001b[0m_is_in_cache\u001b[0m\u001b[0;34m(\u001b[0m\u001b[0mself\u001b[0m\u001b[0;34m,\u001b[0m \u001b[0mcache_name\u001b[0m\u001b[0;34m,\u001b[0m \u001b[0;34m*\u001b[0m\u001b[0margs\u001b[0m\u001b[0;34m,\u001b[0m \u001b[0mkwargs_pkl\u001b[0m\u001b[0;34m=\u001b[0m\u001b[0mkwargs_pkl\u001b[0m\u001b[0;34m)\u001b[0m\u001b[0;34m:\u001b[0m\u001b[0;34m\u001b[0m\u001b[0;34m\u001b[0m\u001b[0m\n\u001b[0;32m---> 59\u001b[0;31m             \u001b[0;32mreturn\u001b[0m \u001b[0m_add_to_cache\u001b[0m\u001b[0;34m(\u001b[0m\u001b[0mself\u001b[0m\u001b[0;34m,\u001b[0m \u001b[0mcache_name\u001b[0m\u001b[0;34m,\u001b[0m \u001b[0mmethod\u001b[0m\u001b[0;34m(\u001b[0m\u001b[0mself\u001b[0m\u001b[0;34m,\u001b[0m \u001b[0;34m*\u001b[0m\u001b[0margs\u001b[0m\u001b[0;34m,\u001b[0m \u001b[0;34m**\u001b[0m\u001b[0mkwargs\u001b[0m\u001b[0;34m)\u001b[0m\u001b[0;34m,\u001b[0m \u001b[0;34m*\u001b[0m\u001b[0margs\u001b[0m\u001b[0;34m,\u001b[0m \u001b[0mkwargs_pkl\u001b[0m\u001b[0;34m=\u001b[0m\u001b[0mkwargs_pkl\u001b[0m\u001b[0;34m)\u001b[0m\u001b[0;34m\u001b[0m\u001b[0;34m\u001b[0m\u001b[0m\n\u001b[0m\u001b[1;32m     60\u001b[0m         \u001b[0;32mreturn\u001b[0m \u001b[0m_get_from_cache\u001b[0m\u001b[0;34m(\u001b[0m\u001b[0mself\u001b[0m\u001b[0;34m,\u001b[0m \u001b[0mcache_name\u001b[0m\u001b[0;34m,\u001b[0m \u001b[0;34m*\u001b[0m\u001b[0margs\u001b[0m\u001b[0;34m,\u001b[0m \u001b[0mkwargs_pkl\u001b[0m\u001b[0;34m=\u001b[0m\u001b[0mkwargs_pkl\u001b[0m\u001b[0;34m)\u001b[0m\u001b[0;34m\u001b[0m\u001b[0;34m\u001b[0m\u001b[0m\n\u001b[1;32m     61\u001b[0m \u001b[0;34m\u001b[0m\u001b[0m\n",
      "\u001b[0;32m~/.local/lib/python3.8/site-packages/gpytorch/lazy/lazy_evaluated_kernel_tensor.py\u001b[0m in \u001b[0;36mevaluate\u001b[0;34m(self)\u001b[0m\n\u001b[1;32m    297\u001b[0m     \u001b[0;34m@\u001b[0m\u001b[0mcached\u001b[0m\u001b[0;34m\u001b[0m\u001b[0;34m\u001b[0m\u001b[0m\n\u001b[1;32m    298\u001b[0m     \u001b[0;32mdef\u001b[0m \u001b[0mevaluate\u001b[0m\u001b[0;34m(\u001b[0m\u001b[0mself\u001b[0m\u001b[0;34m)\u001b[0m\u001b[0;34m:\u001b[0m\u001b[0;34m\u001b[0m\u001b[0;34m\u001b[0m\u001b[0m\n\u001b[0;32m--> 299\u001b[0;31m         \u001b[0;32mreturn\u001b[0m \u001b[0mself\u001b[0m\u001b[0;34m.\u001b[0m\u001b[0mevaluate_kernel\u001b[0m\u001b[0;34m(\u001b[0m\u001b[0;34m)\u001b[0m\u001b[0;34m.\u001b[0m\u001b[0mevaluate\u001b[0m\u001b[0;34m(\u001b[0m\u001b[0;34m)\u001b[0m\u001b[0;34m\u001b[0m\u001b[0;34m\u001b[0m\u001b[0m\n\u001b[0m\u001b[1;32m    300\u001b[0m \u001b[0;34m\u001b[0m\u001b[0m\n\u001b[1;32m    301\u001b[0m     \u001b[0;32mdef\u001b[0m \u001b[0mrepeat\u001b[0m\u001b[0;34m(\u001b[0m\u001b[0mself\u001b[0m\u001b[0;34m,\u001b[0m \u001b[0;34m*\u001b[0m\u001b[0mrepeats\u001b[0m\u001b[0;34m)\u001b[0m\u001b[0;34m:\u001b[0m\u001b[0;34m\u001b[0m\u001b[0;34m\u001b[0m\u001b[0m\n",
      "\u001b[0;32m~/.local/lib/python3.8/site-packages/gpytorch/utils/memoize.py\u001b[0m in \u001b[0;36mg\u001b[0;34m(self, *args, **kwargs)\u001b[0m\n\u001b[1;32m     57\u001b[0m         \u001b[0mkwargs_pkl\u001b[0m \u001b[0;34m=\u001b[0m \u001b[0mpickle\u001b[0m\u001b[0;34m.\u001b[0m\u001b[0mdumps\u001b[0m\u001b[0;34m(\u001b[0m\u001b[0mkwargs\u001b[0m\u001b[0;34m)\u001b[0m\u001b[0;34m\u001b[0m\u001b[0;34m\u001b[0m\u001b[0m\n\u001b[1;32m     58\u001b[0m         \u001b[0;32mif\u001b[0m \u001b[0;32mnot\u001b[0m \u001b[0m_is_in_cache\u001b[0m\u001b[0;34m(\u001b[0m\u001b[0mself\u001b[0m\u001b[0;34m,\u001b[0m \u001b[0mcache_name\u001b[0m\u001b[0;34m,\u001b[0m \u001b[0;34m*\u001b[0m\u001b[0margs\u001b[0m\u001b[0;34m,\u001b[0m \u001b[0mkwargs_pkl\u001b[0m\u001b[0;34m=\u001b[0m\u001b[0mkwargs_pkl\u001b[0m\u001b[0;34m)\u001b[0m\u001b[0;34m:\u001b[0m\u001b[0;34m\u001b[0m\u001b[0;34m\u001b[0m\u001b[0m\n\u001b[0;32m---> 59\u001b[0;31m             \u001b[0;32mreturn\u001b[0m \u001b[0m_add_to_cache\u001b[0m\u001b[0;34m(\u001b[0m\u001b[0mself\u001b[0m\u001b[0;34m,\u001b[0m \u001b[0mcache_name\u001b[0m\u001b[0;34m,\u001b[0m \u001b[0mmethod\u001b[0m\u001b[0;34m(\u001b[0m\u001b[0mself\u001b[0m\u001b[0;34m,\u001b[0m \u001b[0;34m*\u001b[0m\u001b[0margs\u001b[0m\u001b[0;34m,\u001b[0m \u001b[0;34m**\u001b[0m\u001b[0mkwargs\u001b[0m\u001b[0;34m)\u001b[0m\u001b[0;34m,\u001b[0m \u001b[0;34m*\u001b[0m\u001b[0margs\u001b[0m\u001b[0;34m,\u001b[0m \u001b[0mkwargs_pkl\u001b[0m\u001b[0;34m=\u001b[0m\u001b[0mkwargs_pkl\u001b[0m\u001b[0;34m)\u001b[0m\u001b[0;34m\u001b[0m\u001b[0;34m\u001b[0m\u001b[0m\n\u001b[0m\u001b[1;32m     60\u001b[0m         \u001b[0;32mreturn\u001b[0m \u001b[0m_get_from_cache\u001b[0m\u001b[0;34m(\u001b[0m\u001b[0mself\u001b[0m\u001b[0;34m,\u001b[0m \u001b[0mcache_name\u001b[0m\u001b[0;34m,\u001b[0m \u001b[0;34m*\u001b[0m\u001b[0margs\u001b[0m\u001b[0;34m,\u001b[0m \u001b[0mkwargs_pkl\u001b[0m\u001b[0;34m=\u001b[0m\u001b[0mkwargs_pkl\u001b[0m\u001b[0;34m)\u001b[0m\u001b[0;34m\u001b[0m\u001b[0;34m\u001b[0m\u001b[0m\n\u001b[1;32m     61\u001b[0m \u001b[0;34m\u001b[0m\u001b[0m\n",
      "\u001b[0;32m~/.local/lib/python3.8/site-packages/gpytorch/lazy/lazy_tensor.py\u001b[0m in \u001b[0;36mevaluate\u001b[0;34m(self)\u001b[0m\n\u001b[1;32m   1102\u001b[0m             \u001b[0mres\u001b[0m \u001b[0;34m=\u001b[0m \u001b[0mself\u001b[0m\u001b[0;34m.\u001b[0m\u001b[0mtranspose\u001b[0m\u001b[0;34m(\u001b[0m\u001b[0;34m-\u001b[0m\u001b[0;36m1\u001b[0m\u001b[0;34m,\u001b[0m \u001b[0;34m-\u001b[0m\u001b[0;36m2\u001b[0m\u001b[0;34m)\u001b[0m\u001b[0;34m.\u001b[0m\u001b[0mmatmul\u001b[0m\u001b[0;34m(\u001b[0m\u001b[0meye\u001b[0m\u001b[0;34m)\u001b[0m\u001b[0;34m.\u001b[0m\u001b[0mtranspose\u001b[0m\u001b[0;34m(\u001b[0m\u001b[0;34m-\u001b[0m\u001b[0;36m1\u001b[0m\u001b[0;34m,\u001b[0m \u001b[0;34m-\u001b[0m\u001b[0;36m2\u001b[0m\u001b[0;34m)\u001b[0m\u001b[0;34m.\u001b[0m\u001b[0mcontiguous\u001b[0m\u001b[0;34m(\u001b[0m\u001b[0;34m)\u001b[0m\u001b[0;34m\u001b[0m\u001b[0;34m\u001b[0m\u001b[0m\n\u001b[1;32m   1103\u001b[0m         \u001b[0;32melse\u001b[0m\u001b[0;34m:\u001b[0m\u001b[0;34m\u001b[0m\u001b[0;34m\u001b[0m\u001b[0m\n\u001b[0;32m-> 1104\u001b[0;31m             \u001b[0meye\u001b[0m \u001b[0;34m=\u001b[0m \u001b[0mtorch\u001b[0m\u001b[0;34m.\u001b[0m\u001b[0meye\u001b[0m\u001b[0;34m(\u001b[0m\u001b[0mnum_cols\u001b[0m\u001b[0;34m,\u001b[0m \u001b[0mdtype\u001b[0m\u001b[0;34m=\u001b[0m\u001b[0mself\u001b[0m\u001b[0;34m.\u001b[0m\u001b[0mdtype\u001b[0m\u001b[0;34m,\u001b[0m \u001b[0mdevice\u001b[0m\u001b[0;34m=\u001b[0m\u001b[0mself\u001b[0m\u001b[0;34m.\u001b[0m\u001b[0mdevice\u001b[0m\u001b[0;34m)\u001b[0m\u001b[0;34m\u001b[0m\u001b[0;34m\u001b[0m\u001b[0m\n\u001b[0m\u001b[1;32m   1105\u001b[0m             \u001b[0meye\u001b[0m \u001b[0;34m=\u001b[0m \u001b[0meye\u001b[0m\u001b[0;34m.\u001b[0m\u001b[0mexpand\u001b[0m\u001b[0;34m(\u001b[0m\u001b[0;34m*\u001b[0m\u001b[0mself\u001b[0m\u001b[0;34m.\u001b[0m\u001b[0mbatch_shape\u001b[0m\u001b[0;34m,\u001b[0m \u001b[0mnum_cols\u001b[0m\u001b[0;34m,\u001b[0m \u001b[0mnum_cols\u001b[0m\u001b[0;34m)\u001b[0m\u001b[0;34m\u001b[0m\u001b[0;34m\u001b[0m\u001b[0m\n\u001b[1;32m   1106\u001b[0m             \u001b[0mres\u001b[0m \u001b[0;34m=\u001b[0m \u001b[0mself\u001b[0m\u001b[0;34m.\u001b[0m\u001b[0mmatmul\u001b[0m\u001b[0;34m(\u001b[0m\u001b[0meye\u001b[0m\u001b[0;34m)\u001b[0m\u001b[0;34m\u001b[0m\u001b[0;34m\u001b[0m\u001b[0m\n",
      "\u001b[0;31mRuntimeError\u001b[0m: CUDA out of memory. Tried to allocate 37.25 GiB (GPU 0; 79.35 GiB total capacity; 44.32 GiB already allocated; 29.15 GiB free; 47.91 GiB reserved in total by PyTorch)"
     ]
    }
   ],
   "source": [
    "losses = train_model(model, \n",
    "                likelihood, \n",
    "                train_x, \n",
    "                train_y, \n",
    "                checkpoint_size, \n",
    "                preconditioner_size, \n",
    "                training_iter=50, \n",
    "                lr=.1)"
   ]
  },
  {
   "cell_type": "code",
   "execution_count": 34,
   "id": "5f239edb-b28a-4c2c-bf5a-94ae83cf8c73",
   "metadata": {},
   "outputs": [
    {
     "name": "stdout",
     "output_type": "stream",
     "text": [
      "| ID | GPU | MEM |\n",
      "------------------\n",
      "|  0 |  0% | 63% |\n",
      "|  1 |  0% | 44% |\n",
      "|  2 |  0% | 44% |\n",
      "|  3 |  0% | 44% |\n",
      "|  4 |  0% | 44% |\n",
      "|  5 |  0% | 44% |\n",
      "|  6 |  0% | 44% |\n",
      "|  7 |  0% | 44% |\n"
     ]
    }
   ],
   "source": [
    "GPUtil.showUtilization()"
   ]
  },
  {
   "cell_type": "code",
   "execution_count": null,
   "id": "8c059a99-1b63-4221-9e72-949c46cc2fad",
   "metadata": {},
   "outputs": [],
   "source": []
  }
 ],
 "metadata": {
  "kernelspec": {
   "display_name": "PyTorch-1.7.1",
   "language": "python",
   "name": "pytorch-1.7.1"
  },
  "language_info": {
   "codemirror_mode": {
    "name": "ipython",
    "version": 3
   },
   "file_extension": ".py",
   "mimetype": "text/x-python",
   "name": "python",
   "nbconvert_exporter": "python",
   "pygments_lexer": "ipython3",
   "version": "3.8.6"
  }
 },
 "nbformat": 4,
 "nbformat_minor": 5
}
