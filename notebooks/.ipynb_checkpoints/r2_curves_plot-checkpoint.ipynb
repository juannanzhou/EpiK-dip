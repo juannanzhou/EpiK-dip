{
 "cells": [
  {
   "cell_type": "code",
   "execution_count": 8,
   "id": "4c2503d5-8170-4061-9315-f5d85bedae4e",
   "metadata": {},
   "outputs": [],
   "source": [
    "import pandas as pd\n",
    "import matplotlib.pyplot as plt"
   ]
  },
  {
   "cell_type": "code",
   "execution_count": 3,
   "id": "04c16df4-7467-49b3-b2d2-6ca8f66d1dda",
   "metadata": {},
   "outputs": [],
   "source": [
    "r2s_epik = pd.read_csv('r2s_epik.csv')\n",
    "r2s_rbf = pd.read_csv('r2s_rbf.csv')"
   ]
  },
  {
   "cell_type": "code",
   "execution_count": 6,
   "id": "c9f4ca80-e2d1-43e4-af3f-8614c48f86a5",
   "metadata": {},
   "outputs": [],
   "source": [
    "r2s_rbf['r2_score'] = [0.312839, 0.442586, 0.479176, 0.523877, 0.544006, 0.551005, 0.559352, 0.566390, 0.573888, 0.550959, 0.574180, 0]"
   ]
  },
  {
   "cell_type": "code",
   "execution_count": 25,
   "id": "6d139b0a-296d-4d83-a8bd-8df1ff2ac2ed",
   "metadata": {},
   "outputs": [
    {
     "data": {
      "image/png": "[encoded data removed]",
      "text/plain": [
       "<Figure size 432x288 with 1 Axes>"
      ]
     },
     "metadata": {
      "needs_background": "light"
     },
     "output_type": "display_data"
    }
   ],
   "source": [
    "plt.scatter(r2s_rbf['props'], r2s_rbf['r2_score'])\n",
    "plt.scatter(r2s_epik['props'], r2s_epik['r2'])\n",
    "plt.ylim([0,.7])\n",
    "plt.show()"
   ]
  },
  {
   "cell_type": "code",
   "execution_count": null,
   "id": "db138a4c-cefd-412d-b7f4-430a188df8c3",
   "metadata": {},
   "outputs": [],
   "source": []
  }
 ],
 "metadata": {
  "kernelspec": {
   "display_name": "Python 3 (ipykernel)",
   "language": "python",
   "name": "python3"
  },
  "language_info": {
   "codemirror_mode": {
    "name": "ipython",
    "version": 3
   },
   "file_extension": ".py",
   "mimetype": "text/x-python",
   "name": "python",
   "nbconvert_exporter": "python",
   "pygments_lexer": "ipython3",
   "version": "3.8.1"
  }
 },
 "nbformat": 4,
 "nbformat_minor": 5
}
