{
 "cells": [
  {
   "cell_type": "markdown",
   "id": "7cfbc25e-9c70-4f40-a30a-ccc7e652331e",
   "metadata": {},
   "source": [
    "### Additive + Dominant"
   ]
  },
  {
   "cell_type": "code",
   "execution_count": 65,
   "id": "0a4d06d0-842f-4e01-b18e-1091871f5f13",
   "metadata": {},
   "outputs": [
    {
     "data": {
      "text/plain": [
       "tensor(inf)"
      ]
     },
     "execution_count": 65,
     "metadata": {},
     "output_type": "execute_result"
    }
   ],
   "source": [
    "torch.tensor(float('inf'))"
   ]
  },
  {
   "cell_type": "code",
   "execution_count": 69,
   "id": "5f2a498d-230e-47c5-b123-db47b2eb1b60",
   "metadata": {},
   "outputs": [],
   "source": [
    "parameter=torch.nn.Parameter(torch.zeros(1, 1, 1))"
   ]
  },
  {
   "cell_type": "code",
   "execution_count": 70,
   "id": "8a6765b1-0c7f-47cd-9d5b-6da58ad1330a",
   "metadata": {},
   "outputs": [
    {
     "data": {
      "text/plain": [
       "Parameter containing:\n",
       "tensor([[[0.]]], requires_grad=True)"
      ]
     },
     "execution_count": 70,
     "metadata": {},
     "output_type": "execute_result"
    }
   ],
   "source": [
    "parameter"
   ]
  },
  {
   "cell_type": "code",
   "execution_count": null,
   "id": "b000a951-4d12-49d9-812c-4098f1bddc0e",
   "metadata": {},
   "outputs": [],
   "source": [
    "from gpytorch.constraints import Positive\n",
    "from gpytorch.constraints import LessThan\n",
    "\n",
    "class K11(Kernel):\n",
    "    \"\"\"Diploid kernel\"\"\"\n",
    "\n",
    "    is_stationary = True\n",
    "\n",
    "    # We will register the parameter when initializing the kernel\n",
    "    def __init__(self, \n",
    "                par_prior=None, par_constraint=None, \n",
    "                **kwargs):\n",
    "      super().__init__(**kwargs)\n",
    "\n",
    "      # register the raw parameter\n",
    "      self.register_parameter(\n",
    "          name='raw_par', \n",
    "          parameter=torch.nn.Parameter(torch.zeros(*self.batch_shape, 2))\n",
    "      )\n",
    "\n",
    "      # set the parameter constraint to be positive, when nothing is specified\n",
    "      if par_constraint is None:\n",
    "          par_constraint = LessThan(upper_bound=0.)\n",
    "\n",
    "      # register the constraint\n",
    "      self.register_constraint(\"raw_par\", par_constraint)\n",
    "\n",
    "\n",
    "    # now set up the 'actual' paramter\n",
    "    @property\n",
    "    def par(self):\n",
    "      # when accessing the parameter, apply the constraint transform\n",
    "      return self.raw_par_constraint.transform(self.raw_par)\n",
    "    @par.setter\n",
    "    def par(self, value):\n",
    "      return self._set_par(value)\n",
    "\n",
    "\n",
    "    def forward(self, geno1, geno2, **params):\n",
    "        L = geno1.shape[1]\n",
    "        geno1_ht = 1.*(geno1 == 1.)\n",
    "        geno2_ht = 1.*(geno2 == 1.)        \n",
    "        geno1_h0 = 1.*(geno1 == 0.)\n",
    "        geno1_h1 = 1.*(geno1 == 2.)\n",
    "        geno2_h0 = 1.*(geno2 == 0.)\n",
    "        geno2_h1 = 1.*(geno2 == 2.)\n",
    "\n",
    "        S1 = self.covar_dist(geno1_ht, geno2_ht, **params)\n",
    "        S2 = self.covar_dist(geno1_h0, geno2_h0, **params) + self.covar_dist(geno1_h1, geno2_h1, **params)\n",
    "        D2 = self.covar_dist(geno1_h0, geno2_h1, **params) + self.covar_dist(geno1_h1, geno2_h0, **params)\n",
    "        D1 = L - S1 - S2 - D2\n",
    "\n",
    "\n",
    "        return par[0]*k_1_0(S1, S2, D1, D2) + par[1]*k_0_1(S1, S2, D1, D2)\n"
   ]
  },
  {
   "cell_type": "code",
   "execution_count": null,
   "id": "40defd32-c185-44ff-a047-08fd513af45c",
   "metadata": {},
   "outputs": [],
   "source": [
    "def k_1_1(S1, S2, D2, L):\n",
    "    D1 = L - S1 - S2 - D2\n",
    "    return 2*(1 + 2*D1 -L)*(D2 - S2)\n"
   ]
  },
  {
   "cell_type": "code",
   "execution_count": null,
   "id": "7c507530-e2a3-47ce-a9db-16c9ea29b0f9",
   "metadata": {},
   "outputs": [],
   "source": [
    "def k_1_0(S1, S2, D1, D2):\n",
    "    return -2*D2 + 2*S2\n",
    "\n",
    "def k_0_1(S1, S2, D1, D2):\n",
    "    return -2*D1 + L\n",
    "\n",
    "def k_2_0(S1, S2, D1, D2):\n",
    "    return 2*(D2 - 1) - 4*D2*S2 + 2*(S2 -1)*S2\n",
    "\n",
    "def k_1_1(S1, S2, D1, D2):\n",
    "    return 2*(1 + 2*D1 -L)*(D2 - S2)\n",
    "\n",
    "def k_0_2(S1, S2, D1, D2):\n",
    "    return 2*D1**2 - 2*L*D1 + .5*(L-1)*L"
   ]
  },
  {
   "cell_type": "markdown",
   "id": "fe082c93-a8c6-4b11-8b30-ea7e6dc8dbc8",
   "metadata": {},
   "source": [
    "### Pairwise Epistatic"
   ]
  },
  {
   "cell_type": "markdown",
   "id": "d0d91633-4b57-43c0-80b0-59e99af70294",
   "metadata": {},
   "source": [
    "### Pairwise Epistatic + Dominant"
   ]
  },
  {
   "cell_type": "markdown",
   "id": "aa450872-5d86-4db4-917d-064226601c5b",
   "metadata": {},
   "source": [
    "### All epistatic"
   ]
  },
  {
   "cell_type": "markdown",
   "id": "a951c2d6-f261-430c-8bdf-269f818e15c5",
   "metadata": {},
   "source": [
    "### All dominant"
   ]
  },
  {
   "cell_type": "markdown",
   "id": "716544bd-425b-4bfd-9200-e065e6ec9537",
   "metadata": {},
   "source": [
    "### Low order + All order"
   ]
  },
  {
   "cell_type": "code",
   "execution_count": 1,
   "id": "1b8f8956-1a6e-4cb9-b20f-f2fd90ed3c00",
   "metadata": {},
   "outputs": [],
   "source": [
    "import pandas as pd\n",
    "import os\n",
    "import gc\n",
    "import numpy as np\n",
    "import matplotlib.pyplot as plt\n",
    "from matplotlib.pyplot import figure\n",
    "import GPUtil\n",
    "\n",
    "import torch\n",
    "import gpytorch\n",
    "\n",
    "from scipy.stats import pearsonr\n",
    "from scipy.special import binom as binom\n",
    "from sklearn.metrics import r2_score as r2\n",
    "from sklearn.metrics import mean_squared_error as mse\n",
    "from sklearn.model_selection import train_test_split"
   ]
  },
  {
   "cell_type": "code",
   "execution_count": 2,
   "id": "76e6c60f-19c8-4956-abd5-70671f652ace",
   "metadata": {},
   "outputs": [],
   "source": [
    "import sys\n",
    "sys.path.insert(1, '../')\n",
    "import EpiK.models as models"
   ]
  },
  {
   "cell_type": "code",
   "execution_count": 3,
   "id": "adb22447-10a6-4a95-8328-a7f870b42aff",
   "metadata": {},
   "outputs": [
    {
     "name": "stdout",
     "output_type": "stream",
     "text": [
      "number of GPUs = 8; output device = 0\n"
     ]
    }
   ],
   "source": [
    "output_device = 0\n",
    "n_devices = torch.cuda.device_count()\n",
    "models.set_params(output_device, n_devices)\n",
    "print(\"number of GPUs = {}; output device = {}\".\n",
    "      format(n_devices, torch.cuda.current_device()))"
   ]
  },
  {
   "cell_type": "code",
   "execution_count": 4,
   "id": "03a52587-4d13-4edd-89cc-709780a02a87",
   "metadata": {},
   "outputs": [],
   "source": [
    "from EpiK.functions import get_data, get_envs, set_data_path\n",
    "set_data_path(\"../matsui_data/\")"
   ]
  },
  {
   "cell_type": "code",
   "execution_count": 5,
   "id": "70efde5b-5a4f-4dcd-b0cb-d04c630a0282",
   "metadata": {},
   "outputs": [],
   "source": [
    "# training sizes\n",
    "props = [.01, .05, .1, .2, .3, .4, .5, .6, .7, .8, .9, .95]"
   ]
  },
  {
   "cell_type": "code",
   "execution_count": 6,
   "id": "6df3aca7-5453-483a-bf14-da76a1e82214",
   "metadata": {},
   "outputs": [],
   "source": [
    "# check_point sizes\n",
    "partitions = [2, 2, 2, 2, 4, 4, 4, 4, 16, 32, 64, 120]\n",
    "pd.DataFrame({\"props\":props, \"partitions\":partitions}).to_csv(\"partition_sizes.csv\", index=None)"
   ]
  },
  {
   "cell_type": "code",
   "execution_count": 7,
   "id": "83175571-b896-4df2-8d52-5d0e2fe16837",
   "metadata": {},
   "outputs": [],
   "source": [
    "partition_sizes = pd.read_csv(\"partition_sizes.csv\")"
   ]
  },
  {
   "cell_type": "markdown",
   "id": "0cd6a183-9ddd-4983-a893-0a8965da203a",
   "metadata": {},
   "source": [
    "### Data"
   ]
  },
  {
   "cell_type": "code",
   "execution_count": 9,
   "id": "79d90926-53ef-4871-9a58-4314305304e1",
   "metadata": {},
   "outputs": [],
   "source": [
    "env_list = get_envs()\n",
    "env = env_list[5]"
   ]
  },
  {
   "cell_type": "code",
   "execution_count": 10,
   "id": "016a411e-897e-41f7-b0b2-08338ee6a6ca",
   "metadata": {},
   "outputs": [
    {
     "name": "stderr",
     "output_type": "stream",
     "text": [
      "/blue/juannanzhou/EpiK/notebooks/../EpiK/functions.py:35: UserWarning: To copy construct from a tensor, it is recommended to use sourceTensor.clone().detach() or sourceTensor.clone().detach().requires_grad_(True), rather than torch.tensor(sourceTensor).\n",
      "  geno_t = torch.tensor(geno_t, dtype=torch.float)\n"
     ]
    }
   ],
   "source": [
    "geno_t, pheno = get_data(env)"
   ]
  },
  {
   "cell_type": "code",
   "execution_count": 11,
   "id": "907df518-ff19-49ee-a5a3-693ed3c75720",
   "metadata": {},
   "outputs": [],
   "source": [
    "inds_sub = np.where(np.array(pheno.pheno < -0.6) == False)[0]"
   ]
  },
  {
   "cell_type": "code",
   "execution_count": 12,
   "id": "30c88862-6eb3-4801-ae44-fab65540ae83",
   "metadata": {},
   "outputs": [
    {
     "name": "stdout",
     "output_type": "stream",
     "text": [
      "| ID | GPU | MEM |\n",
      "------------------\n",
      "|  0 |  0% | 22% |\n",
      "|  1 |  0% |  0% |\n",
      "|  2 |  0% |  0% |\n",
      "|  3 |  0% |  0% |\n",
      "|  4 |  0% |  0% |\n",
      "|  5 |  0% |  0% |\n",
      "|  6 |  0% |  0% |\n",
      "|  7 |  0% |  0% |\n"
     ]
    }
   ],
   "source": [
    "GPUtil.showUtilization()"
   ]
  },
  {
   "cell_type": "code",
   "execution_count": 31,
   "id": "d5dc53dd-a6ed-4b92-82ff-e5735611b032",
   "metadata": {},
   "outputs": [],
   "source": [
    "def get_train_test(sub, sub_t):\n",
    "    train_x = geno_t[sub]\n",
    "    train_y = torch.tensor(np.array(pheno.pheno[sub]), dtype=torch.float32)\n",
    "    test_x = geno_t[sub_t]\n",
    "    test_y = torch.tensor(np.array(pheno.pheno[sub_t]), dtype=torch.float32)\n",
    "    train_x, train_y = train_x.contiguous(), train_y.contiguous()\n",
    "    test_x, test_y = test_x.contiguous(), test_y.contiguous()\n",
    "    train_x, train_y = train_x.to(output_device), train_y.to(output_device)\n",
    "    test_x, test_y = test_x.to(output_device), test_y.to(output_device)\n",
    "    return train_x, test_x, train_y, test_y"
   ]
  },
  {
   "cell_type": "code",
   "execution_count": 32,
   "id": "12dbc2fd-3ae7-43a9-a972-1975a8736ec5",
   "metadata": {},
   "outputs": [],
   "source": [
    "i=0 \n",
    "np.random.seed(100)\n",
    "train_size = np.round(props[i]*len(inds_sub)).astype('int')\n",
    "sub = np.random.choice(inds_sub, train_size)\n",
    "sub_t = np.random.choice(list(set(inds_sub).difference(sub)), 2000)"
   ]
  },
  {
   "cell_type": "code",
   "execution_count": 33,
   "id": "227913bd-52ac-42df-877a-ce310e9b4f37",
   "metadata": {},
   "outputs": [],
   "source": [
    "train_x, test_x, train_y, test_y = get_train_test(sub, sub_t)"
   ]
  },
  {
   "cell_type": "markdown",
   "id": "791dea23-be59-41f8-be89-ec5c7aa74ecd",
   "metadata": {},
   "source": [
    "### Train model"
   ]
  },
  {
   "cell_type": "code",
   "execution_count": 36,
   "id": "c56abd4b-ade3-4900-95ad-6458141ddbbc",
   "metadata": {},
   "outputs": [],
   "source": [
    "import EpiK.functions\n",
    "from EpiK.functions import train_model_cv\n",
    "\n",
    "EpiK.functions.output_device = output_device\n",
    "EpiK.functions.n_devices = n_devices"
   ]
  },
  {
   "cell_type": "code",
   "execution_count": 46,
   "id": "5e13c3c3-fd6c-440b-882f-f664a1e119ca",
   "metadata": {},
   "outputs": [],
   "source": [
    "# define kernel\n",
    "\n",
    "from EpiK.kernels import DiKernel\n",
    "ker = DiKernel()\n",
    "ker.raw_lda = torch.nn.Parameter(torch.tensor(-8.))\n",
    "ker.raw_eta = torch.nn.Parameter(torch.tensor(-12.))"
   ]
  },
  {
   "cell_type": "code",
   "execution_count": 55,
   "id": "4fa5e871-2805-4216-9ae9-b7d1f5249ae5",
   "metadata": {},
   "outputs": [],
   "source": [
    "# define kernel\n",
    "\n",
    "from EpiK.kernels import RBFKernel\n",
    "ker = RBFKernel()\n",
    "\n",
    "EpiK.kernels.L = geno_t.shape[1]\n",
    "# ls = torch.tensor([[96.04]]).to(output_device)\n",
    "# ker = gpytorch.kernels.RBFKernel().to(output_device)\n",
    "\n",
    "# ker.lengthscale = ls"
   ]
  },
  {
   "cell_type": "code",
   "execution_count": 59,
   "id": "b0980142-a17c-4c13-bd75-150bff2874cc",
   "metadata": {},
   "outputs": [],
   "source": [
    "# define kernel\n",
    "\n",
    "from EpiK.kernels import LinKernel\n",
    "ker = LinKernel()"
   ]
  },
  {
   "cell_type": "code",
   "execution_count": null,
   "id": "3f19288a-c314-487f-96a4-85ab780656e8",
   "metadata": {},
   "outputs": [],
   "source": [
    "# train model\n",
    "print(\"training GP model using CV\")\n",
    "ker, likelihood = train_model_cv(ker, train_x, train_y, 50, .1)"
   ]
  },
  {
   "cell_type": "code",
   "execution_count": 61,
   "id": "00e1858e-907c-46ab-8ee1-7803c7c28d23",
   "metadata": {},
   "outputs": [],
   "source": [
    "# make predictions - build model\n",
    "torch.cuda.empty_cache()\n",
    "model = models.ExactGPModel(train_x, train_y, likelihood, ker).to(output_device)"
   ]
  },
  {
   "cell_type": "code",
   "execution_count": 62,
   "id": "77b37e6d-e2f0-41e9-bc80-10d9c4ea13ea",
   "metadata": {},
   "outputs": [
    {
     "name": "stderr",
     "output_type": "stream",
     "text": [
      "/home/juannanzhou/.local/lib/python3.9/site-packages/gpytorch/utils/linear_cg.py:321: NumericalWarning: CG terminated in 1000 iterations with average residual norm 2176170.0 which is larger than the tolerance of 0.01 specified by gpytorch.settings.cg_tolerance. If performance is affected, consider raising the maximum number of CG iterations by running code in a gpytorch.settings.max_cg_iterations(value) context.\n",
      "  warnings.warn(\n"
     ]
    },
    {
     "name": "stdout",
     "output_type": "stream",
     "text": [
      "-4023169547572.15\n"
     ]
    }
   ],
   "source": [
    "partition_size = partition_sizes.partitions[i]\n",
    "\n",
    "model.eval()\n",
    "likelihood.eval()\n",
    "with gpytorch.beta_features.checkpoint_kernel(train_x.shape[0]//int(partition_size)):\n",
    "    f_preds = model(test_x)\n",
    "\n",
    "f_mean = f_preds.mean.cpu().detach().numpy()\n",
    "y_test = test_y.detach().cpu().numpy()\n",
    "r2_score = r2(y_test, f_mean)                \n",
    "print(r2_score)"
   ]
  },
  {
   "cell_type": "code",
   "execution_count": 64,
   "id": "44a32d56-7bc2-4e6b-8992-1ef7f203b0ea",
   "metadata": {},
   "outputs": [],
   "source": [
    "def k_1_0(S1, S2, D1, D2):\n",
    "    return -2*D2 + 2*S2\n",
    "\n",
    "def k_0_1(S1, S2, D1, D2):\n",
    "    return -2*D1 + L\n",
    "\n",
    "def k_2_0(S1, S2, D1, D2):\n",
    "    return 2*(d2 - 1) - 4*d2*s2 + 2*(s2 -1)*s2\n",
    "\n",
    "def k_1_1(S1, S2, D1, D2):\n",
    "    return 2*(1 + 2*d1 -L)*(D2 - S2)\n",
    "\n",
    "def k_0_2(S1, S2, D1, D2):\n",
    "    return 2*d1**2 - 2*L*d1 + .5*(L-1)*L"
   ]
  },
  {
   "cell_type": "code",
   "execution_count": null,
   "id": "753e389a-dd06-4d4e-9a9f-7c9211f10ff1",
   "metadata": {},
   "outputs": [],
   "source": []
  }
 ],
 "metadata": {
  "kernelspec": {
   "display_name": "PyTorch-1.8.1",
   "language": "python",
   "name": "pytorch-1.8.1"
  },
  "language_info": {
   "codemirror_mode": {
    "name": "ipython",
    "version": 3
   },
   "file_extension": ".py",
   "mimetype": "text/x-python",
   "name": "python",
   "nbconvert_exporter": "python",
   "pygments_lexer": "ipython3",
   "version": "3.9.5"
  }
 },
 "nbformat": 4,
 "nbformat_minor": 5
}
