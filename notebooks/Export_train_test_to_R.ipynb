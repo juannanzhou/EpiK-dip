{
 "cells": [
  {
   "cell_type": "code",
   "execution_count": 1,
   "id": "4ea40947-c54f-49e3-a67b-49fb0237ce5d",
   "metadata": {},
   "outputs": [],
   "source": [
    "import pandas as pd\n",
    "import os\n",
    "import gc\n",
    "import numpy as np\n",
    "import matplotlib.pyplot as plt\n",
    "from matplotlib.pyplot import figure\n",
    "import GPUtil\n",
    "\n",
    "import torch\n",
    "import gpytorch\n",
    "\n",
    "from scipy.stats import pearsonr\n",
    "from scipy.special import binom as binom\n",
    "from sklearn.metrics import r2_score as r2\n",
    "from sklearn.metrics import mean_squared_error as mse\n",
    "from sklearn.model_selection import train_test_split"
   ]
  },
  {
   "cell_type": "code",
   "execution_count": 2,
   "id": "2f22bcc5-cbf5-4b98-b528-dc3c447f2a39",
   "metadata": {},
   "outputs": [],
   "source": [
    "import sys\n",
    "sys.path.insert(1, '../')\n",
    "import EpiK.models as models"
   ]
  },
  {
   "cell_type": "code",
   "execution_count": 3,
   "id": "69d30f4e-5d54-46b4-ad65-8a8abdc16688",
   "metadata": {},
   "outputs": [
    {
     "name": "stdout",
     "output_type": "stream",
     "text": [
      "number of GPUs = 8; output device = 0\n"
     ]
    }
   ],
   "source": [
    "output_device = 0\n",
    "n_devices = torch.cuda.device_count()\n",
    "models.set_params(output_device, n_devices)\n",
    "print(\"number of GPUs = {}; output device = {}\".\n",
    "      format(n_devices, torch.cuda.current_device()))"
   ]
  },
  {
   "cell_type": "code",
   "execution_count": 4,
   "id": "bcf00e7c-1536-486a-a709-7fa66b56e5d7",
   "metadata": {},
   "outputs": [],
   "source": [
    "from EpiK.functions import get_data, get_envs, set_data_path\n",
    "set_data_path(\"../matsui_data/\")"
   ]
  },
  {
   "cell_type": "code",
   "execution_count": 5,
   "id": "9d2a8355-84d5-482a-bd61-433bf336bda3",
   "metadata": {},
   "outputs": [],
   "source": [
    "# training sizes\n",
    "props = [.01, .05, .1, .2, .3, .4, .5, .6, .7, .8, .9, .95]"
   ]
  },
  {
   "cell_type": "code",
   "execution_count": 6,
   "id": "c9c7f349-b9d3-44a6-b22e-cda8ef35aadf",
   "metadata": {},
   "outputs": [],
   "source": [
    "# check_point sizes\n",
    "partitions = [2, 2, 2, 2, 4, 4, 4, 4, 16, 32, 64, 120]\n",
    "pd.DataFrame({\"props\":props, \"partitions\":partitions}).to_csv(\"partition_sizes.csv\", index=None)"
   ]
  },
  {
   "cell_type": "code",
   "execution_count": 7,
   "id": "b63d233b-7e6a-467a-a6e7-c304a35ef199",
   "metadata": {},
   "outputs": [],
   "source": [
    "partition_sizes = pd.read_csv(\"partition_sizes.csv\")"
   ]
  },
  {
   "cell_type": "markdown",
   "id": "a2671448-1c9d-4237-8d43-5aaadc7d7594",
   "metadata": {},
   "source": [
    "### Data"
   ]
  },
  {
   "cell_type": "code",
   "execution_count": 8,
   "id": "5b957e17-d515-4d4a-80de-fe4598d5f204",
   "metadata": {},
   "outputs": [],
   "source": [
    "env_list = get_envs()\n",
    "env = env_list[5]"
   ]
  },
  {
   "cell_type": "code",
   "execution_count": 9,
   "id": "38122246-deca-4301-8325-d4b176d25bbc",
   "metadata": {},
   "outputs": [
    {
     "name": "stderr",
     "output_type": "stream",
     "text": [
      "/blue/juannanzhou/EpiK/notebooks/../EpiK/functions.py:35: UserWarning: To copy construct from a tensor, it is recommended to use sourceTensor.clone().detach() or sourceTensor.clone().detach().requires_grad_(True), rather than torch.tensor(sourceTensor).\n",
      "  geno_t = torch.tensor(geno_t, dtype=torch.float)\n"
     ]
    }
   ],
   "source": [
    "geno_t, pheno = get_data(env)"
   ]
  },
  {
   "cell_type": "code",
   "execution_count": 12,
   "id": "1d0e7296-93a5-4513-8727-6e26910b4543",
   "metadata": {},
   "outputs": [],
   "source": [
    "inds_sub = np.where(np.array(pheno.pheno < -0.6) == False)[0]"
   ]
  },
  {
   "cell_type": "code",
   "execution_count": 13,
   "id": "0a26adbd-527e-482e-b83e-2b8345bd255e",
   "metadata": {},
   "outputs": [
    {
     "name": "stdout",
     "output_type": "stream",
     "text": [
      "| ID | GPU | MEM |\n",
      "------------------\n",
      "|  0 |  0% | 22% |\n",
      "|  1 |  0% |  0% |\n",
      "|  2 |  0% |  0% |\n",
      "|  3 |  0% |  0% |\n",
      "|  4 |  0% |  0% |\n",
      "|  5 |  0% |  0% |\n",
      "|  6 |  0% |  0% |\n",
      "|  7 |  0% |  0% |\n"
     ]
    }
   ],
   "source": [
    "GPUtil.showUtilization()"
   ]
  },
  {
   "cell_type": "code",
   "execution_count": 43,
   "id": "a5a5ccef-f4c6-4686-802a-be53f245b22e",
   "metadata": {},
   "outputs": [
    {
     "data": {
      "text/plain": [
       "9397"
      ]
     },
     "execution_count": 43,
     "metadata": {},
     "output_type": "execute_result"
    }
   ],
   "source": [
    "np.round(props[1]*len(inds_sub)).astype('int')"
   ]
  },
  {
   "cell_type": "code",
   "execution_count": 42,
   "id": "e198473d-62e6-48ae-9614-f4ae037a4e43",
   "metadata": {},
   "outputs": [],
   "source": [
    "for i in range(0, len(props)):\n",
    "\n",
    "    np.random.seed(100)\n",
    "    train_size = np.round(props[i]*len(inds_sub)).astype('int')\n",
    "    sub = np.random.choice(inds_sub, train_size)\n",
    "    sub_t = np.random.choice(list(set(inds_sub).difference(sub)), 5000)\n",
    "    pd.DataFrame(sub).to_csv(data_path + \"train_list_\" + str(i) + \".csv\", header=None, index=None)\n",
    "    pd.DataFrame(sub_t).to_csv(data_path + \"test_list_\" + str(i) + \".csv\", header=None, index=None)\n"
   ]
  },
  {
   "cell_type": "code",
   "execution_count": 22,
   "id": "eb13fa20-7815-4636-99e6-2d3f518475df",
   "metadata": {},
   "outputs": [],
   "source": [
    "data_path = \"../BGLR/Data/\""
   ]
  },
  {
   "cell_type": "code",
   "execution_count": 27,
   "id": "f359ef95-9c0e-4d4a-a8a3-a62abd1f256b",
   "metadata": {},
   "outputs": [
    {
     "data": {
      "text/plain": [
       "(190050, 7)"
      ]
     },
     "execution_count": 27,
     "metadata": {},
     "output_type": "execute_result"
    }
   ],
   "source": [
    "pheno.shape"
   ]
  },
  {
   "cell_type": "code",
   "execution_count": 30,
   "id": "1ac26669-f2b3-49ca-ab34-fc45f36eb27f",
   "metadata": {},
   "outputs": [],
   "source": [
    "pheno.to_csv(data_path + \"pheno_NaCl2.csv\", header=True, index=None)"
   ]
  },
  {
   "cell_type": "code",
   "execution_count": 41,
   "id": "1e43f54d-44c3-4e49-9c30-cbb4d18c9e46",
   "metadata": {},
   "outputs": [
    {
     "data": {
      "text/plain": [
       "(array([0., 1., 2.], dtype=float32), array([1450, 3702, 2590]))"
      ]
     },
     "execution_count": 41,
     "metadata": {},
     "output_type": "execute_result"
    }
   ],
   "source": [
    "np.unique(geno_t[100].cpu().numpy(), return_counts=True)"
   ]
  },
  {
   "cell_type": "code",
   "execution_count": null,
   "id": "4776b137-5b7e-4f44-a1d1-a68f7016201b",
   "metadata": {},
   "outputs": [],
   "source": []
  }
 ],
 "metadata": {
  "kernelspec": {
   "display_name": "PyTorch-1.8.1",
   "language": "python",
   "name": "pytorch-1.8.1"
  },
  "language_info": {
   "codemirror_mode": {
    "name": "ipython",
    "version": 3
   },
   "file_extension": ".py",
   "mimetype": "text/x-python",
   "name": "python",
   "nbconvert_exporter": "python",
   "pygments_lexer": "ipython3",
   "version": "3.9.5"
  }
 },
 "nbformat": 4,
 "nbformat_minor": 5
}
