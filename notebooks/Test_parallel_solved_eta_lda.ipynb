{
 "cells": [
  {
   "cell_type": "code",
   "execution_count": 1,
   "id": "d1a73bc4-2a06-436e-a930-b617026e2a07",
   "metadata": {},
   "outputs": [
    {
     "data": {
      "text/plain": [
       "2"
      ]
     },
     "execution_count": 1,
     "metadata": {},
     "output_type": "execute_result"
    }
   ],
   "source": [
    "1*2"
   ]
  },
  {
   "cell_type": "code",
   "execution_count": 2,
   "id": "9272dd5b-85f0-4434-9bf4-49eefc7be120",
   "metadata": {},
   "outputs": [],
   "source": [
    "import importlib\n",
    "def rl():\n",
    "    importlib.reload(Di)"
   ]
  },
  {
   "cell_type": "code",
   "execution_count": 3,
   "id": "644a33b6-43db-470b-a712-af5a4a646f7b",
   "metadata": {},
   "outputs": [
    {
     "name": "stdout",
     "output_type": "stream",
     "text": [
      "| ID | GPU | MEM |\n",
      "------------------\n",
      "|  0 |  0% |  0% |\n",
      "|  1 |  0% |  0% |\n",
      "|  2 |  0% |  0% |\n",
      "|  3 |  0% |  0% |\n",
      "|  4 |  0% |  0% |\n",
      "|  5 |  0% |  0% |\n",
      "|  6 |  0% |  0% |\n",
      "|  7 |  0% |  0% |\n"
     ]
    }
   ],
   "source": [
    "import GPUtil\n",
    "GPUtil.showUtilization()"
   ]
  },
  {
   "cell_type": "code",
   "execution_count": 4,
   "id": "1a915ccc-8c32-44e4-b4b0-9ada15894845",
   "metadata": {
    "jupyter": {
     "source_hidden": true
    },
    "tags": []
   },
   "outputs": [],
   "source": [
    "import dask.dataframe as dd\n",
    "import pandas as pd\n",
    "import os\n",
    "import numpy as np\n",
    "import matplotlib.pyplot as plt\n",
    "from matplotlib.pyplot import figure"
   ]
  },
  {
   "cell_type": "code",
   "execution_count": 6,
   "id": "8b5c8af6-30f3-401e-a13a-45f39501bb03",
   "metadata": {},
   "outputs": [],
   "source": [
    "import torch\n",
    "import gpytorch\n",
    "\n",
    "import pyarrow as pa\n",
    "import pyarrow.parquet as pq\n",
    "\n",
    "from scipy.stats import pearsonr\n",
    "from scipy.special import binom as binom\n",
    "from sklearn.metrics import r2_score as r2\n",
    "from sklearn.metrics import mean_squared_error as mse\n",
    "from sklearn.model_selection import train_test_split\n",
    "\n",
    "import Di"
   ]
  },
  {
   "cell_type": "code",
   "execution_count": 7,
   "id": "c9d0cc5d-6b92-41c8-a3da-fa4376494b6a",
   "metadata": {},
   "outputs": [],
   "source": [
    "geno_file_list = []\n",
    "for path, currentDirectory, files in os.walk(\"96ghpptzvf-4/SData2/\"):\n",
    "    for file in files:\n",
    "        if file.endswith(\"geno.txt\"):\n",
    "            geno_file_list.append(file)\n",
    "\n",
    "geno_file_list = list(set(geno_file_list))\n",
    "\n",
    "env_list = [file.split('_')[0] for file in geno_file_list]\n",
    "\n",
    "env_list = sorted(env_list)"
   ]
  },
  {
   "cell_type": "code",
   "execution_count": 8,
   "id": "7ba7521a-e7df-459e-845e-e0dd6b970528",
   "metadata": {},
   "outputs": [
    {
     "name": "stdout",
     "output_type": "stream",
     "text": [
      "NaCl\n"
     ]
    }
   ],
   "source": [
    "env = env_list[5]\n",
    "print(env)"
   ]
  },
  {
   "cell_type": "code",
   "execution_count": 9,
   "id": "1fa0b939-0d24-4e1b-ac23-4072abc3d008",
   "metadata": {},
   "outputs": [],
   "source": [
    "df = pd.read_csv(\"96ghpptzvf-4/SData2/\"+ env + \"_geno.txt\", sep='\\t', nrows=5, engine='python')"
   ]
  },
  {
   "cell_type": "code",
   "execution_count": 10,
   "id": "60e61216-c2ba-42b1-b66d-6cb94906c88f",
   "metadata": {},
   "outputs": [],
   "source": [
    "ids = list(df.columns[3:])"
   ]
  },
  {
   "cell_type": "code",
   "execution_count": 11,
   "id": "cab878d6-dcf1-4c2c-b798-ec5ae9302e65",
   "metadata": {},
   "outputs": [
    {
     "data": {
      "text/plain": [
       "'NaCl_matsui_geno_t.pt'"
      ]
     },
     "execution_count": 11,
     "metadata": {},
     "output_type": "execute_result"
    }
   ],
   "source": [
    "env + '_matsui_geno_t.pt'"
   ]
  },
  {
   "cell_type": "code",
   "execution_count": 12,
   "id": "6ba68aeb-9b8a-4def-b903-4be3dc7ffc2c",
   "metadata": {},
   "outputs": [],
   "source": [
    "geno_t = torch.load(env + '_matsui_geno_t.pt')"
   ]
  },
  {
   "cell_type": "code",
   "execution_count": 13,
   "id": "15f53594-ea49-493e-8672-3e24fb2e6ec2",
   "metadata": {},
   "outputs": [
    {
     "data": {
      "text/plain": [
       "tensor([[1., 2., 1.,  ..., 0., 0., 0.],\n",
       "        [1., 2., 1.,  ..., 0., 0., 0.],\n",
       "        [1., 2., 1.,  ..., 0., 0., 0.],\n",
       "        ...,\n",
       "        [1., 2., 2.,  ..., 1., 1., 1.],\n",
       "        [1., 2., 2.,  ..., 1., 1., 1.],\n",
       "        [1., 2., 2.,  ..., 1., 1., 1.]], device='cuda:0', dtype=torch.float64)"
      ]
     },
     "execution_count": 13,
     "metadata": {},
     "output_type": "execute_result"
    }
   ],
   "source": [
    "geno_t"
   ]
  },
  {
   "cell_type": "code",
   "execution_count": 14,
   "id": "029f96e2-5763-4cb4-b012-e254fd800f1b",
   "metadata": {},
   "outputs": [],
   "source": [
    "geno_t = torch.transpose(geno_t, 0, 1)\n",
    "N, L = geno_t.shape"
   ]
  },
  {
   "cell_type": "code",
   "execution_count": 15,
   "id": "edbfe249-3ef9-4b1a-9fe8-11102c119f38",
   "metadata": {},
   "outputs": [],
   "source": [
    "pheno = pd.read_csv(\"96ghpptzvf-4/SData6/\" + env + \"_pheno.txt\", sep='\\t', engine=\"python\")"
   ]
  },
  {
   "cell_type": "code",
   "execution_count": 16,
   "id": "5a6bf9cd-a45d-4a11-92d6-c9fdc9b6bbf4",
   "metadata": {},
   "outputs": [],
   "source": [
    "pheno = pheno.set_index('geno')"
   ]
  },
  {
   "cell_type": "code",
   "execution_count": 17,
   "id": "aa5da021-4c48-409a-9a64-b880cb67013d",
   "metadata": {},
   "outputs": [],
   "source": [
    "pheno = pheno.loc[ids]"
   ]
  },
  {
   "cell_type": "code",
   "execution_count": 18,
   "id": "dc994906-0c64-4397-8450-eb7626e8ab49",
   "metadata": {},
   "outputs": [
    {
     "data": {
      "image/png": "[encoded data removed]",
      "text/plain": [
       "<Figure size 432x288 with 1 Axes>"
      ]
     },
     "metadata": {
      "needs_background": "light"
     },
     "output_type": "display_data"
    }
   ],
   "source": [
    "plt.hist(pheno.pheno)\n",
    "plt.show()"
   ]
  },
  {
   "cell_type": "markdown",
   "id": "3ad70105-29b8-4927-abf6-1dbb027564d8",
   "metadata": {},
   "source": [
    "### Set up"
   ]
  },
  {
   "cell_type": "code",
   "execution_count": 19,
   "id": "23645ad3-910e-48e3-b5eb-b91583065ed5",
   "metadata": {},
   "outputs": [
    {
     "name": "stdout",
     "output_type": "stream",
     "text": [
      "Planning to run on 8 GPUs.\n"
     ]
    }
   ],
   "source": [
    "n_devices = torch.cuda.device_count()\n",
    "print('Planning to run on {} GPUs.'.format(n_devices))"
   ]
  },
  {
   "cell_type": "code",
   "execution_count": 20,
   "id": "49ca8dd6-4077-437a-9337-1dec04b0eeb3",
   "metadata": {},
   "outputs": [],
   "source": [
    "output_device = torch.device('cuda:0')"
   ]
  },
  {
   "cell_type": "markdown",
   "id": "3a14a447-71c8-414a-b0ea-74d8de91289a",
   "metadata": {},
   "source": [
    "### Data"
   ]
  },
  {
   "cell_type": "code",
   "execution_count": 21,
   "id": "9bc56808-f609-4e39-a2c4-5e74b8cd0f99",
   "metadata": {},
   "outputs": [],
   "source": [
    "inds_sub = np.where(np.array(pheno.pheno < -0.6) == False)[0]"
   ]
  },
  {
   "cell_type": "code",
   "execution_count": 22,
   "id": "61e24036-8b96-4ad5-abbe-2241e28de4e5",
   "metadata": {},
   "outputs": [],
   "source": [
    "np.random.seed(100)"
   ]
  },
  {
   "cell_type": "code",
   "execution_count": 23,
   "id": "e021f57b-03c4-4704-bf88-180a7feff17a",
   "metadata": {},
   "outputs": [],
   "source": [
    "sub = np.random.choice(inds_sub, 10000)\n",
    "\n",
    "sub_t = np.random.choice(list(set(inds_sub).difference(sub)), 5000)"
   ]
  },
  {
   "cell_type": "code",
   "execution_count": 24,
   "id": "e918c6c3-49c2-4964-b4ee-7ac6c9062490",
   "metadata": {},
   "outputs": [],
   "source": [
    "train_x = geno_t[sub]\n",
    "train_y = torch.tensor(np.array(pheno.pheno[sub]), dtype=torch.float32)\n",
    "\n",
    "test_x = geno_t[sub_t]\n",
    "test_y = torch.tensor(np.array(pheno.pheno[sub_t]), dtype=torch.float32)"
   ]
  },
  {
   "cell_type": "code",
   "execution_count": 25,
   "id": "f57ee597-fc25-4253-8ce8-43ad87fbf7ed",
   "metadata": {},
   "outputs": [],
   "source": [
    "train_x, train_y = train_x.contiguous(), train_y.contiguous()\n",
    "test_x, test_y = test_x.contiguous(), test_y.contiguous()\n",
    "\n",
    "train_x, train_y = train_x.to(output_device), train_y.to(output_device)\n",
    "test_x, test_y = test_x.to(output_device), test_y.to(output_device)"
   ]
  },
  {
   "cell_type": "markdown",
   "id": "43c8f9c3-7317-45b3-83db-804841732650",
   "metadata": {},
   "source": [
    "### Define functions"
   ]
  },
  {
   "cell_type": "code",
   "execution_count": 26,
   "id": "63cb559f-60a6-48fa-85f6-f65bfdaefe8b",
   "metadata": {},
   "outputs": [],
   "source": [
    "def d(geno1, geno2):\n",
    "  \"\"\"build distance tensor between two sets of genotypes\n",
    "  geno1, geno2: n x L, m x L torch tensors\n",
    "  \n",
    "  \"\"\"\n",
    "  geno1_h0 = 1.*(geno1 == 0.)\n",
    "  geno1_h1 = 1.*(geno1 == 2.)\n",
    "  geno2_h0 = 1.*(geno2 == 0.)\n",
    "  geno2_h1 = 1.*(geno2 == 2.)\n",
    "  S1 = torch.matmul(geno1%2, torch.transpose(geno2%2, 0, 1))\n",
    "  S2 = (torch.matmul(geno1_h0, torch.transpose(geno2_h0, 0, 1)) \n",
    "        + torch.matmul(geno1_h1, torch.transpose(geno2_h1, 0, 1)))\n",
    "  D2 = (torch.matmul(geno1_h0, torch.transpose(geno2_h1, 0, 1)) \n",
    "        + torch.matmul(geno1_h1, torch.transpose(geno2_h0, 0, 1)))\n",
    "  D1 = L - S1 - S2 - D2\n",
    "\n",
    "  return torch.stack((S1, S2, D1, D2))\n"
   ]
  },
  {
   "cell_type": "code",
   "execution_count": 27,
   "id": "a2ddca25-5a2f-41d5-a0f3-d4692ff75660",
   "metadata": {},
   "outputs": [],
   "source": [
    "def k(log_lda, log_eta, dvec):\n",
    "    \"\"\"\n",
    "    log_lda, log_eta -- torch tensors\n",
    "    dvec -- 4 x n x m torch tensor\n",
    "    \"\"\"\n",
    "    lda = torch.exp(log_lda)\n",
    "    eta = torch.exp(log_eta)\n",
    "    return (((1 + lda + eta)**(dvec[1] - L/2))\n",
    "          *((1 - lda + eta)**dvec[3])\n",
    "          *((1 + eta)**(dvec[0] - L/2)) \n",
    "          * (1-eta)**dvec[2])\n"
   ]
  },
  {
   "cell_type": "code",
   "execution_count": 31,
   "id": "bba8dda7-d7f8-4a88-b717-46b3de6c5c22",
   "metadata": {},
   "outputs": [],
   "source": [
    "from gpytorch.constraints import Positive\n",
    "from gpytorch.constraints import LessThan\n",
    "\n",
    "\n",
    "class DiKernel(gpytorch.kernels.Kernel):\n",
    "  \"\"\"Diploid kernel\"\"\"\n",
    "\n",
    "  is_stationary = True\n",
    "\n",
    "  # We will register the parameter when initializing the kernel\n",
    "  def __init__(self, \n",
    "                lda_prior=None, lda_constraint=None, \n",
    "                eta_prior=None, eta_constraint=None,\n",
    "                **kwargs):\n",
    "      super().__init__(**kwargs)\n",
    "\n",
    "      # register the raw parameter\n",
    "      self.register_parameter(\n",
    "          name='raw_lda', \n",
    "          parameter=torch.nn.Parameter(torch.zeros(*self.batch_shape, 1, 1))\n",
    "      )\n",
    "\n",
    "      self.register_parameter(\n",
    "          name='raw_eta', \n",
    "          parameter=torch.nn.Parameter(torch.zeros(*self.batch_shape, 1, 1))\n",
    "      )\n",
    "\n",
    "      # set the parameter constraint to be positive, when nothing is specified\n",
    "      if lda_constraint is None:\n",
    "          lda_constraint = LessThan(upper_bound=0.)\n",
    "\n",
    "      if eta_constraint is None:\n",
    "          eta_constraint = LessThan(upper_bound=0.)\n",
    "\n",
    "      # register the constraint\n",
    "      self.register_constraint(\"raw_lda\", lda_constraint)\n",
    "      self.register_constraint(\"raw_eta\", eta_constraint)\n",
    "\n",
    "      \n",
    "  # now set up the 'actual' paramter\n",
    "  @property\n",
    "  def lda(self):\n",
    "      # when accessing the parameter, apply the constraint transform\n",
    "      return self.raw_lda_constraint.transform(self.raw_lda)\n",
    "\n",
    "  @property\n",
    "  def eta(self):\n",
    "      # when accessing the parameter, apply the constraint transform\n",
    "      return self.raw_eta_constraint.transform(self.raw_eta)\n",
    "\n",
    "  @lda.setter\n",
    "  def lda(self, value):\n",
    "      return self._set_lda(value)\n",
    "\n",
    "  @eta.setter\n",
    "  def eta(self, value):\n",
    "      return self._set_eta(value)\n",
    "\n",
    "  def forward(self, x1, x2, **params):\n",
    "      diff = d(x1, x2)\n",
    "      K = k(self.lda, self.eta, diff)\n",
    "      return K\n",
    "      \n",
    "\n",
    "    \n",
    "class DiGPModel(gpytorch.models.ExactGP):\n",
    "\n",
    "  def __init__(self, train_x, train_y, likelihood):\n",
    "    super().__init__(train_x, train_y, likelihood)\n",
    "    self.mean_module = gpytorch.means.ConstantMean()\n",
    "    self.covar_module = gpytorch.kernels.MultiDeviceKernel(\n",
    "            DiKernel(), device_ids=range(n_devices),\n",
    "            output_device=output_device\n",
    "        )\n",
    "\n",
    "  def forward(self, x):\n",
    "    mean_x = self.mean_module(x)\n",
    "    covar_x = self.covar_module(x)\n",
    "    return gpytorch.distributions.MultivariateNormal(mean_x, covar_x)    "
   ]
  },
  {
   "cell_type": "code",
   "execution_count": 32,
   "id": "a53d269f-376e-4a13-901a-2101a8561a6d",
   "metadata": {},
   "outputs": [],
   "source": [
    "def train_model(model, likelihood, train_x, train_y, training_iter=300, lr=.05):\n",
    "    losses = []\n",
    "    \n",
    "    \"\"\"fitting hyperparameters of model by maximizing marginal log likelihood\"\"\"\n",
    "    # Use the adam optimizer, this includes GaussianLikelihood parameters\n",
    "    optimizer = torch.optim.AdamW(model.parameters(), lr)\n",
    "\n",
    "\n",
    "    # \"Loss\" for GPs - the marginal log likelihood\n",
    "    mll = gpytorch.mlls.ExactMarginalLogLikelihood(likelihood, model)\n",
    "\n",
    "    for i in range(training_iter):\n",
    "      if i%20==0:\n",
    "        print(i)\n",
    "      else: pass\n",
    "      # Zero gradients from previous iteration\n",
    "      optimizer.zero_grad()\n",
    "      # Output from model\n",
    "      output = model(train_x)\n",
    "      # Calc loss and backprop gradients\n",
    "      loss = -mll(output, train_y)\n",
    "      loss.backward()\n",
    "      losses.append(loss.item())    \n",
    "      optimizer.step()\n",
    "      del loss\n",
    "    return losses"
   ]
  },
  {
   "cell_type": "markdown",
   "id": "c3355800-d04b-4d9e-82d6-4866648ad9d2",
   "metadata": {},
   "source": [
    "### Test Parallel"
   ]
  },
  {
   "cell_type": "code",
   "execution_count": 33,
   "id": "4842f836-30ff-4ea4-9360-144ddbde021e",
   "metadata": {
    "tags": []
   },
   "outputs": [],
   "source": [
    "ker = DiKernel().cuda()\n",
    "ker.raw_lda = torch.nn.Parameter(torch.tensor(-8.))\n",
    "ker.raw_eta = torch.nn.Parameter(torch.tensor(-12.))"
   ]
  },
  {
   "cell_type": "code",
   "execution_count": 34,
   "id": "691407e2-afee-4a53-b8da-dbdcffac1802",
   "metadata": {},
   "outputs": [
    {
     "data": {
      "text/plain": [
       "array([[1.12790801, 0.26316077, 0.26134664, ..., 0.30165121, 0.24336607,\n",
       "        0.25346414],\n",
       "       [0.26316077, 1.35494568, 0.25834609, ..., 0.21282889, 0.25131504,\n",
       "        0.29399075],\n",
       "       [0.26134664, 0.25834609, 1.18211291, ..., 0.30208467, 0.22085312,\n",
       "        0.31230808],\n",
       "       ...,\n",
       "       [0.30165121, 0.21282889, 0.30208467, ..., 0.97844272, 0.25564261,\n",
       "        0.24782828],\n",
       "       [0.24336607, 0.25131504, 0.22085312, ..., 0.25564261, 0.71682001,\n",
       "        0.34293459],\n",
       "       [0.25346414, 0.29399075, 0.31230808, ..., 0.24782828, 0.34293459,\n",
       "        1.13549667]])"
      ]
     },
     "execution_count": 34,
     "metadata": {},
     "output_type": "execute_result"
    }
   ],
   "source": [
    "ker(train_x).numpy()"
   ]
  },
  {
   "cell_type": "code",
   "execution_count": 46,
   "id": "67c0ccb3-cc3c-4c59-9046-92102de6d524",
   "metadata": {},
   "outputs": [],
   "source": [
    "likelihood = gpytorch.likelihoods.GaussianLikelihood()\n",
    "model = DiGPModel(train_x, train_y, likelihood)\n",
    "model.covar_module.module.raw_lda = torch.nn.Parameter(torch.tensor(-8.))\n",
    "model.covar_module.module.raw_eta = torch.nn.Parameter(torch.tensor(-12.))\n",
    "model = model.to(output_device).double()"
   ]
  },
  {
   "cell_type": "code",
   "execution_count": 47,
   "id": "c6f522d4-2683-444a-ada3-c8e8f78c8453",
   "metadata": {},
   "outputs": [
    {
     "data": {
      "text/plain": [
       "array([[1.12791385, 0.26322096, 0.26140018, ..., 0.30171057, 0.24341216,\n",
       "        0.25351248],\n",
       "       [0.26322096, 1.35496337, 0.25840231, ..., 0.21287411, 0.25137328,\n",
       "        0.29405676],\n",
       "       [0.26140018, 0.25840231, 1.18212142, ..., 0.30214379, 0.22089751,\n",
       "        0.31237305],\n",
       "       ...,\n",
       "       [0.30171057, 0.21287411, 0.30214379, ..., 0.9784418 , 0.25568771,\n",
       "        0.24787775],\n",
       "       [0.24341216, 0.25137328, 0.22089751, ..., 0.25568771, 0.71680975,\n",
       "        0.34299273],\n",
       "       [0.25351248, 0.29405676, 0.31237305, ..., 0.24787775, 0.34299273,\n",
       "        1.13550287]])"
      ]
     },
     "execution_count": 47,
     "metadata": {},
     "output_type": "execute_result"
    }
   ],
   "source": [
    "model.covar_module(train_x).numpy()"
   ]
  },
  {
   "cell_type": "code",
   "execution_count": 48,
   "id": "3d592be7-54c6-4a2c-acab-0e5247e92f8a",
   "metadata": {},
   "outputs": [],
   "source": [
    "output = model(train_x)"
   ]
  },
  {
   "cell_type": "code",
   "execution_count": 49,
   "id": "8566f094-add6-45f6-8fb7-d6a9b065ab8b",
   "metadata": {},
   "outputs": [
    {
     "data": {
      "text/plain": [
       "tensor([[1.1279, 0.2632, 0.2614,  ..., 0.3017, 0.2434, 0.2535],\n",
       "        [0.2632, 1.3550, 0.2584,  ..., 0.2129, 0.2514, 0.2941],\n",
       "        [0.2614, 0.2584, 1.1821,  ..., 0.3021, 0.2209, 0.3124],\n",
       "        ...,\n",
       "        [0.3017, 0.2129, 0.3021,  ..., 0.9784, 0.2557, 0.2479],\n",
       "        [0.2434, 0.2514, 0.2209,  ..., 0.2557, 0.7168, 0.3430],\n",
       "        [0.2535, 0.2941, 0.3124,  ..., 0.2479, 0.3430, 1.1355]],\n",
       "       device='cuda:0', dtype=torch.float64, grad_fn=<MatmulBackward>)"
      ]
     },
     "execution_count": 49,
     "metadata": {},
     "output_type": "execute_result"
    }
   ],
   "source": [
    "output.covariance_matrix"
   ]
  },
  {
   "cell_type": "code",
   "execution_count": 50,
   "id": "060956a3-fb78-4677-86d7-93d41007d5e1",
   "metadata": {},
   "outputs": [
    {
     "name": "stdout",
     "output_type": "stream",
     "text": [
      "likelihood.noise_covar.raw_noise tensor([0.], device='cuda:0', dtype=torch.float64)\n",
      "mean_module.constant tensor([0.], device='cuda:0', dtype=torch.float64)\n",
      "covar_module.module.raw_lda tensor(-8., device='cuda:0', dtype=torch.float64)\n",
      "covar_module.module.raw_eta tensor(-12., device='cuda:0', dtype=torch.float64)\n"
     ]
    }
   ],
   "source": [
    "for name, param in model.named_parameters():\n",
    "    if param.requires_grad:\n",
    "        print(name, param.data)"
   ]
  },
  {
   "cell_type": "code",
   "execution_count": 51,
   "id": "2201bc6b-87bf-4dfc-af11-207868070550",
   "metadata": {},
   "outputs": [
    {
     "name": "stdout",
     "output_type": "stream",
     "text": [
      "0\n"
     ]
    },
    {
     "name": "stderr",
     "output_type": "stream",
     "text": [
      "/home/juannanzhou/.local/lib/python3.8/site-packages/gpytorch/utils/linear_cg.py:234: UserWarning: An output with one or more elements was resized since it had shape [11], which does not match the required output shape [1, 11].This behavior is deprecated, and in a future PyTorch release outputs will not be resized unless they have zero elements. You can explicitly reuse an out tensor t by resizing it, inplace, to zero elements with t.resize_(0). (Triggered internally at  /pytorch/aten/src/ATen/native/Resize.cpp:23.)\n",
      "  torch.sum(mul_storage, -2, keepdim=True, out=alpha)\n"
     ]
    },
    {
     "name": "stdout",
     "output_type": "stream",
     "text": [
      "20\n",
      "40\n",
      "60\n",
      "80\n",
      "100\n",
      "120\n",
      "140\n",
      "160\n",
      "180\n",
      "200\n",
      "220\n",
      "240\n",
      "260\n",
      "280\n",
      "300\n",
      "320\n",
      "340\n",
      "360\n",
      "380\n"
     ]
    }
   ],
   "source": [
    "losses = train_model(model, likelihood, train_x, train_y, training_iter=400, lr=.02)"
   ]
  },
  {
   "cell_type": "code",
   "execution_count": 52,
   "id": "11129ff5-81f3-4e13-a845-4ff3063b9f8f",
   "metadata": {},
   "outputs": [
    {
     "data": {
      "image/png": "[encoded data removed]",
      "text/plain": [
       "<Figure size 480x240 with 1 Axes>"
      ]
     },
     "metadata": {
      "needs_background": "light"
     },
     "output_type": "display_data"
    }
   ],
   "source": [
    "figure(figsize=(6, 3), dpi=80)\n",
    "plt.plot(losses)\n",
    "plt.show()"
   ]
  },
  {
   "cell_type": "code",
   "execution_count": 53,
   "id": "1b414ed2-51cd-4166-8e00-cabdeafa624f",
   "metadata": {},
   "outputs": [],
   "source": [
    "test_x = test_x.cuda()\n",
    "\n",
    "model.eval()\n",
    "f_preds = model(test_x)\n",
    "\n",
    "f_mean = f_preds.mean.cpu().detach().numpy()\n",
    "\n",
    "y_test = test_y.detach().cpu().numpy()"
   ]
  },
  {
   "cell_type": "code",
   "execution_count": 54,
   "id": "a0b6c17e-84f2-4871-aa23-3e5ba7a00332",
   "metadata": {},
   "outputs": [
    {
     "data": {
      "image/png": "[encoded data removed]",
      "text/plain": [
       "<Figure size 400x400 with 1 Axes>"
      ]
     },
     "metadata": {
      "needs_background": "light"
     },
     "output_type": "display_data"
    },
    {
     "name": "stdout",
     "output_type": "stream",
     "text": [
      "r2 = 0.559097\n",
      "R2 = 0.554530\n",
      "mse = 0.003703\n"
     ]
    }
   ],
   "source": [
    "# epistatic\n",
    "figure(figsize=(5, 5), dpi=80)\n",
    "plt.plot(f_mean, y_test, 'o', alpha=.3)\n",
    "plt.show()\n",
    "print('r2 = %f'%pearsonr(f_mean, y_test)[0]**2)\n",
    "print('R2 = %f'%r2(y_test, f_mean))\n",
    "print('mse = %f'%mse(f_mean, y_test))"
   ]
  },
  {
   "cell_type": "code",
   "execution_count": null,
   "id": "3b2059be-f09c-4231-9e07-e4378cd4371b",
   "metadata": {},
   "outputs": [],
   "source": []
  },
  {
   "cell_type": "markdown",
   "id": "975481c3-7b70-49e9-97ea-b02dc80dedad",
   "metadata": {},
   "source": [
    "### Test Di"
   ]
  },
  {
   "cell_type": "code",
   "execution_count": 55,
   "id": "bde28f53-184a-4739-a6b7-759b9437d87b",
   "metadata": {
    "tags": []
   },
   "outputs": [],
   "source": [
    "suball = np.concatenate([sub, sub_t])"
   ]
  },
  {
   "cell_type": "code",
   "execution_count": 56,
   "id": "318cb014-54e7-49ca-8e66-81d14b7e345c",
   "metadata": {},
   "outputs": [],
   "source": [
    "import Di\n",
    "Di.set_params(geno_t[suball])"
   ]
  },
  {
   "cell_type": "code",
   "execution_count": 57,
   "id": "ce9723a2-8c29-4703-94cb-6e8c12c7dbab",
   "metadata": {},
   "outputs": [],
   "source": [
    "train_n = torch.tensor(range(10000)).to(output_device)"
   ]
  },
  {
   "cell_type": "code",
   "execution_count": null,
   "id": "cda2133c-77f1-4b37-bb81-7d2d1d3721ec",
   "metadata": {},
   "outputs": [],
   "source": []
  },
  {
   "cell_type": "code",
   "execution_count": 58,
   "id": "ccfab420-9176-4ce0-8fc3-b3ffbd36939c",
   "metadata": {},
   "outputs": [],
   "source": [
    "ker2 = Di.DiKernel().cuda()\n",
    "ker2.raw_lda = torch.nn.Parameter(torch.tensor(-8.))\n",
    "ker2.raw_eta = torch.nn.Parameter(torch.tensor(-12.))"
   ]
  },
  {
   "cell_type": "code",
   "execution_count": 59,
   "id": "a7f92cc0-cd09-4d0a-978d-1a262af51f50",
   "metadata": {},
   "outputs": [
    {
     "data": {
      "text/plain": [
       "array([[1.12790801, 0.26316077, 0.26134664, ..., 0.30165121, 0.24336607,\n",
       "        0.25346414],\n",
       "       [0.26316077, 1.35494568, 0.25834609, ..., 0.21282889, 0.25131504,\n",
       "        0.29399075],\n",
       "       [0.26134664, 0.25834609, 1.18211291, ..., 0.30208467, 0.22085312,\n",
       "        0.31230808],\n",
       "       ...,\n",
       "       [0.30165121, 0.21282889, 0.30208467, ..., 0.97844272, 0.25564261,\n",
       "        0.24782828],\n",
       "       [0.24336607, 0.25131504, 0.22085312, ..., 0.25564261, 0.71682001,\n",
       "        0.34293459],\n",
       "       [0.25346414, 0.29399075, 0.31230808, ..., 0.24782828, 0.34293459,\n",
       "        1.13549667]])"
      ]
     },
     "execution_count": 59,
     "metadata": {},
     "output_type": "execute_result"
    }
   ],
   "source": [
    "ker2(train_n, train_n).numpy()"
   ]
  },
  {
   "cell_type": "code",
   "execution_count": 60,
   "id": "6915b736-4837-4153-8a60-3fbc96ffbbf6",
   "metadata": {},
   "outputs": [],
   "source": [
    "likelihood = gpytorch.likelihoods.GaussianLikelihood()\n",
    "model = Di.DiGPModel(train_n, train_y, likelihood).to(output_device).double()\n",
    "\n",
    "model.covar_module.raw_lda = torch.nn.Parameter(torch.tensor(-8.))\n",
    "model.covar_module.raw_eta = torch.nn.Parameter(torch.tensor(-12.))\n"
   ]
  },
  {
   "cell_type": "code",
   "execution_count": 61,
   "id": "08e73e9c-815e-4417-9376-80f4df9b7735",
   "metadata": {},
   "outputs": [
    {
     "name": "stdout",
     "output_type": "stream",
     "text": [
      "0\n"
     ]
    },
    {
     "name": "stderr",
     "output_type": "stream",
     "text": [
      "/home/juannanzhou/.local/lib/python3.8/site-packages/gpytorch/utils/linear_cg.py:234: UserWarning: An output with one or more elements was resized since it had shape [11], which does not match the required output shape [1, 11].This behavior is deprecated, and in a future PyTorch release outputs will not be resized unless they have zero elements. You can explicitly reuse an out tensor t by resizing it, inplace, to zero elements with t.resize_(0). (Triggered internally at  /pytorch/aten/src/ATen/native/Resize.cpp:23.)\n",
      "  torch.sum(mul_storage, -2, keepdim=True, out=alpha)\n"
     ]
    },
    {
     "name": "stdout",
     "output_type": "stream",
     "text": [
      "20\n",
      "40\n",
      "60\n",
      "80\n",
      "100\n",
      "120\n",
      "140\n",
      "160\n",
      "180\n",
      "200\n",
      "220\n",
      "240\n",
      "260\n",
      "280\n",
      "300\n",
      "320\n",
      "340\n",
      "360\n",
      "380\n"
     ]
    }
   ],
   "source": [
    "losses = Di.train_model(model, likelihood, train_n, train_y, training_iter=400, lr=0.02)"
   ]
  },
  {
   "cell_type": "code",
   "execution_count": 62,
   "id": "0817dc8d-03c3-4e68-8651-bcf891782e7a",
   "metadata": {},
   "outputs": [],
   "source": [
    "test_n = torch.tensor(range(10000, 15000)).to(output_device)"
   ]
  },
  {
   "cell_type": "code",
   "execution_count": 63,
   "id": "70839447-b584-4031-9f01-ad93ff55fa8f",
   "metadata": {},
   "outputs": [],
   "source": [
    "test_n = test_n.cuda()\n",
    "\n",
    "model.eval()\n",
    "f_preds = model(test_n)\n",
    "\n",
    "f_mean = f_preds.mean.cpu().detach().numpy()\n",
    "\n",
    "y_test = test_y.detach().cpu().numpy()"
   ]
  },
  {
   "cell_type": "code",
   "execution_count": 64,
   "id": "6ab9631c-af2f-4a54-b016-7c6ab8304341",
   "metadata": {},
   "outputs": [
    {
     "data": {
      "image/png": "[encoded data removed]",
      "text/plain": [
       "<Figure size 400x400 with 1 Axes>"
      ]
     },
     "metadata": {
      "needs_background": "light"
     },
     "output_type": "display_data"
    },
    {
     "name": "stdout",
     "output_type": "stream",
     "text": [
      "r2 = 0.558857\n",
      "R2 = 0.554448\n",
      "mse = 0.003704\n"
     ]
    }
   ],
   "source": [
    "# epistatic\n",
    "figure(figsize=(5, 5), dpi=80)\n",
    "plt.plot(f_mean, y_test, 'o', alpha=.3)\n",
    "plt.show()\n",
    "print('r2 = %f'%pearsonr(f_mean, y_test)[0]**2)\n",
    "print('R2 = %f'%r2(y_test, f_mean))\n",
    "print('mse = %f'%mse(f_mean, y_test))"
   ]
  },
  {
   "cell_type": "code",
   "execution_count": null,
   "id": "91ac7687-5ada-44f8-91de-2f24538f97bc",
   "metadata": {},
   "outputs": [],
   "source": []
  },
  {
   "cell_type": "code",
   "execution_count": null,
   "id": "7240cf75-e622-46af-b3c6-f682cebaa457",
   "metadata": {},
   "outputs": [],
   "source": []
  },
  {
   "cell_type": "code",
   "execution_count": null,
   "id": "03d40f61-0bb6-40db-98f5-15bd1734a2f4",
   "metadata": {},
   "outputs": [],
   "source": []
  },
  {
   "cell_type": "code",
   "execution_count": null,
   "id": "5310c1bd-e47e-4795-9702-49c228f65c99",
   "metadata": {},
   "outputs": [],
   "source": []
  },
  {
   "cell_type": "code",
   "execution_count": null,
   "id": "4be85bac-d14b-4a93-8dbd-4501b7ccbea7",
   "metadata": {},
   "outputs": [],
   "source": []
  },
  {
   "cell_type": "code",
   "execution_count": null,
   "id": "989c4ea4-981c-4580-b36d-460f09c2ea70",
   "metadata": {},
   "outputs": [],
   "source": []
  },
  {
   "cell_type": "code",
   "execution_count": null,
   "id": "326d968d-e71f-4fc3-85bc-3350bd2a94df",
   "metadata": {},
   "outputs": [],
   "source": []
  },
  {
   "cell_type": "code",
   "execution_count": 260,
   "id": "f54b87b1-f8f0-4a63-9544-60eb6ab2d531",
   "metadata": {},
   "outputs": [],
   "source": [
    "likelihood = gpytorch.likelihoods.GaussianLikelihood()\n",
    "model = DiGPModel(train_x, train_y, likelihood)\n",
    "model = model.to(output_device)"
   ]
  },
  {
   "cell_type": "code",
   "execution_count": 261,
   "id": "06a4cb73-caa4-48ee-8a65-eca990b8a387",
   "metadata": {},
   "outputs": [],
   "source": [
    "mll = gpytorch.mlls.ExactMarginalLogLikelihood(likelihood, model)"
   ]
  },
  {
   "cell_type": "code",
   "execution_count": 262,
   "id": "a9f5f06d-e459-428e-afd1-ceeaa2aef6c4",
   "metadata": {
    "id": "wgQmFW5a7U43"
   },
   "outputs": [],
   "source": [
    "test_x = test_x.cuda()"
   ]
  },
  {
   "cell_type": "code",
   "execution_count": 263,
   "id": "0bea36b1-728e-4fa2-8788-33a0c1a5ffc9",
   "metadata": {
    "id": "vm4QV20LMs4O",
    "tags": []
   },
   "outputs": [],
   "source": [
    "model.eval()\n",
    "f_preds = model(test_x)"
   ]
  },
  {
   "cell_type": "code",
   "execution_count": 264,
   "id": "aba5113e-d55c-4c6f-aba3-a9c3364557cd",
   "metadata": {
    "id": "OGZwj3R1NV9z"
   },
   "outputs": [],
   "source": [
    "f_mean = f_preds.mean.cpu()"
   ]
  },
  {
   "cell_type": "code",
   "execution_count": 265,
   "id": "af76a5e3-56e4-4eed-b5f1-cd1d86275ccc",
   "metadata": {},
   "outputs": [],
   "source": [
    "f_true = test_y.cpu().numpy()"
   ]
  },
  {
   "cell_type": "code",
   "execution_count": 266,
   "id": "79dbe61c-fa36-486f-8b14-2fe0206dbce3",
   "metadata": {},
   "outputs": [
    {
     "data": {
      "image/png": "[encoded data removed]",
      "text/plain": [
       "<Figure size 400x400 with 1 Axes>"
      ]
     },
     "metadata": {
      "needs_background": "light"
     },
     "output_type": "display_data"
    },
    {
     "name": "stdout",
     "output_type": "stream",
     "text": [
      "r2 = 0.633117\n",
      "R2 = 0.629726\n",
      "mse = 0.011208\n"
     ]
    }
   ],
   "source": [
    "figure(figsize=(5, 5), dpi=80)\n",
    "plt.plot(f_mean.detach().numpy(), f_true, 'o', alpha=.3)\n",
    "plt.show()\n",
    "print('r2 = %f'%pearsonr(f_mean.detach().numpy(), f_true)[0]**2)\n",
    "print('R2 = %f'%r2(f_true, f_mean.detach().numpy()))\n",
    "print('mse = %f'%mse(f_mean.detach().numpy(), f_true))"
   ]
  }
 ],
 "metadata": {
  "kernelspec": {
   "display_name": "PyTorch-1.7.1",
   "language": "python",
   "name": "pytorch-1.7.1"
  },
  "language_info": {
   "codemirror_mode": {
    "name": "ipython",
    "version": 3
   },
   "file_extension": ".py",
   "mimetype": "text/x-python",
   "name": "python",
   "nbconvert_exporter": "python",
   "pygments_lexer": "ipython3",
   "version": "3.8.6"
  }
 },
 "nbformat": 4,
 "nbformat_minor": 5
}
