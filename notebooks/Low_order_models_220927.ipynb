{
 "cells": [
  {
   "cell_type": "code",
   "execution_count": 1,
   "id": "71305987-2377-4302-8b8f-ae77f3643968",
   "metadata": {},
   "outputs": [],
   "source": [
    "def k_1_0(S1, S2, D1, D2):\n",
    "    return -2*D2 + 2*S2\n",
    "\n",
    "def k_0_1(S1, S2, D1, D2):\n",
    "    return -2*D1 + L\n",
    "\n",
    "def k_2_0(S1, S2, D1, D2):\n",
    "    return 2*D2*(D2 - 1) - 4*D2*S2 + 2*(S2 -1)*S2\n",
    "\n",
    "def k_1_1(S1, S2, D1, D2):\n",
    "    return 2*(1 + 2*D1 -L)*(D2 - S2)\n",
    "\n",
    "def k_0_2(S1, S2, D1, D2):\n",
    "    return 2*D1**2 - 2*L*D1 + .5*(L-1)*L"
   ]
  },
  {
   "cell_type": "markdown",
   "id": "7cfbc25e-9c70-4f40-a30a-ccc7e652331e",
   "metadata": {},
   "source": [
    "### Additive + Dominant"
   ]
  },
  {
   "cell_type": "code",
   "execution_count": 4,
   "id": "b000a951-4d12-49d9-812c-4098f1bddc0e",
   "metadata": {},
   "outputs": [],
   "source": [
    "from gpytorch.constraints import Positive\n",
    "from gpytorch.constraints import LessThan\n",
    "from EpiK.kernels import Kernel\n",
    "\n",
    "class K11(Kernel):\n",
    "    \"\"\"Diploid kernel\"\"\"\n",
    "\n",
    "    is_stationary = True\n",
    "\n",
    "    # We will register the parameter when initializing the kernel\n",
    "    def __init__(self, \n",
    "                par_prior=None, par_constraint=None, \n",
    "                **kwargs):\n",
    "      super().__init__(**kwargs)\n",
    "\n",
    "      # register the raw parameter\n",
    "      self.register_parameter(\n",
    "          name='raw_par', \n",
    "          parameter=torch.nn.Parameter(torch.zeros(*self.batch_shape, 2))\n",
    "      )\n",
    "\n",
    "      # set the parameter constraint to be positive, when nothing is specified\n",
    "      if par_constraint is None:\n",
    "          par_constraint = LessThan(upper_bound=0.)\n",
    "\n",
    "      # register the constraint\n",
    "      self.register_constraint(\"raw_par\", par_constraint)\n",
    "\n",
    "\n",
    "    # now set up the 'actual' paramter\n",
    "    @property\n",
    "    def par(self):\n",
    "      # when accessing the parameter, apply the constraint transform\n",
    "      return self.raw_par_constraint.transform(self.raw_par)\n",
    "    @par.setter\n",
    "    def par(self, value):\n",
    "      return self._set_par(value)\n",
    "\n",
    "\n",
    "    def forward(self, geno1, geno2, **params):\n",
    "\n",
    "        global L\n",
    "        L = geno1.shape[1]\n",
    "        \n",
    "        geno1_ht = 1.*(geno1 == 1.)\n",
    "        geno2_ht = 1.*(geno2 == 1.)        \n",
    "        geno1_h0 = 1.*(geno1 == 0.)\n",
    "        geno1_h1 = 1.*(geno1 == 2.)\n",
    "        geno2_h0 = 1.*(geno2 == 0.)\n",
    "        geno2_h1 = 1.*(geno2 == 2.)\n",
    "\n",
    "        S1 = self.covar_dist(geno1_ht, geno2_ht, **params)\n",
    "        S2 = self.covar_dist(geno1_h0, geno2_h0, **params) + self.covar_dist(geno1_h1, geno2_h1, **params)\n",
    "        D2 = self.covar_dist(geno1_h0, geno2_h1, **params) + self.covar_dist(geno1_h1, geno2_h0, **params)\n",
    "        D1 = L - S1 - S2 - D2\n",
    "        \n",
    "        \n",
    "\n",
    "\n",
    "        return torch.exp(self.par[0])*k_1_0(S1, S2, D1, D2) + torch.exp(self.par[1])*k_0_1(S1, S2, D1, D2)\n"
   ]
  },
  {
   "cell_type": "code",
   "execution_count": 5,
   "id": "e4eb9d29-bcb3-43fe-be1f-cab88c193532",
   "metadata": {},
   "outputs": [
    {
     "ename": "NameError",
     "evalue": "name 'torch' is not defined",
     "output_type": "error",
     "traceback": [
      "\u001b[0;31m---------------------------------------------------------------------------\u001b[0m",
      "\u001b[0;31mNameError\u001b[0m                                 Traceback (most recent call last)",
      "\u001b[0;32m/scratch/local/48018959/ipykernel_43612/862554459.py\u001b[0m in \u001b[0;36m<module>\u001b[0;34m\u001b[0m\n\u001b[1;32m      1\u001b[0m \u001b[0;31m# define kernel\u001b[0m\u001b[0;34m\u001b[0m\u001b[0;34m\u001b[0m\u001b[0;34m\u001b[0m\u001b[0m\n\u001b[1;32m      2\u001b[0m \u001b[0;34m\u001b[0m\u001b[0m\n\u001b[0;32m----> 3\u001b[0;31m \u001b[0mker\u001b[0m \u001b[0;34m=\u001b[0m \u001b[0mK11\u001b[0m\u001b[0;34m(\u001b[0m\u001b[0;34m)\u001b[0m\u001b[0;34m\u001b[0m\u001b[0;34m\u001b[0m\u001b[0m\n\u001b[0m",
      "\u001b[0;32m/scratch/local/48018959/ipykernel_43612/3008902193.py\u001b[0m in \u001b[0;36m__init__\u001b[0;34m(self, par_prior, par_constraint, **kwargs)\u001b[0m\n\u001b[1;32m     17\u001b[0m       self.register_parameter(\n\u001b[1;32m     18\u001b[0m           \u001b[0mname\u001b[0m\u001b[0;34m=\u001b[0m\u001b[0;34m'raw_par'\u001b[0m\u001b[0;34m,\u001b[0m\u001b[0;34m\u001b[0m\u001b[0;34m\u001b[0m\u001b[0m\n\u001b[0;32m---> 19\u001b[0;31m           \u001b[0mparameter\u001b[0m\u001b[0;34m=\u001b[0m\u001b[0mtorch\u001b[0m\u001b[0;34m.\u001b[0m\u001b[0mnn\u001b[0m\u001b[0;34m.\u001b[0m\u001b[0mParameter\u001b[0m\u001b[0;34m(\u001b[0m\u001b[0mtorch\u001b[0m\u001b[0;34m.\u001b[0m\u001b[0mzeros\u001b[0m\u001b[0;34m(\u001b[0m\u001b[0;34m*\u001b[0m\u001b[0mself\u001b[0m\u001b[0;34m.\u001b[0m\u001b[0mbatch_shape\u001b[0m\u001b[0;34m,\u001b[0m \u001b[0;36m2\u001b[0m\u001b[0;34m)\u001b[0m\u001b[0;34m)\u001b[0m\u001b[0;34m\u001b[0m\u001b[0;34m\u001b[0m\u001b[0m\n\u001b[0m\u001b[1;32m     20\u001b[0m       )\n\u001b[1;32m     21\u001b[0m \u001b[0;34m\u001b[0m\u001b[0m\n",
      "\u001b[0;31mNameError\u001b[0m: name 'torch' is not defined"
     ]
    }
   ],
   "source": [
    "# define kernel\n",
    "\n",
    "ker = K11()"
   ]
  },
  {
   "cell_type": "code",
   "execution_count": 103,
   "id": "caee2200-260f-45c0-9386-b35a55b29f77",
   "metadata": {},
   "outputs": [
    {
     "data": {
      "text/plain": [
       "tensor([[ 2.0955, -0.0917,  0.0195,  ...,  0.0859, -0.1426,  0.1265],\n",
       "        [-0.0917,  2.2501, -0.0166,  ..., -0.0120,  0.0301,  0.3722],\n",
       "        [ 0.0195, -0.0166,  2.1351,  ...,  0.2024,  0.0504, -0.1873],\n",
       "        ...,\n",
       "        [ 0.0859, -0.0120,  0.2024,  ...,  1.9307,  0.5068,  0.1488],\n",
       "        [-0.1426,  0.0301,  0.0504,  ...,  0.5068,  1.9660,  0.0907],\n",
       "        [ 0.1265,  0.3722, -0.1873,  ...,  0.1488,  0.0907,  2.0311]],\n",
       "       device='cuda:0', grad_fn=<AddBackward0>)"
      ]
     },
     "execution_count": 103,
     "metadata": {},
     "output_type": "execute_result"
    }
   ],
   "source": [
    "# test forward\n",
    "\n",
    "ker(train_x, train_x).evaluate()"
   ]
  },
  {
   "cell_type": "code",
   "execution_count": 98,
   "id": "de28c9c0-7a1a-4771-a9fd-e19645b6d4bd",
   "metadata": {},
   "outputs": [
    {
     "name": "stdout",
     "output_type": "stream",
     "text": [
      "training GP model using CV\n",
      "working on iteration 0\n",
      "working on iteration 10\n",
      "working on iteration 20\n",
      "working on iteration 30\n",
      "working on iteration 40\n"
     ]
    }
   ],
   "source": [
    "# train model\n",
    "print(\"training GP model using CV\")\n",
    "ker, likelihood = train_model_cv(ker, train_x, train_y, 50, .1)"
   ]
  },
  {
   "cell_type": "code",
   "execution_count": 99,
   "id": "363ed711-e174-45a1-ae99-7da95653e429",
   "metadata": {},
   "outputs": [],
   "source": [
    "# make predictions - build model\n",
    "torch.cuda.empty_cache()\n",
    "model = models.ExactGPModel(train_x, train_y, likelihood, ker).to(output_device)"
   ]
  },
  {
   "cell_type": "code",
   "execution_count": 100,
   "id": "e57902f7-8387-4069-a708-bad947e7363b",
   "metadata": {},
   "outputs": [
    {
     "name": "stdout",
     "output_type": "stream",
     "text": [
      "0.3508992254412563\n"
     ]
    }
   ],
   "source": [
    "partition_size = partition_sizes.partitions[i]\n",
    "\n",
    "model.eval()\n",
    "likelihood.eval()\n",
    "with gpytorch.beta_features.checkpoint_kernel(train_x.shape[0]//int(partition_size)):\n",
    "    f_preds = model(test_x)\n",
    "\n",
    "f_mean = f_preds.mean.cpu().detach().numpy()\n",
    "y_test = test_y.detach().cpu().numpy()\n",
    "r2_score = r2(y_test, f_mean)                \n",
    "print(r2_score)"
   ]
  },
  {
   "cell_type": "markdown",
   "id": "fe082c93-a8c6-4b11-8b30-ea7e6dc8dbc8",
   "metadata": {},
   "source": [
    "### Pairwise Epistatic"
   ]
  },
  {
   "cell_type": "code",
   "execution_count": 158,
   "id": "e39f8a20-5ea4-4e77-80ce-63bbe6f84d6b",
   "metadata": {},
   "outputs": [],
   "source": [
    "from gpytorch.constraints import Positive\n",
    "from gpytorch.constraints import LessThan\n",
    "from EpiK.kernels import Kernel\n",
    "\n",
    "class K20(Kernel):\n",
    "    \"\"\"Diploid kernel\"\"\"\n",
    "\n",
    "    is_stationary = True\n",
    "\n",
    "    # We will register the parameter when initializing the kernel\n",
    "    def __init__(self, \n",
    "                par_prior=None, par_constraint=None, \n",
    "                **kwargs):\n",
    "      super().__init__(**kwargs)\n",
    "\n",
    "      # register the raw parameter\n",
    "      self.register_parameter(\n",
    "          name='raw_par', \n",
    "          parameter=torch.nn.Parameter(torch.zeros(*self.batch_shape, 2))\n",
    "      )\n",
    "\n",
    "      # set the parameter constraint to be positive, when nothing is specified\n",
    "      if par_constraint is None:\n",
    "          par_constraint = LessThan(upper_bound=0.)\n",
    "\n",
    "      # register the constraint\n",
    "      self.register_constraint(\"raw_par\", par_constraint)\n",
    "\n",
    "\n",
    "    # now set up the 'actual' paramter\n",
    "    @property\n",
    "    def par(self):\n",
    "      # when accessing the parameter, apply the constraint transform\n",
    "      return self.raw_par_constraint.transform(self.raw_par)\n",
    "    @par.setter\n",
    "    def par(self, value):\n",
    "      return self._set_par(value)\n",
    "\n",
    "\n",
    "    def forward(self, geno1, geno2, **params):\n",
    "\n",
    "        global L\n",
    "        L = geno1.shape[1]\n",
    "        \n",
    "        geno1_ht = 1.*(geno1 == 1.)\n",
    "        geno2_ht = 1.*(geno2 == 1.)        \n",
    "        geno1_h0 = 1.*(geno1 == 0.)\n",
    "        geno1_h1 = 1.*(geno1 == 2.)\n",
    "        geno2_h0 = 1.*(geno2 == 0.)\n",
    "        geno2_h1 = 1.*(geno2 == 2.)\n",
    "\n",
    "        S1 = self.covar_dist(geno1_ht, geno2_ht, **params)\n",
    "        S2 = self.covar_dist(geno1_h0, geno2_h0, **params) + self.covar_dist(geno1_h1, geno2_h1, **params)\n",
    "        D2 = self.covar_dist(geno1_h0, geno2_h1, **params) + self.covar_dist(geno1_h1, geno2_h0, **params)\n",
    "        D1 = L - S1 - S2 - D2\n",
    "        \n",
    "        \n",
    "\n",
    "\n",
    "        return torch.exp(self.par[0])*k_1_0(S1, S2, D1, D2) + torch.exp(self.par[1])*k_2_0(S1, S2, D1, D2)\n"
   ]
  },
  {
   "cell_type": "code",
   "execution_count": 159,
   "id": "b869eac1-d1cf-454e-a4cb-67aec04018a5",
   "metadata": {},
   "outputs": [],
   "source": [
    "# define kernel\n",
    "\n",
    "ker = K20()"
   ]
  },
  {
   "cell_type": "code",
   "execution_count": 160,
   "id": "c1f71918-155c-40d9-bfbb-264de2f05ded",
   "metadata": {},
   "outputs": [],
   "source": [
    "ker.raw_par = torch.nn.Parameter(torch.tensor([0., -torch.log(torch.tensor(10000.))]))"
   ]
  },
  {
   "cell_type": "code",
   "execution_count": 171,
   "id": "f54ad7e5-e2ca-4c35-be89-467c8a58a964",
   "metadata": {},
   "outputs": [
    {
     "data": {
      "text/plain": [
       "tensor([ -9.1755, -17.2649], device='cuda:0', grad_fn=<AddBackward0>)"
      ]
     },
     "execution_count": 171,
     "metadata": {},
     "output_type": "execute_result"
    }
   ],
   "source": [
    "ker.par"
   ]
  },
  {
   "cell_type": "code",
   "execution_count": 167,
   "id": "a31a2b7f-4aef-42e3-a8a9-69003c090abd",
   "metadata": {},
   "outputs": [
    {
     "data": {
      "text/plain": [
       "tensor([[ 8.7927e+01,  5.4029e-01,  9.3856e-02,  ...,  2.2749e-01,\n",
       "         -3.2287e+00,  3.2500e+00],\n",
       "        [ 5.4029e-01,  1.0533e+02, -2.3651e-01,  ...,  3.8844e+00,\n",
       "          5.0192e+00,  1.5172e+01],\n",
       "        [ 9.3856e-02, -2.3651e-01,  9.2249e+01,  ...,  3.3238e+00,\n",
       "          2.7738e+00, -3.1521e+00],\n",
       "        ...,\n",
       "        [ 2.2749e-01,  3.8844e+00,  3.3238e+00,  ...,  7.0900e+01,\n",
       "          1.5270e+01,  7.8569e+00],\n",
       "        [-3.2287e+00,  5.0192e+00,  2.7738e+00,  ...,  1.5270e+01,\n",
       "          7.4418e+01,  2.6287e+00],\n",
       "        [ 3.2500e+00,  1.5172e+01, -3.1521e+00,  ...,  7.8569e+00,\n",
       "          2.6287e+00,  8.1081e+01]], device='cuda:0', grad_fn=<AddBackward0>)"
      ]
     },
     "execution_count": 167,
     "metadata": {},
     "output_type": "execute_result"
    }
   ],
   "source": [
    "# test forward\n",
    "\n",
    "ker(train_x, train_x).evaluate()"
   ]
  },
  {
   "cell_type": "code",
   "execution_count": 172,
   "id": "b2828457-51a8-4f5f-86c3-43528c843682",
   "metadata": {},
   "outputs": [
    {
     "name": "stdout",
     "output_type": "stream",
     "text": [
      "training GP model using CV\n",
      "working on iteration 0\n",
      "working on iteration 10\n",
      "working on iteration 20\n",
      "working on iteration 30\n",
      "working on iteration 40\n"
     ]
    }
   ],
   "source": [
    "# train model\n",
    "print(\"training GP model using CV\")\n",
    "ker, likelihood = train_model_cv(ker, train_x, train_y, 50, .1)"
   ]
  },
  {
   "cell_type": "code",
   "execution_count": 173,
   "id": "7e017d19-167f-4fc5-93f8-fe2a02d24117",
   "metadata": {},
   "outputs": [],
   "source": [
    "# make predictions - build model\n",
    "torch.cuda.empty_cache()\n",
    "model = models.ExactGPModel(train_x, train_y, likelihood, ker).to(output_device)"
   ]
  },
  {
   "cell_type": "code",
   "execution_count": 174,
   "id": "088b9f70-dc16-46cb-aaed-b00ba81a4f8f",
   "metadata": {},
   "outputs": [
    {
     "name": "stdout",
     "output_type": "stream",
     "text": [
      "0.3502157336240562\n"
     ]
    }
   ],
   "source": [
    "partition_size = partition_sizes.partitions[i]\n",
    "\n",
    "model.eval()\n",
    "likelihood.eval()\n",
    "with gpytorch.beta_features.checkpoint_kernel(train_x.shape[0]//int(partition_size)):\n",
    "    f_preds = model(test_x)\n",
    "\n",
    "f_mean = f_preds.mean.cpu().detach().numpy()\n",
    "y_test = test_y.detach().cpu().numpy()\n",
    "r2_score = r2(y_test, f_mean)                \n",
    "print(r2_score)"
   ]
  },
  {
   "cell_type": "code",
   "execution_count": null,
   "id": "ef3c6a21-7d9a-4527-8c2c-2288d10a3a82",
   "metadata": {},
   "outputs": [],
   "source": []
  },
  {
   "cell_type": "markdown",
   "id": "d0d91633-4b57-43c0-80b0-59e99af70294",
   "metadata": {},
   "source": [
    "### Pairwise Epistatic + Dominant"
   ]
  },
  {
   "cell_type": "code",
   "execution_count": 205,
   "id": "4d1afd4e-f66e-4008-91c1-2676d95bdede",
   "metadata": {},
   "outputs": [],
   "source": [
    "from gpytorch.constraints import Positive\n",
    "from gpytorch.constraints import LessThan\n",
    "from EpiK.kernels import Kernel\n",
    "\n",
    "class K2(Kernel):\n",
    "    \"\"\"Diploid kernel\"\"\"\n",
    "\n",
    "    is_stationary = True\n",
    "\n",
    "    # We will register the parameter when initializing the kernel\n",
    "    def __init__(self, \n",
    "                par_prior=None, par_constraint=None, \n",
    "                **kwargs):\n",
    "      super().__init__(**kwargs)\n",
    "\n",
    "      # register the raw parameter\n",
    "      self.register_parameter(\n",
    "          name='raw_par', \n",
    "          parameter=torch.nn.Parameter(torch.zeros(*self.batch_shape, 5))\n",
    "      )\n",
    "\n",
    "      # set the parameter constraint to be positive, when nothing is specified\n",
    "      if par_constraint is None:\n",
    "          par_constraint = LessThan(upper_bound=0.)\n",
    "\n",
    "      # register the constraint\n",
    "      self.register_constraint(\"raw_par\", par_constraint)\n",
    "\n",
    "\n",
    "    # now set up the 'actual' paramter\n",
    "    @property\n",
    "    def par(self):\n",
    "      # when accessing the parameter, apply the constraint transform\n",
    "      return self.raw_par_constraint.transform(self.raw_par)\n",
    "    @par.setter\n",
    "    def par(self, value):\n",
    "      return self._set_par(value)\n",
    "\n",
    "\n",
    "    def forward(self, geno1, geno2, **params):\n",
    "\n",
    "        global L\n",
    "        L = geno1.shape[1]\n",
    "        \n",
    "        geno1_ht = 1.*(geno1 == 1.)\n",
    "        geno2_ht = 1.*(geno2 == 1.)        \n",
    "        geno1_h0 = 1.*(geno1 == 0.)\n",
    "        geno1_h1 = 1.*(geno1 == 2.)\n",
    "        geno2_h0 = 1.*(geno2 == 0.)\n",
    "        geno2_h1 = 1.*(geno2 == 2.)\n",
    "\n",
    "        S1 = self.covar_dist(geno1_ht, geno2_ht, **params)\n",
    "        S2 = self.covar_dist(geno1_h0, geno2_h0, **params) + self.covar_dist(geno1_h1, geno2_h1, **params)\n",
    "        D2 = self.covar_dist(geno1_h0, geno2_h1, **params) + self.covar_dist(geno1_h1, geno2_h0, **params)\n",
    "        D1 = L - S1 - S2 - D2\n",
    "        \n",
    "        Ks = torch.stack([k_1_0(S1, S2, D1, D2), k_0_1(S1, S2, D1, D2), k_1_1(S1, S2, D1, D2), \n",
    "                    k_2_0(S1, S2, D1, D2), k_0_2(S1, S2, D1, D2)])\n",
    "        Ks_reweighted = torch.mul(torch.exp(self.par).unsqueeze(1).unsqueeze(1), Ks)\n",
    "\n",
    "\n",
    "        return torch.sum(Ks_reweighted, dim=0)\n",
    "    \n"
   ]
  },
  {
   "cell_type": "code",
   "execution_count": 241,
   "id": "0d995d20-222c-4a11-9476-16e532c5a6c0",
   "metadata": {},
   "outputs": [],
   "source": [
    "# define kernel\n",
    "\n",
    "ker = K2()"
   ]
  },
  {
   "cell_type": "code",
   "execution_count": 262,
   "id": "5a8c4895-1b96-46ea-b228-4aab985dac22",
   "metadata": {},
   "outputs": [],
   "source": [
    "orders = [1, 1, 200, 200, 200]\n",
    "\n",
    "log_par0 = -2*torch.log(torch.tensor(orders))"
   ]
  },
  {
   "cell_type": "code",
   "execution_count": 263,
   "id": "18fc97ba-50d0-4c62-9881-fd7a66684564",
   "metadata": {},
   "outputs": [],
   "source": [
    "ker.raw_par = torch.nn.Parameter(log_par0)"
   ]
  },
  {
   "cell_type": "code",
   "execution_count": 264,
   "id": "d94c0980-498b-47f7-8cf5-fe909726e5e5",
   "metadata": {},
   "outputs": [],
   "source": [
    "ker = ker.to(output_device)"
   ]
  },
  {
   "cell_type": "code",
   "execution_count": 265,
   "id": "6881f561-f5b6-43a1-bbf1-1a29fad888df",
   "metadata": {},
   "outputs": [
    {
     "data": {
      "text/plain": [
       "tensor([[11381.7090,  -397.0153,    82.1189,  ...,   371.4546,  -531.2731,\n",
       "           495.4877],\n",
       "        [ -397.0153, 12386.7285,   -67.0020,  ...,  -122.4593,    38.8508,\n",
       "          1452.1964],\n",
       "        [   82.1189,   -67.0020, 11636.0859,  ...,   841.4955,   166.1476,\n",
       "          -712.8038],\n",
       "        ...,\n",
       "        [  371.4546,  -122.4593,   841.4955,  ..., 10343.4844,  2125.5254,\n",
       "           516.4810],\n",
       "        [ -531.2731,    38.8508,   166.1476,  ...,  2125.5254, 10563.2266,\n",
       "           346.6054],\n",
       "        [  495.4877,  1452.1964,  -712.8038,  ...,   516.4810,   346.6054,\n",
       "         10971.6328]], device='cuda:0', grad_fn=<SumBackward1>)"
      ]
     },
     "execution_count": 265,
     "metadata": {},
     "output_type": "execute_result"
    }
   ],
   "source": [
    "# test forward\n",
    "\n",
    "ker(train_x, train_x).evaluate()"
   ]
  },
  {
   "cell_type": "code",
   "execution_count": 272,
   "id": "c88b041d-025f-4a8f-a316-bf1ff36ea989",
   "metadata": {},
   "outputs": [
    {
     "name": "stdout",
     "output_type": "stream",
     "text": [
      "training GP model using CV\n",
      "working on iteration 0\n",
      "working on iteration 10\n",
      "working on iteration 20\n",
      "working on iteration 30\n",
      "working on iteration 40\n"
     ]
    }
   ],
   "source": [
    "# train model\n",
    "print(\"training GP model using CV\")\n",
    "ker, likelihood = train_model_cv(ker, train_x, train_y, 50, .1)"
   ]
  },
  {
   "cell_type": "code",
   "execution_count": 273,
   "id": "41515195-ef3f-4e6b-a528-d5b93b38db48",
   "metadata": {},
   "outputs": [],
   "source": [
    "# make predictions - build model\n",
    "torch.cuda.empty_cache()\n",
    "model = models.ExactGPModel(train_x, train_y, likelihood, ker).to(output_device)"
   ]
  },
  {
   "cell_type": "code",
   "execution_count": 274,
   "id": "d63e056a-ff60-4c6c-8d21-54731b431eab",
   "metadata": {},
   "outputs": [
    {
     "name": "stdout",
     "output_type": "stream",
     "text": [
      "0.37757590030985866\n"
     ]
    }
   ],
   "source": [
    "partition_size = partition_sizes.partitions[i]\n",
    "\n",
    "model.eval()\n",
    "likelihood.eval()\n",
    "with gpytorch.beta_features.checkpoint_kernel(train_x.shape[0]//int(partition_size)):\n",
    "    f_preds = model(test_x)\n",
    "\n",
    "f_mean = f_preds.mean.cpu().detach().numpy()\n",
    "y_test = test_y.detach().cpu().numpy()\n",
    "r2_score = r2(y_test, f_mean)                \n",
    "print(r2_score)"
   ]
  },
  {
   "cell_type": "code",
   "execution_count": 275,
   "id": "5e158e17-75f3-4877-a813-bfadd94d176a",
   "metadata": {},
   "outputs": [
    {
     "data": {
      "text/plain": [
       "tensor([ -0.9894,  -2.4193, -11.1024,  -9.1453,  -9.3189], device='cuda:0',\n",
       "       grad_fn=<AddBackward0>)"
      ]
     },
     "execution_count": 275,
     "metadata": {},
     "output_type": "execute_result"
    }
   ],
   "source": [
    "ker.par"
   ]
  },
  {
   "cell_type": "code",
   "execution_count": null,
   "id": "e288d957-d69e-4e9b-b37a-b2681072d5ff",
   "metadata": {},
   "outputs": [],
   "source": []
  },
  {
   "cell_type": "markdown",
   "id": "aa450872-5d86-4db4-917d-064226601c5b",
   "metadata": {},
   "source": [
    "### All epistatic"
   ]
  },
  {
   "cell_type": "markdown",
   "id": "a951c2d6-f261-430c-8bdf-269f818e15c5",
   "metadata": {},
   "source": [
    "### All dominant"
   ]
  },
  {
   "cell_type": "markdown",
   "id": "716544bd-425b-4bfd-9200-e065e6ec9537",
   "metadata": {},
   "source": [
    "### Low order + All order"
   ]
  },
  {
   "cell_type": "code",
   "execution_count": 7,
   "id": "1b8f8956-1a6e-4cb9-b20f-f2fd90ed3c00",
   "metadata": {},
   "outputs": [],
   "source": [
    "import pandas as pd\n",
    "import os\n",
    "import gc\n",
    "import numpy as np\n",
    "import matplotlib.pyplot as plt\n",
    "from matplotlib.pyplot import figure\n",
    "import GPUtil\n",
    "\n",
    "import torch\n",
    "import gpytorch\n",
    "\n",
    "from scipy.stats import pearsonr\n",
    "from scipy.special import binom as binom\n",
    "from sklearn.metrics import r2_score as r2\n",
    "from sklearn.metrics import mean_squared_error as mse\n",
    "from sklearn.model_selection import train_test_split"
   ]
  },
  {
   "cell_type": "code",
   "execution_count": 8,
   "id": "76e6c60f-19c8-4956-abd5-70671f652ace",
   "metadata": {},
   "outputs": [],
   "source": [
    "import sys\n",
    "sys.path.insert(1, '../')\n",
    "import EpiK.models as models"
   ]
  },
  {
   "cell_type": "code",
   "execution_count": 9,
   "id": "adb22447-10a6-4a95-8328-a7f870b42aff",
   "metadata": {},
   "outputs": [
    {
     "name": "stdout",
     "output_type": "stream",
     "text": [
      "number of GPUs = 8; output device = 0\n"
     ]
    }
   ],
   "source": [
    "output_device = 0\n",
    "n_devices = torch.cuda.device_count()\n",
    "models.set_params(output_device, n_devices)\n",
    "print(\"number of GPUs = {}; output device = {}\".\n",
    "      format(n_devices, torch.cuda.current_device()))"
   ]
  },
  {
   "cell_type": "code",
   "execution_count": 10,
   "id": "03a52587-4d13-4edd-89cc-709780a02a87",
   "metadata": {},
   "outputs": [],
   "source": [
    "from EpiK.functions import get_data, get_envs, set_data_path\n",
    "set_data_path(\"../matsui_data/\")"
   ]
  },
  {
   "cell_type": "code",
   "execution_count": 11,
   "id": "70efde5b-5a4f-4dcd-b0cb-d04c630a0282",
   "metadata": {},
   "outputs": [],
   "source": [
    "# training sizes\n",
    "props = [.01, .05, .1, .2, .3, .4, .5, .6, .7, .8, .9, .95]"
   ]
  },
  {
   "cell_type": "code",
   "execution_count": 12,
   "id": "6df3aca7-5453-483a-bf14-da76a1e82214",
   "metadata": {},
   "outputs": [],
   "source": [
    "# check_point sizes\n",
    "partitions = [2, 2, 2, 2, 4, 4, 4, 4, 16, 32, 64, 120]\n",
    "pd.DataFrame({\"props\":props, \"partitions\":partitions}).to_csv(\"partition_sizes.csv\", index=None)"
   ]
  },
  {
   "cell_type": "code",
   "execution_count": 13,
   "id": "83175571-b896-4df2-8d52-5d0e2fe16837",
   "metadata": {},
   "outputs": [],
   "source": [
    "partition_sizes = pd.read_csv(\"partition_sizes.csv\")"
   ]
  },
  {
   "cell_type": "markdown",
   "id": "0cd6a183-9ddd-4983-a893-0a8965da203a",
   "metadata": {},
   "source": [
    "### Data"
   ]
  },
  {
   "cell_type": "code",
   "execution_count": 14,
   "id": "79d90926-53ef-4871-9a58-4314305304e1",
   "metadata": {},
   "outputs": [],
   "source": [
    "env_list = get_envs()\n",
    "env = env_list[5]"
   ]
  },
  {
   "cell_type": "code",
   "execution_count": 15,
   "id": "016a411e-897e-41f7-b0b2-08338ee6a6ca",
   "metadata": {},
   "outputs": [
    {
     "name": "stderr",
     "output_type": "stream",
     "text": [
      "/blue/juannanzhou/EpiK/notebooks/../EpiK/functions.py:35: UserWarning: To copy construct from a tensor, it is recommended to use sourceTensor.clone().detach() or sourceTensor.clone().detach().requires_grad_(True), rather than torch.tensor(sourceTensor).\n",
      "  geno_t = torch.tensor(geno_t, dtype=torch.float)\n"
     ]
    }
   ],
   "source": [
    "geno_t, pheno = get_data(env)"
   ]
  },
  {
   "cell_type": "code",
   "execution_count": 16,
   "id": "907df518-ff19-49ee-a5a3-693ed3c75720",
   "metadata": {},
   "outputs": [],
   "source": [
    "inds_sub = np.where(np.array(pheno.pheno < -0.6) == False)[0]"
   ]
  },
  {
   "cell_type": "code",
   "execution_count": 17,
   "id": "30c88862-6eb3-4801-ae44-fab65540ae83",
   "metadata": {},
   "outputs": [
    {
     "name": "stdout",
     "output_type": "stream",
     "text": [
      "| ID | GPU | MEM |\n",
      "------------------\n",
      "|  0 |  0% | 45% |\n",
      "|  1 |  0% |  0% |\n",
      "|  2 |  0% |  0% |\n",
      "|  3 |  0% |  0% |\n",
      "|  4 |  0% |  0% |\n",
      "|  5 |  0% |  0% |\n",
      "|  6 |  0% |  0% |\n",
      "|  7 |  0% |  0% |\n"
     ]
    }
   ],
   "source": [
    "GPUtil.showUtilization()"
   ]
  },
  {
   "cell_type": "code",
   "execution_count": 31,
   "id": "d5dc53dd-a6ed-4b92-82ff-e5735611b032",
   "metadata": {},
   "outputs": [],
   "source": [
    "def get_train_test(sub, sub_t):\n",
    "    train_x = geno_t[sub]\n",
    "    train_y = torch.tensor(np.array(pheno.pheno[sub]), dtype=torch.float32)\n",
    "    test_x = geno_t[sub_t]\n",
    "    test_y = torch.tensor(np.array(pheno.pheno[sub_t]), dtype=torch.float32)\n",
    "    train_x, train_y = train_x.contiguous(), train_y.contiguous()\n",
    "    test_x, test_y = test_x.contiguous(), test_y.contiguous()\n",
    "    train_x, train_y = train_x.to(output_device), train_y.to(output_device)\n",
    "    test_x, test_y = test_x.to(output_device), test_y.to(output_device)\n",
    "    return train_x, test_x, train_y, test_y"
   ]
  },
  {
   "cell_type": "code",
   "execution_count": 32,
   "id": "12dbc2fd-3ae7-43a9-a972-1975a8736ec5",
   "metadata": {},
   "outputs": [],
   "source": [
    "i=0 \n",
    "np.random.seed(100)\n",
    "train_size = np.round(props[i]*len(inds_sub)).astype('int')\n",
    "sub = np.random.choice(inds_sub, train_size)\n",
    "sub_t = np.random.choice(list(set(inds_sub).difference(sub)), 2000)"
   ]
  },
  {
   "cell_type": "code",
   "execution_count": 33,
   "id": "227913bd-52ac-42df-877a-ce310e9b4f37",
   "metadata": {},
   "outputs": [],
   "source": [
    "train_x, test_x, train_y, test_y = get_train_test(sub, sub_t)"
   ]
  },
  {
   "cell_type": "markdown",
   "id": "791dea23-be59-41f8-be89-ec5c7aa74ecd",
   "metadata": {},
   "source": [
    "### Train model"
   ]
  },
  {
   "cell_type": "code",
   "execution_count": 36,
   "id": "c56abd4b-ade3-4900-95ad-6458141ddbbc",
   "metadata": {},
   "outputs": [],
   "source": [
    "import EpiK.functions\n",
    "from EpiK.functions import train_model_cv\n",
    "\n",
    "EpiK.functions.output_device = output_device\n",
    "EpiK.functions.n_devices = n_devices"
   ]
  },
  {
   "cell_type": "code",
   "execution_count": 46,
   "id": "5e13c3c3-fd6c-440b-882f-f664a1e119ca",
   "metadata": {},
   "outputs": [],
   "source": [
    "# define kernel\n",
    "\n",
    "from EpiK.kernels import DiKernel\n",
    "ker = DiKernel()\n",
    "ker.raw_lda = torch.nn.Parameter(torch.tensor(-8.))\n",
    "ker.raw_eta = torch.nn.Parameter(torch.tensor(-12.))"
   ]
  },
  {
   "cell_type": "code",
   "execution_count": 55,
   "id": "4fa5e871-2805-4216-9ae9-b7d1f5249ae5",
   "metadata": {},
   "outputs": [],
   "source": [
    "# define kernel\n",
    "\n",
    "from EpiK.kernels import RBFKernel\n",
    "ker = RBFKernel()\n",
    "\n",
    "EpiK.kernels.L = geno_t.shape[1]\n",
    "# ls = torch.tensor([[96.04]]).to(output_device)\n",
    "# ker = gpytorch.kernels.RBFKernel().to(output_device)\n",
    "\n",
    "# ker.lengthscale = ls"
   ]
  },
  {
   "cell_type": "code",
   "execution_count": 59,
   "id": "b0980142-a17c-4c13-bd75-150bff2874cc",
   "metadata": {},
   "outputs": [],
   "source": [
    "# define kernel\n",
    "\n",
    "from EpiK.kernels import LinKernel\n",
    "ker = LinKernel()"
   ]
  },
  {
   "cell_type": "code",
   "execution_count": null,
   "id": "3f19288a-c314-487f-96a4-85ab780656e8",
   "metadata": {},
   "outputs": [],
   "source": [
    "# train model\n",
    "print(\"training GP model using CV\")\n",
    "ker, likelihood = train_model_cv(ker, train_x, train_y, 50, .1)"
   ]
  },
  {
   "cell_type": "code",
   "execution_count": 61,
   "id": "00e1858e-907c-46ab-8ee1-7803c7c28d23",
   "metadata": {},
   "outputs": [],
   "source": [
    "# make predictions - build model\n",
    "torch.cuda.empty_cache()\n",
    "model = models.ExactGPModel(train_x, train_y, likelihood, ker).to(output_device)"
   ]
  },
  {
   "cell_type": "code",
   "execution_count": 62,
   "id": "77b37e6d-e2f0-41e9-bc80-10d9c4ea13ea",
   "metadata": {},
   "outputs": [
    {
     "name": "stderr",
     "output_type": "stream",
     "text": [
      "/home/juannanzhou/.local/lib/python3.9/site-packages/gpytorch/utils/linear_cg.py:321: NumericalWarning: CG terminated in 1000 iterations with average residual norm 2176170.0 which is larger than the tolerance of 0.01 specified by gpytorch.settings.cg_tolerance. If performance is affected, consider raising the maximum number of CG iterations by running code in a gpytorch.settings.max_cg_iterations(value) context.\n",
      "  warnings.warn(\n"
     ]
    },
    {
     "name": "stdout",
     "output_type": "stream",
     "text": [
      "-4023169547572.15\n"
     ]
    }
   ],
   "source": [
    "partition_size = partition_sizes.partitions[i]\n",
    "\n",
    "model.eval()\n",
    "likelihood.eval()\n",
    "with gpytorch.beta_features.checkpoint_kernel(train_x.shape[0]//int(partition_size)):\n",
    "    f_preds = model(test_x)\n",
    "\n",
    "f_mean = f_preds.mean.cpu().detach().numpy()\n",
    "y_test = test_y.detach().cpu().numpy()\n",
    "r2_score = r2(y_test, f_mean)                \n",
    "print(r2_score)"
   ]
  },
  {
   "cell_type": "code",
   "execution_count": 64,
   "id": "44a32d56-7bc2-4e6b-8992-1ef7f203b0ea",
   "metadata": {},
   "outputs": [],
   "source": [
    "def k_1_0(S1, S2, D1, D2):\n",
    "    return -2*D2 + 2*S2\n",
    "\n",
    "def k_0_1(S1, S2, D1, D2):\n",
    "    return -2*D1 + L\n",
    "\n",
    "def k_2_0(S1, S2, D1, D2):\n",
    "    return 2*(d2 - 1) - 4*d2*s2 + 2*(s2 -1)*s2\n",
    "\n",
    "def k_1_1(S1, S2, D1, D2):\n",
    "    return 2*(1 + 2*d1 -L)*(D2 - S2)\n",
    "\n",
    "def k_0_2(S1, S2, D1, D2):\n",
    "    return 2*d1**2 - 2*L*d1 + .5*(L-1)*L"
   ]
  },
  {
   "cell_type": "code",
   "execution_count": null,
   "id": "753e389a-dd06-4d4e-9a9f-7c9211f10ff1",
   "metadata": {},
   "outputs": [],
   "source": []
  },
  {
   "cell_type": "code",
   "execution_count": null,
   "id": "82b9b489-d675-4f3e-a103-04b05464bc6a",
   "metadata": {},
   "outputs": [],
   "source": []
  },
  {
   "cell_type": "code",
   "execution_count": 5,
   "id": "3059325a-fcf4-4642-87c1-42c88acfcd56",
   "metadata": {},
   "outputs": [
    {
     "ename": "NameError",
     "evalue": "name 'geno_t' is not defined",
     "output_type": "error",
     "traceback": [
      "\u001b[0;31m---------------------------------------------------------------------------\u001b[0m",
      "\u001b[0;31mNameError\u001b[0m                                 Traceback (most recent call last)",
      "\u001b[0;32m/scratch/local/48018959/ipykernel_30656/1754135273.py\u001b[0m in \u001b[0;36m<module>\u001b[0;34m\u001b[0m\n\u001b[0;32m----> 1\u001b[0;31m \u001b[0mgeno_np\u001b[0m \u001b[0;34m=\u001b[0m \u001b[0mgeno_t\u001b[0m\u001b[0;34m.\u001b[0m\u001b[0mcpu\u001b[0m\u001b[0;34m(\u001b[0m\u001b[0;34m)\u001b[0m\u001b[0;34m.\u001b[0m\u001b[0mnumpy\u001b[0m\u001b[0;34m(\u001b[0m\u001b[0;34m)\u001b[0m\u001b[0;34m\u001b[0m\u001b[0;34m\u001b[0m\u001b[0m\n\u001b[0m",
      "\u001b[0;31mNameError\u001b[0m: name 'geno_t' is not defined"
     ]
    }
   ],
   "source": [
    "geno_np = geno_t.cpu().numpy()"
   ]
  },
  {
   "cell_type": "code",
   "execution_count": 4,
   "id": "9ea21b38-a77d-4640-a9ec-819ef816de92",
   "metadata": {},
   "outputs": [
    {
     "ename": "NameError",
     "evalue": "name 'geno_np' is not defined",
     "output_type": "error",
     "traceback": [
      "\u001b[0;31m---------------------------------------------------------------------------\u001b[0m",
      "\u001b[0;31mNameError\u001b[0m                                 Traceback (most recent call last)",
      "\u001b[0;32m/scratch/local/48018959/ipykernel_30656/2445042959.py\u001b[0m in \u001b[0;36m<module>\u001b[0;34m\u001b[0m\n\u001b[1;32m      1\u001b[0m \u001b[0;32mimport\u001b[0m \u001b[0mpandas\u001b[0m \u001b[0;32mas\u001b[0m \u001b[0mpd\u001b[0m\u001b[0;34m\u001b[0m\u001b[0;34m\u001b[0m\u001b[0m\n\u001b[0;32m----> 2\u001b[0;31m \u001b[0mgeno_pd\u001b[0m \u001b[0;34m=\u001b[0m \u001b[0mpd\u001b[0m\u001b[0;34m.\u001b[0m\u001b[0mDataFrame\u001b[0m\u001b[0;34m(\u001b[0m\u001b[0mgeno_np\u001b[0m\u001b[0;34m)\u001b[0m\u001b[0;34m\u001b[0m\u001b[0;34m\u001b[0m\u001b[0m\n\u001b[0m",
      "\u001b[0;31mNameError\u001b[0m: name 'geno_np' is not defined"
     ]
    }
   ],
   "source": [
    "import pandas as pd\n",
    "geno_pd = pd.DataFrame(geno_np)"
   ]
  },
  {
   "cell_type": "code",
   "execution_count": null,
   "id": "25e6b3f9-ae53-42c2-8bbd-75bb5cdf6a63",
   "metadata": {},
   "outputs": [],
   "source": []
  }
 ],
 "metadata": {
  "kernelspec": {
   "display_name": "PyTorch-1.8.1",
   "language": "python",
   "name": "pytorch-1.8.1"
  },
  "language_info": {
   "codemirror_mode": {
    "name": "ipython",
    "version": 3
   },
   "file_extension": ".py",
   "mimetype": "text/x-python",
   "name": "python",
   "nbconvert_exporter": "python",
   "pygments_lexer": "ipython3",
   "version": "3.9.5"
  }
 },
 "nbformat": 4,
 "nbformat_minor": 5
}
