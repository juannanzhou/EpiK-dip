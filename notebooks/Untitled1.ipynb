{
 "cells": [
  {
   "cell_type": "code",
   "execution_count": null,
   "id": "51f9ca53-3246-436b-a462-7bedd1645409",
   "metadata": {},
   "outputs": [],
   "source": []
  },
  {
   "cell_type": "markdown",
   "id": "2d54a7a1-062d-4e22-8cd0-3e3e10f50b1f",
   "metadata": {},
   "source": [
    "### Low order + All order"
   ]
  },
  {
   "cell_type": "code",
   "execution_count": 1,
   "id": "8e86cb10-0f8c-401d-9ae7-a9272a3f786a",
   "metadata": {},
   "outputs": [],
   "source": [
    "import pandas as pd\n",
    "import os\n",
    "import gc\n",
    "import numpy as np\n",
    "import matplotlib.pyplot as plt\n",
    "from matplotlib.pyplot import figure\n",
    "import GPUtil\n",
    "\n",
    "import torch\n",
    "import gpytorch\n",
    "\n",
    "from scipy.stats import pearsonr\n",
    "from scipy.special import binom as binom\n",
    "from sklearn.metrics import r2_score as r2\n",
    "from sklearn.metrics import mean_squared_error as mse\n",
    "from sklearn.model_selection import train_test_split"
   ]
  },
  {
   "cell_type": "code",
   "execution_count": 2,
   "id": "6960172f-36db-4b88-ac0c-f248d50f467b",
   "metadata": {},
   "outputs": [],
   "source": [
    "import sys\n",
    "sys.path.insert(1, '../')\n",
    "import EpiK.models as models"
   ]
  },
  {
   "cell_type": "code",
   "execution_count": 3,
   "id": "d1ca7ac0-3a00-41d2-9ccf-a20e043e0ed1",
   "metadata": {},
   "outputs": [],
   "source": [
    "from EpiK.functions import get_data, get_envs, set_data_path\n",
    "set_data_path(\"../matsui_data/\")"
   ]
  },
  {
   "cell_type": "code",
   "execution_count": 4,
   "id": "fa405544-1b43-40c0-9ff9-8a0355638fd5",
   "metadata": {},
   "outputs": [],
   "source": [
    "# training sizes\n",
    "props = [.01, .05, .1, .2, .3, .4, .5, .6, .7, .8, .9, .95]"
   ]
  },
  {
   "cell_type": "code",
   "execution_count": 5,
   "id": "f50fdead-8838-4ff2-ac23-9d5c72694f75",
   "metadata": {},
   "outputs": [],
   "source": [
    "# check_point sizes\n",
    "partitions = [2, 2, 2, 2, 4, 4, 4, 4, 16, 32, 64, 120]\n",
    "pd.DataFrame({\"props\":props, \"partitions\":partitions}).to_csv(\"partition_sizes.csv\", index=None)"
   ]
  },
  {
   "cell_type": "code",
   "execution_count": 6,
   "id": "21684ec2-8085-49fa-a28d-064ce9ebe850",
   "metadata": {},
   "outputs": [],
   "source": [
    "partition_sizes = pd.read_csv(\"partition_sizes.csv\")"
   ]
  },
  {
   "cell_type": "markdown",
   "id": "62c36d39-6d0b-4cd6-9a0c-358370744d76",
   "metadata": {},
   "source": [
    "### Data"
   ]
  },
  {
   "cell_type": "code",
   "execution_count": 7,
   "id": "dcad7063-aef6-414f-82b9-08cde7b791c1",
   "metadata": {},
   "outputs": [],
   "source": [
    "env_list = get_envs()\n",
    "env = env_list[5]"
   ]
  },
  {
   "cell_type": "code",
   "execution_count": 9,
   "id": "18632b40-63ce-4121-a986-7d6562cce14f",
   "metadata": {},
   "outputs": [],
   "source": [
    "data_path = \"../matsui_data/\""
   ]
  },
  {
   "cell_type": "code",
   "execution_count": 10,
   "id": "6805b511-cf69-4aba-81d7-8ed1a394fe2b",
   "metadata": {},
   "outputs": [],
   "source": [
    "df = pd.read_csv(data_path + \"96ghpptzvf-4/SData2/\"+ env + \"_geno.txt\", sep='\\t', nrows=5, engine='python')\n",
    "ids = list(df.columns[3:])"
   ]
  },
  {
   "cell_type": "code",
   "execution_count": 12,
   "id": "57039538-b699-41f2-8a44-fd2d52bb5226",
   "metadata": {},
   "outputs": [],
   "source": [
    "geno_t = torch.load(data_path + env + '_matsui_geno_t.pt', map_location=torch.device('cpu'))"
   ]
  },
  {
   "cell_type": "code",
   "execution_count": 13,
   "id": "372b1e3c-e8b3-4871-8a9b-d56041b6eb8b",
   "metadata": {},
   "outputs": [
    {
     "name": "stderr",
     "output_type": "stream",
     "text": [
      "/scratch/local/48134653/ipykernel_12360/1784263641.py:1: UserWarning: To copy construct from a tensor, it is recommended to use sourceTensor.clone().detach() or sourceTensor.clone().detach().requires_grad_(True), rather than torch.tensor(sourceTensor).\n",
      "  geno_t = torch.tensor(geno_t, dtype=torch.float)\n"
     ]
    }
   ],
   "source": [
    "geno_t = torch.tensor(geno_t, dtype=torch.float)\n",
    "geno_t = torch.transpose(geno_t, 0, 1)\n",
    "N, L = geno_t.shape"
   ]
  },
  {
   "cell_type": "code",
   "execution_count": 14,
   "id": "be7820a2-e897-48bd-9ff4-7cc9cf1f47a4",
   "metadata": {},
   "outputs": [],
   "source": [
    "geno_np = geno_t.numpy()"
   ]
  },
  {
   "cell_type": "code",
   "execution_count": 15,
   "id": "42d157cf-3392-4746-9d80-4271919e60f3",
   "metadata": {},
   "outputs": [],
   "source": [
    "geno_df = pd.DataFrame(geno_np)"
   ]
  },
  {
   "cell_type": "code",
   "execution_count": 18,
   "id": "63970885-1a1c-4baa-8f75-bef6ba571a1f",
   "metadata": {},
   "outputs": [],
   "source": [
    "geno_df.to_csv(data_path + \"NaCl2_geno.csv\", index=None)"
   ]
  },
  {
   "cell_type": "code",
   "execution_count": null,
   "id": "9d1bc4c3-9ece-4bdf-ad6b-8a279c9d76b5",
   "metadata": {},
   "outputs": [],
   "source": []
  }
 ],
 "metadata": {
  "kernelspec": {
   "display_name": "PyTorch-1.8.1",
   "language": "python",
   "name": "pytorch-1.8.1"
  },
  "language_info": {
   "codemirror_mode": {
    "name": "ipython",
    "version": 3
   },
   "file_extension": ".py",
   "mimetype": "text/x-python",
   "name": "python",
   "nbconvert_exporter": "python",
   "pygments_lexer": "ipython3",
   "version": "3.9.5"
  }
 },
 "nbformat": 4,
 "nbformat_minor": 5
}
