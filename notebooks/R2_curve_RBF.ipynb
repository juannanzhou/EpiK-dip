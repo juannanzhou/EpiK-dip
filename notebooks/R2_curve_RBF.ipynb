{
 "cells": [
  {
   "cell_type": "code",
   "execution_count": 1,
   "id": "1d17e822-82fb-4ce6-937f-77d3b2e799bb",
   "metadata": {},
   "outputs": [
    {
     "data": {
      "text/plain": [
       "1"
      ]
     },
     "execution_count": 1,
     "metadata": {},
     "output_type": "execute_result"
    }
   ],
   "source": [
    "1*1"
   ]
  },
  {
   "cell_type": "code",
   "execution_count": 2,
   "id": "f9f3a2f3-9f4d-4c6a-a60e-194c428abb05",
   "metadata": {},
   "outputs": [],
   "source": [
    "import sys\n",
    "sys.path.insert(1, '../')\n",
    "\n",
    "import os\n",
    "import GPUtil\n",
    "import importlib\n",
    "\n",
    "def sgpu():\n",
    "    GPUtil.showUtilization()\n",
    "\n",
    "def rl(module):\n",
    "    importlib.reload(module)"
   ]
  },
  {
   "cell_type": "code",
   "execution_count": 3,
   "id": "7f62c83d-afbd-437e-8092-fbf352e388c8",
   "metadata": {},
   "outputs": [
    {
     "name": "stdout",
     "output_type": "stream",
     "text": [
      "| ID | GPU | MEM |\n",
      "------------------\n",
      "|  0 |  0% |  0% |\n",
      "|  1 |  0% |  0% |\n",
      "|  2 |  0% |  0% |\n",
      "|  3 |  0% |  0% |\n",
      "|  4 |  0% |  0% |\n",
      "|  5 |  0% |  0% |\n",
      "|  6 |  0% |  0% |\n",
      "|  7 |  0% |  0% |\n"
     ]
    }
   ],
   "source": [
    "sgpu()"
   ]
  },
  {
   "cell_type": "code",
   "execution_count": 4,
   "id": "7c6e52c0-7f3e-444b-9a93-73866acba381",
   "metadata": {},
   "outputs": [],
   "source": [
    "import pandas as pd\n",
    "import os\n",
    "import numpy as np\n",
    "import matplotlib.pyplot as plt\n",
    "from matplotlib.pyplot import figure\n",
    "\n",
    "import torch\n",
    "import gpytorch\n",
    "\n",
    "from scipy.stats import pearsonr\n",
    "from scipy.special import binom as binom\n",
    "from sklearn.metrics import r2_score as r2\n",
    "from sklearn.metrics import mean_squared_error as mse\n",
    "from sklearn.model_selection import train_test_split"
   ]
  },
  {
   "cell_type": "code",
   "execution_count": 5,
   "id": "e26c5c81-59bd-4b6c-8f05-35718960fa24",
   "metadata": {},
   "outputs": [],
   "source": [
    "import EpiK.models as models"
   ]
  },
  {
   "cell_type": "code",
   "execution_count": 6,
   "id": "2a4ff720-37a3-4cfd-a171-b727c829e8bc",
   "metadata": {},
   "outputs": [
    {
     "name": "stdout",
     "output_type": "stream",
     "text": [
      "number of GPUs = 8; output device = 0\n"
     ]
    }
   ],
   "source": [
    "output_device = 0\n",
    "n_devices = torch.cuda.device_count()\n",
    "models.set_params(output_device, n_devices)\n",
    "print(\"number of GPUs = {}; output device = {}\".\n",
    "      format(n_devices, torch.cuda.current_device()))"
   ]
  },
  {
   "cell_type": "code",
   "execution_count": 7,
   "id": "e266f6d1-6a6f-45b4-bad3-e46ef9f065ea",
   "metadata": {},
   "outputs": [],
   "source": [
    "from EpiK.functions import get_data, get_envs, set_data_path\n",
    "set_data_path(\"../matsui_data/\")"
   ]
  },
  {
   "cell_type": "markdown",
   "id": "0c6b19d0-bc0d-4b11-bc08-a0f498eb8459",
   "metadata": {},
   "source": [
    "### Data"
   ]
  },
  {
   "cell_type": "code",
   "execution_count": 8,
   "id": "026f761f-0a47-436d-9277-5cc343934c89",
   "metadata": {},
   "outputs": [],
   "source": [
    "env_list = get_envs()\n",
    "env = env_list[5]"
   ]
  },
  {
   "cell_type": "code",
   "execution_count": 9,
   "id": "0ab6db51-a8bf-402c-8284-61ea0b9bc1eb",
   "metadata": {},
   "outputs": [
    {
     "name": "stderr",
     "output_type": "stream",
     "text": [
      "../EpiK/functions.py:35: UserWarning: To copy construct from a tensor, it is recommended to use sourceTensor.clone().detach() or sourceTensor.clone().detach().requires_grad_(True), rather than torch.tensor(sourceTensor).\n",
      "  geno_t = torch.tensor(geno_t, dtype=torch.float)\n"
     ]
    }
   ],
   "source": [
    "geno_t, pheno = get_data(env)"
   ]
  },
  {
   "cell_type": "code",
   "execution_count": 10,
   "id": "923265b5-d104-4889-a7c1-493651792b0c",
   "metadata": {},
   "outputs": [],
   "source": [
    "inds_sub = np.where(np.array(pheno.pheno < -0.6) == False)[0]"
   ]
  },
  {
   "cell_type": "markdown",
   "id": "e31c6775-50c6-4d27-802b-c138758ccafa",
   "metadata": {},
   "source": [
    "### Get R2 curve"
   ]
  },
  {
   "cell_type": "code",
   "execution_count": 11,
   "id": "b50e6c53-d64b-4d39-aef3-5255880bb50c",
   "metadata": {},
   "outputs": [],
   "source": [
    "import EpiK.functions\n",
    "rl(EpiK.functions)\n",
    "from EpiK.functions import train_model_cv\n",
    "\n",
    "EpiK.functions.output_device = output_device\n",
    "EpiK.functions.n_devices = n_devices"
   ]
  },
  {
   "cell_type": "code",
   "execution_count": 12,
   "id": "92d4832f-1fe9-4439-80c5-8bc6426b0329",
   "metadata": {},
   "outputs": [],
   "source": [
    "# training sizes\n",
    "\n",
    "props = [.01, .05, .1, .2, .3, .4, .5, .6, .7, .8, .9, .99]"
   ]
  },
  {
   "cell_type": "code",
   "execution_count": 1,
   "id": "d7dea2f2-1d3f-4eac-9c8f-9c7a643a06df",
   "metadata": {},
   "outputs": [
    {
     "ename": "NameError",
     "evalue": "name 'props' is not defined",
     "output_type": "error",
     "traceback": [
      "\u001b[0;31m---------------------------------------------------------------------------\u001b[0m",
      "\u001b[0;31mNameError\u001b[0m                                 Traceback (most recent call last)",
      "\u001b[0;32m/scratch/local/44028137/ipykernel_211982/1970373542.py\u001b[0m in \u001b[0;36m<module>\u001b[0;34m\u001b[0m\n\u001b[0;32m----> 1\u001b[0;31m \u001b[0mlen\u001b[0m\u001b[0;34m(\u001b[0m\u001b[0mprops\u001b[0m\u001b[0;34m)\u001b[0m\u001b[0;34m\u001b[0m\u001b[0;34m\u001b[0m\u001b[0m\n\u001b[0m",
      "\u001b[0;31mNameError\u001b[0m: name 'props' is not defined"
     ]
    }
   ],
   "source": [
    "len(props)"
   ]
  },
  {
   "cell_type": "code",
   "execution_count": 15,
   "id": "9586262c-612a-4514-a25e-d2d1976e31e5",
   "metadata": {},
   "outputs": [],
   "source": [
    "# check_point sizes\n",
    "\n",
    "partitions = [2, 2, 2, 2, 4, 4, 4, 4, 8, 32, 64, 256]"
   ]
  },
  {
   "cell_type": "code",
   "execution_count": 16,
   "id": "82948397-182f-4a74-951d-358fcebf4eb4",
   "metadata": {},
   "outputs": [],
   "source": [
    "ls = torch.tensor([[96.04]]).to(output_device)\n",
    "\n",
    "ker = gpytorch.kernels.RBFKernel().to(output_device)\n",
    "\n",
    "ker.lengthscale = ls"
   ]
  },
  {
   "cell_type": "code",
   "execution_count": 17,
   "id": "e432c694-d40a-4aac-84b4-83e42d7b8d11",
   "metadata": {},
   "outputs": [],
   "source": [
    "r2_score_list = []"
   ]
  },
  {
   "cell_type": "code",
   "execution_count": null,
   "id": "580e1d3b-af63-4f1a-9002-fbdc1c8e5883",
   "metadata": {},
   "outputs": [
    {
     "name": "stdout",
     "output_type": "stream",
     "text": [
      "working on training proportion 0.990000\n",
      "working on iteration 0\n",
      "working on iteration 10\n",
      "working on iteration 20\n",
      "working on iteration 30\n",
      "length_Scale = 95.046000\n"
     ]
    }
   ],
   "source": [
    "for i in range(11, len(props)):\n",
    "    print(\"working on training proportion %f\"%round(props[i],2))\n",
    "\n",
    "    # define training data\n",
    "    np.random.seed(100)\n",
    "    train_size = np.round(props[i]*len(inds_sub)).astype('int')\n",
    "    sub = np.random.choice(inds_sub, train_size)\n",
    "    sub_t = np.random.choice(list(set(inds_sub).difference(sub)), 4000)\n",
    "    train_x = geno_t[sub]\n",
    "    train_y = torch.tensor(np.array(pheno.pheno[sub]), dtype=torch.float32)\n",
    "    test_x = geno_t[sub_t]\n",
    "    test_y = torch.tensor(np.array(pheno.pheno[sub_t]), dtype=torch.float32)\n",
    "    train_x, train_y = train_x.contiguous(), train_y.contiguous()\n",
    "    test_x, test_y = test_x.contiguous(), test_y.contiguous()\n",
    "    train_x, train_y = train_x.to(output_device), train_y.to(output_device)\n",
    "    test_x, test_y = test_x.to(output_device), test_y.to(output_device)\n",
    "\n",
    "    # train kernel\n",
    "    ker, likelihood = train_model_cv(ker, train_x, train_y, 40, .02)\n",
    "\n",
    "    print(\"length_Scale = %f\"%round(ker.lengthscale.item(),3))\n",
    "\n",
    "    torch.cuda.empty_cache()\n",
    "\n",
    "    model = models.ExactGPModel(train_x, train_y, likelihood, ker).to(output_device)\n",
    "    model.covar_module.module.lengthscale = ls\n",
    "\n",
    "    test_x = test_x.cuda()\n",
    "    model.eval()\n",
    "    likelihood.eval()\n",
    "\n",
    "    with gpytorch.beta_features.checkpoint_kernel(train_x.shape[0]//partitions[i]):\n",
    "        f_preds = model(test_x)\n",
    "\n",
    "    f_mean = f_preds.mean.cpu().detach().numpy()\n",
    "    y_test = test_y.detach().cpu().numpy()\n",
    "    r2_score = r2(y_test, f_mean)\n",
    "    print('training size = %i'%train_size,'; R2 = %f'%r2_score)\n",
    "    r2_score_list.append(r2_score)\n",
    "\n",
    "    del model, likelihood, f_preds\n",
    "    torch.cuda.empty_cache()\n",
    "\n",
    "    sgpu()"
   ]
  },
  {
   "cell_type": "code",
   "execution_count": null,
   "id": "9a550091-1fb0-4966-b0f3-7cd4a8df4629",
   "metadata": {
    "tags": []
   },
   "outputs": [],
   "source": [
    "results = pd.DataFrame({\"props\":props, \"train_size\":np.round(geno_t.shape[0]*np.array(props)).astype(\"int\"), \"r2\":r2_score_list})\n",
    "\n",
    "results.to_csv(\"r2s_rbf.csv\", index=None)"
   ]
  },
  {
   "cell_type": "code",
   "execution_count": null,
   "id": "7037eb97-ea92-48e4-91f6-0753bb0b4b00",
   "metadata": {},
   "outputs": [],
   "source": []
  },
  {
   "cell_type": "code",
   "execution_count": null,
   "id": "a96199a3-291d-457a-bb4d-a7ca54cca410",
   "metadata": {},
   "outputs": [],
   "source": [
    "len(r2_score_list)"
   ]
  },
  {
   "cell_type": "code",
   "execution_count": null,
   "id": "110cae89-4bd4-44c1-88f3-6c379c36ca10",
   "metadata": {},
   "outputs": [],
   "source": [
    "torch.cuda.empty_cache()"
   ]
  },
  {
   "cell_type": "code",
   "execution_count": null,
   "id": "fb3020af-0db2-40dd-a4cd-845ee354f44b",
   "metadata": {},
   "outputs": [],
   "source": [
    "sgpu()"
   ]
  },
  {
   "cell_type": "code",
   "execution_count": null,
   "id": "397dc0e2-bd5f-4964-bcea-8263605b154f",
   "metadata": {},
   "outputs": [],
   "source": [
    "r2_score_list = [r2_score]\n",
    "dic = {\"tr_prop\":0.99, \"r2_score\":r2_score}\n",
    "\n",
    "import pandas as pd\n",
    "table = pd.DataFrame(dic)\n",
    "table.to_csv(\"~/r2_rbf_.99_220806.csv\", header=True, index=None)"
   ]
  },
  {
   "cell_type": "code",
   "execution_count": null,
   "id": "6a442040-3dcb-42e5-8065-15e1808048ea",
   "metadata": {},
   "outputs": [],
   "source": []
  }
 ],
 "metadata": {
  "kernelspec": {
   "display_name": "PyTorch-1.7.1",
   "language": "python",
   "name": "pytorch-1.7.1"
  },
  "language_info": {
   "codemirror_mode": {
    "name": "ipython",
    "version": 3
   },
   "file_extension": ".py",
   "mimetype": "text/x-python",
   "name": "python",
   "nbconvert_exporter": "python",
   "pygments_lexer": "ipython3",
   "version": "3.8.6"
  }
 },
 "nbformat": 4,
 "nbformat_minor": 5
}
