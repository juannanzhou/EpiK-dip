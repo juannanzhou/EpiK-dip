{
 "cells": [
  {
   "cell_type": "code",
   "execution_count": 1,
   "id": "66930075-a775-4d23-80d9-c0583a2e6797",
   "metadata": {},
   "outputs": [
    {
     "ename": "NameError",
     "evalue": "name 'restart_run_all' is not defined",
     "output_type": "error",
     "traceback": [
      "\u001b[0;31m---------------------------------------------------------------------------\u001b[0m",
      "\u001b[0;31mNameError\u001b[0m                                 Traceback (most recent call last)",
      "\u001b[0;32m/scratch/local/44345443/ipykernel_258514/4064547124.py\u001b[0m in \u001b[0;36m<module>\u001b[0;34m\u001b[0m\n\u001b[0;32m----> 1\u001b[0;31m \u001b[0mrestart_run_all\u001b[0m\u001b[0;34m(\u001b[0m\u001b[0;34m)\u001b[0m\u001b[0;34m\u001b[0m\u001b[0;34m\u001b[0m\u001b[0m\n\u001b[0m",
      "\u001b[0;31mNameError\u001b[0m: name 'restart_run_all' is not defined"
     ]
    }
   ],
   "source": [
    "restart_run_all()"
   ]
  },
  {
   "cell_type": "code",
   "execution_count": 2,
   "id": "100531d6-f1c0-49bb-849c-f9964c203d9b",
   "metadata": {},
   "outputs": [
    {
     "data": {
      "text/html": [
       "\n",
       "            <script>\n",
       "                code_show = false;\n",
       "                function restart_run_all(){\n",
       "                    IPython.notebook.kernel.restart();\n",
       "                    setTimeout(function(){\n",
       "                        IPython.notebook.execute_all_cells();\n",
       "                    }, 10000)\n",
       "                }\n",
       "                function code_toggle() {\n",
       "                    if (code_show) {\n",
       "                        $('div.input').hide(200);\n",
       "                    } else {\n",
       "                        $('div.input').show(200);\n",
       "                    }\n",
       "                    code_show = !code_show\n",
       "                }\n",
       "            </script>\n",
       "            <button onclick=\"code_toggle()\">Click to toggle</button>\n",
       "            <button onclick=\"restart_run_all()\">Click to Restart and Run all Cells</button>\n",
       "        "
      ],
      "text/plain": [
       "<IPython.core.display.HTML object>"
      ]
     },
     "metadata": {},
     "output_type": "display_data"
    }
   ],
   "source": [
    "from IPython.display import HTML, Javascript, display\n",
    "\n",
    "def initialize():\n",
    "    display(HTML(\n",
    "        '''\n",
    "            <script>\n",
    "                code_show = false;\n",
    "                function restart_run_all(){\n",
    "                    IPython.notebook.kernel.restart();\n",
    "                    setTimeout(function(){\n",
    "                        IPython.notebook.execute_all_cells();\n",
    "                    }, 10000)\n",
    "                }\n",
    "                function code_toggle() {\n",
    "                    if (code_show) {\n",
    "                        $('div.input').hide(200);\n",
    "                    } else {\n",
    "                        $('div.input').show(200);\n",
    "                    }\n",
    "                    code_show = !code_show\n",
    "                }\n",
    "            </script>\n",
    "            <button onclick=\"code_toggle()\">Click to toggle</button>\n",
    "            <button onclick=\"restart_run_all()\">Click to Restart and Run all Cells</button>\n",
    "        '''\n",
    "    ))\n",
    "initialize()"
   ]
  },
  {
   "cell_type": "code",
   "execution_count": null,
   "id": "606b54be-3a4d-43c0-b556-fede486e67f9",
   "metadata": {},
   "outputs": [],
   "source": []
  }
 ],
 "metadata": {
  "kernelspec": {
   "display_name": "Python 3 (ipykernel)",
   "language": "python",
   "name": "python3"
  },
  "language_info": {
   "codemirror_mode": {
    "name": "ipython",
    "version": 3
   },
   "file_extension": ".py",
   "mimetype": "text/x-python",
   "name": "python",
   "nbconvert_exporter": "python",
   "pygments_lexer": "ipython3",
   "version": "3.8.1"
  }
 },
 "nbformat": 4,
 "nbformat_minor": 5
}
