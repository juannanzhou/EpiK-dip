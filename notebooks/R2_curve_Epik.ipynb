{
 "cells": [
  {
   "cell_type": "code",
   "execution_count": 1,
   "id": "e81014c3-19e8-4f89-8352-97d0e1916b53",
   "metadata": {},
   "outputs": [
    {
     "data": {
      "text/plain": [
       "2"
      ]
     },
     "execution_count": 1,
     "metadata": {},
     "output_type": "execute_result"
    }
   ],
   "source": [
    "1*2"
   ]
  },
  {
   "cell_type": "code",
   "execution_count": 2,
   "id": "f9f3a2f3-9f4d-4c6a-a60e-194c428abb05",
   "metadata": {},
   "outputs": [],
   "source": [
    "import sys\n",
    "sys.path.insert(1, '../')\n",
    "\n",
    "import os\n",
    "import GPUtil\n",
    "import importlib\n",
    "\n",
    "def sgpu():\n",
    "    GPUtil.showUtilization()\n",
    "\n",
    "def rl(module):\n",
    "    importlib.reload(module)"
   ]
  },
  {
   "cell_type": "code",
   "execution_count": 3,
   "id": "7f62c83d-afbd-437e-8092-fbf352e388c8",
   "metadata": {},
   "outputs": [
    {
     "name": "stdout",
     "output_type": "stream",
     "text": [
      "| ID | GPU | MEM |\n",
      "------------------\n",
      "|  0 |  0% |  0% |\n",
      "|  1 |  0% |  0% |\n",
      "|  2 |  0% |  0% |\n",
      "|  3 |  0% |  0% |\n",
      "|  4 |  0% |  0% |\n",
      "|  5 |  0% |  0% |\n",
      "|  6 |  0% |  0% |\n",
      "|  7 |  0% |  0% |\n"
     ]
    }
   ],
   "source": [
    "sgpu()"
   ]
  },
  {
   "cell_type": "code",
   "execution_count": 4,
   "id": "7c6e52c0-7f3e-444b-9a93-73866acba381",
   "metadata": {},
   "outputs": [],
   "source": [
    "import pandas as pd\n",
    "import os\n",
    "import numpy as np\n",
    "import matplotlib.pyplot as plt\n",
    "from matplotlib.pyplot import figure\n",
    "\n",
    "import torch\n",
    "import gpytorch\n",
    "\n",
    "from scipy.stats import pearsonr\n",
    "from scipy.special import binom as binom\n",
    "from sklearn.metrics import r2_score as r2\n",
    "from sklearn.metrics import mean_squared_error as mse\n",
    "from sklearn.model_selection import train_test_split"
   ]
  },
  {
   "cell_type": "code",
   "execution_count": 5,
   "id": "e26c5c81-59bd-4b6c-8f05-35718960fa24",
   "metadata": {},
   "outputs": [],
   "source": [
    "import EpiK.models as models"
   ]
  },
  {
   "cell_type": "code",
   "execution_count": 6,
   "id": "2a4ff720-37a3-4cfd-a171-b727c829e8bc",
   "metadata": {},
   "outputs": [
    {
     "name": "stdout",
     "output_type": "stream",
     "text": [
      "number of GPUs = 8; output device = 0\n"
     ]
    }
   ],
   "source": [
    "output_device = 0\n",
    "n_devices = torch.cuda.device_count()\n",
    "models.set_params(output_device, n_devices)\n",
    "print(\"number of GPUs = {}; output device = {}\".\n",
    "      format(n_devices, torch.cuda.current_device()))"
   ]
  },
  {
   "cell_type": "code",
   "execution_count": 7,
   "id": "e266f6d1-6a6f-45b4-bad3-e46ef9f065ea",
   "metadata": {},
   "outputs": [],
   "source": [
    "from EpiK.functions import get_data, get_envs, set_data_path\n",
    "set_data_path(\"../matsui_data/\")"
   ]
  },
  {
   "cell_type": "markdown",
   "id": "0c6b19d0-bc0d-4b11-bc08-a0f498eb8459",
   "metadata": {},
   "source": [
    "### Data"
   ]
  },
  {
   "cell_type": "code",
   "execution_count": 8,
   "id": "026f761f-0a47-436d-9277-5cc343934c89",
   "metadata": {},
   "outputs": [],
   "source": [
    "env_list = get_envs()\n",
    "env = env_list[5]"
   ]
  },
  {
   "cell_type": "code",
   "execution_count": 9,
   "id": "0ab6db51-a8bf-402c-8284-61ea0b9bc1eb",
   "metadata": {},
   "outputs": [
    {
     "name": "stderr",
     "output_type": "stream",
     "text": [
      "../EpiK/functions.py:35: UserWarning: To copy construct from a tensor, it is recommended to use sourceTensor.clone().detach() or sourceTensor.clone().detach().requires_grad_(True), rather than torch.tensor(sourceTensor).\n",
      "  geno_t = torch.tensor(geno_t, dtype=torch.float)\n"
     ]
    }
   ],
   "source": [
    "geno_t, pheno = get_data(env)"
   ]
  },
  {
   "cell_type": "code",
   "execution_count": 10,
   "id": "1ef14765-c39d-4591-837c-3c5cd47e53c8",
   "metadata": {},
   "outputs": [],
   "source": [
    "inds_sub = np.where(np.array(pheno.pheno < -0.6) == False)[0]"
   ]
  },
  {
   "cell_type": "markdown",
   "id": "e31c6775-50c6-4d27-802b-c138758ccafa",
   "metadata": {},
   "source": [
    "### Get R2 curve"
   ]
  },
  {
   "cell_type": "code",
   "execution_count": 11,
   "id": "b50e6c53-d64b-4d39-aef3-5255880bb50c",
   "metadata": {},
   "outputs": [],
   "source": [
    "import EpiK.functions\n",
    "rl(EpiK.functions)\n",
    "from EpiK.functions import train_model_cv\n",
    "\n",
    "EpiK.functions.output_device = output_device\n",
    "EpiK.functions.n_devices = n_devices"
   ]
  },
  {
   "cell_type": "code",
   "execution_count": 12,
   "id": "92d4832f-1fe9-4439-80c5-8bc6426b0329",
   "metadata": {},
   "outputs": [],
   "source": [
    "# training sizes\n",
    "\n",
    "props = [.01, .05, .1, .2, .3, .4, .5, .6, .7, .8, .9, .99]"
   ]
  },
  {
   "cell_type": "code",
   "execution_count": 13,
   "id": "9586262c-612a-4514-a25e-d2d1976e31e5",
   "metadata": {},
   "outputs": [],
   "source": [
    "# check_point sizes\n",
    "\n",
    "partitions = [2, 2, 2, 2, 4, 4, 4, 4, 16, 32, 64, 80]"
   ]
  },
  {
   "cell_type": "code",
   "execution_count": 14,
   "id": "98ffafa1-148f-4f95-ac4c-480f56848d4d",
   "metadata": {},
   "outputs": [
    {
     "data": {
      "text/html": [
       "<div>\n",
       "<style scoped>\n",
       "    .dataframe tbody tr th:only-of-type {\n",
       "        vertical-align: middle;\n",
       "    }\n",
       "\n",
       "    .dataframe tbody tr th {\n",
       "        vertical-align: top;\n",
       "    }\n",
       "\n",
       "    .dataframe thead th {\n",
       "        text-align: right;\n",
       "    }\n",
       "</style>\n",
       "<table border=\"1\" class=\"dataframe\">\n",
       "  <thead>\n",
       "    <tr style=\"text-align: right;\">\n",
       "      <th></th>\n",
       "      <th>props</th>\n",
       "      <th>partitions</th>\n",
       "    </tr>\n",
       "  </thead>\n",
       "  <tbody>\n",
       "    <tr>\n",
       "      <th>0</th>\n",
       "      <td>0.01</td>\n",
       "      <td>2</td>\n",
       "    </tr>\n",
       "    <tr>\n",
       "      <th>1</th>\n",
       "      <td>0.05</td>\n",
       "      <td>2</td>\n",
       "    </tr>\n",
       "    <tr>\n",
       "      <th>2</th>\n",
       "      <td>0.10</td>\n",
       "      <td>2</td>\n",
       "    </tr>\n",
       "    <tr>\n",
       "      <th>3</th>\n",
       "      <td>0.20</td>\n",
       "      <td>2</td>\n",
       "    </tr>\n",
       "    <tr>\n",
       "      <th>4</th>\n",
       "      <td>0.30</td>\n",
       "      <td>4</td>\n",
       "    </tr>\n",
       "    <tr>\n",
       "      <th>5</th>\n",
       "      <td>0.40</td>\n",
       "      <td>4</td>\n",
       "    </tr>\n",
       "    <tr>\n",
       "      <th>6</th>\n",
       "      <td>0.50</td>\n",
       "      <td>4</td>\n",
       "    </tr>\n",
       "    <tr>\n",
       "      <th>7</th>\n",
       "      <td>0.60</td>\n",
       "      <td>4</td>\n",
       "    </tr>\n",
       "    <tr>\n",
       "      <th>8</th>\n",
       "      <td>0.70</td>\n",
       "      <td>16</td>\n",
       "    </tr>\n",
       "    <tr>\n",
       "      <th>9</th>\n",
       "      <td>0.80</td>\n",
       "      <td>32</td>\n",
       "    </tr>\n",
       "    <tr>\n",
       "      <th>10</th>\n",
       "      <td>0.90</td>\n",
       "      <td>64</td>\n",
       "    </tr>\n",
       "    <tr>\n",
       "      <th>11</th>\n",
       "      <td>0.99</td>\n",
       "      <td>80</td>\n",
       "    </tr>\n",
       "  </tbody>\n",
       "</table>\n",
       "</div>"
      ],
      "text/plain": [
       "    props  partitions\n",
       "0    0.01           2\n",
       "1    0.05           2\n",
       "2    0.10           2\n",
       "3    0.20           2\n",
       "4    0.30           4\n",
       "5    0.40           4\n",
       "6    0.50           4\n",
       "7    0.60           4\n",
       "8    0.70          16\n",
       "9    0.80          32\n",
       "10   0.90          64\n",
       "11   0.99          80"
      ]
     },
     "execution_count": 14,
     "metadata": {},
     "output_type": "execute_result"
    }
   ],
   "source": [
    "pd.DataFrame({\"props\":props, \"partitions\":partitions})"
   ]
  },
  {
   "cell_type": "code",
   "execution_count": 15,
   "id": "0605b53e-0292-48e7-b6dc-6f8591a9fba4",
   "metadata": {},
   "outputs": [],
   "source": [
    "r2_score_list = []"
   ]
  },
  {
   "cell_type": "code",
   "execution_count": 16,
   "id": "8b51d1be-2cce-449a-8403-5fc44eb3c42f",
   "metadata": {},
   "outputs": [],
   "source": [
    "from EpiK.kernels import DiKernel\n",
    "ker = DiKernel()\n",
    "ker.raw_lda = torch.nn.Parameter(torch.tensor(-8.))\n",
    "ker.raw_eta = torch.nn.Parameter(torch.tensor(-12.))"
   ]
  },
  {
   "cell_type": "code",
   "execution_count": null,
   "id": "580e1d3b-af63-4f1a-9002-fbdc1c8e5883",
   "metadata": {
    "tags": []
   },
   "outputs": [
    {
     "name": "stdout",
     "output_type": "stream",
     "text": [
      "working on training proportion 0.990000\n",
      "working on iteration 0\n",
      "working on iteration 10\n",
      "working on iteration 20\n",
      "working on iteration 30\n",
      "working on iteration 40\n",
      "raw_lda = -7.717000 and raw_eta = -10.184000\n"
     ]
    },
    {
     "name": "stderr",
     "output_type": "stream",
     "text": [
      "/home/juannanzhou/.local/lib/python3.8/site-packages/gpytorch/lazy/added_diag_lazy_tensor.py:102: NumericalWarning: NaNs encountered in preconditioner computation. Attempting to continue without preconditioning.\n",
      "  warnings.warn(\n"
     ]
    }
   ],
   "source": [
    "for i in range(11, len(props)):\n",
    "    print(\"working on training proportion %f\"%round(props[i],2))\n",
    "\n",
    "    # define training data\n",
    "    np.random.seed(100)\n",
    "    train_size = np.round(props[i]*len(inds_sub)).astype('int')\n",
    "    sub = np.random.choice(inds_sub, train_size)\n",
    "    sub_t = np.random.choice(list(set(inds_sub).difference(sub)), 4000)\n",
    "    train_x = geno_t[sub]\n",
    "    train_y = torch.tensor(np.array(pheno.pheno[sub]), dtype=torch.float32)\n",
    "    test_x = geno_t[sub_t]\n",
    "    test_y = torch.tensor(np.array(pheno.pheno[sub_t]), dtype=torch.float32)\n",
    "    train_x, train_y = train_x.contiguous(), train_y.contiguous()\n",
    "    test_x, test_y = test_x.contiguous(), test_y.contiguous()\n",
    "    train_x, train_y = train_x.to(output_device), train_y.to(output_device)\n",
    "    test_x, test_y = test_x.to(output_device), test_y.to(output_device)\n",
    "\n",
    "    # train kernel\n",
    "    ker, likelihood = train_model_cv(ker, train_x, train_y, 50, .1)\n",
    "\n",
    "    print(\"raw_lda = %f\"%round(ker.state_dict()['raw_lda'].item(),3), \"and\", \"raw_eta = %f\"%round(ker.state_dict()['raw_eta'].item(),3))\n",
    "\n",
    "    torch.cuda.empty_cache()\n",
    "\n",
    "    model = models.ExactGPModel(train_x, train_y, likelihood, ker).to(output_device)\n",
    "\n",
    "    test_x = test_x.cuda()\n",
    "    model.eval()\n",
    "    likelihood.eval()\n",
    "\n",
    "    with gpytorch.beta_features.checkpoint_kernel(train_x.shape[0]//partitions[i]):\n",
    "        f_preds = model(test_x)\n",
    "\n",
    "    f_mean = f_preds.mean.cpu().detach().numpy()\n",
    "    y_test = test_y.detach().cpu().numpy()\n",
    "    r2_score = r2(y_test, f_mean)\n",
    "    print('training size = %i'%train_size,'; R2 = %f'%r2_score)\n",
    "    r2_score_list.append(r2_score)\n",
    "\n",
    "    del model, likelihood, f_preds\n",
    "    torch.cuda.empty_cache()\n",
    "\n",
    "    sgpu() "
   ]
  },
  {
   "cell_type": "code",
   "execution_count": null,
   "id": "649c8d73-6608-4589-b232-702535df9afe",
   "metadata": {},
   "outputs": [],
   "source": [
    "r2_score_list = [r2_score]\n",
    "dic = {\"tr_prop\":0.99, \"r2_score\":r2_score}\n",
    "\n",
    "import pandas as pd\n",
    "table = pd.DataFrame(dic)\n",
    "table.to_csv(\"~/r2_epik_.99_220806.csv\", header=True, index=None)"
   ]
  },
  {
   "cell_type": "code",
   "execution_count": null,
   "id": "297fa28e-6ebf-430e-a1ca-0e2fbc2a8daa",
   "metadata": {},
   "outputs": [],
   "source": [
    "r2_list = {}\n",
    "r2_list[props[i]] = r2_score"
   ]
  },
  {
   "cell_type": "code",
   "execution_count": null,
   "id": "b95251fe-7eec-42b4-8bc2-980dcc6a1052",
   "metadata": {},
   "outputs": [],
   "source": [
    "r2_score"
   ]
  },
  {
   "cell_type": "code",
   "execution_count": 19,
   "id": "5f0e4c86-423f-49a6-934d-fa0cd6336464",
   "metadata": {},
   "outputs": [
    {
     "data": {
      "text/plain": [
       "0.6501406457842309"
      ]
     },
     "execution_count": 19,
     "metadata": {},
     "output_type": "execute_result"
    }
   ],
   "source": [
    "r2_score"
   ]
  },
  {
   "cell_type": "code",
   "execution_count": 36,
   "id": "ea9ea4ea-4cb7-4b53-962d-61d46520711b",
   "metadata": {},
   "outputs": [],
   "source": [
    "r2_list = np.zeros(len(props))"
   ]
  },
  {
   "cell_type": "code",
   "execution_count": 39,
   "id": "7d75fefb-be6c-4e1e-b616-769ff42bebdc",
   "metadata": {},
   "outputs": [],
   "source": [
    "r2_list[:len(r2_score_list)] = r2_score_list"
   ]
  },
  {
   "cell_type": "code",
   "execution_count": 40,
   "id": "17ef0e60-bb14-4ab1-8b64-72de4e7887fb",
   "metadata": {},
   "outputs": [],
   "source": [
    "results = pd.DataFrame({\"props\":props, \"train_size\":np.round(geno_t.shape[0]*np.array(props)).astype(\"int\"), \"r2\":r2_list})\n",
    "\n",
    "results.to_csv(\"r2s_epik.csv\", index=None)"
   ]
  },
  {
   "cell_type": "code",
   "execution_count": 21,
   "id": "46f114e7-f96c-4345-b7e3-d68357b2b2e5",
   "metadata": {},
   "outputs": [],
   "source": [
    "torch.cuda.empty_cache()"
   ]
  },
  {
   "cell_type": "code",
   "execution_count": 22,
   "id": "eda6906f-8414-402d-bb90-d6afbb638f75",
   "metadata": {},
   "outputs": [
    {
     "name": "stdout",
     "output_type": "stream",
     "text": [
      "| ID | GPU | MEM  |\n",
      "-------------------\n",
      "|  0 |  0% | 100% |\n",
      "|  1 |  0% |  19% |\n",
      "|  2 |  0% |  19% |\n",
      "|  3 |  0% |  19% |\n",
      "|  4 |  0% |  19% |\n",
      "|  5 |  0% |  19% |\n",
      "|  6 |  0% |  19% |\n",
      "|  7 |  0% |  19% |\n"
     ]
    }
   ],
   "source": [
    "sgpu()"
   ]
  },
  {
   "cell_type": "markdown",
   "id": "d451ddd0-91cd-4335-b0d1-ac67187bbbd0",
   "metadata": {},
   "source": [
    "### Without loop"
   ]
  },
  {
   "cell_type": "code",
   "execution_count": 24,
   "id": "02a80cf5-c206-47d6-ab0d-c9362fe38f53",
   "metadata": {},
   "outputs": [],
   "source": [
    "# i=10\n",
    "\n",
    "# # define training data\n",
    "# np.random.seed(100)\n",
    "# train_size = np.round(props[i]*len(inds_sub)).astype('int')\n",
    "# sub = np.random.choice(inds_sub, train_size)\n",
    "# sub_t = np.random.choice(list(set(inds_sub).difference(sub)), 5000)\n",
    "# train_x = geno_t[sub]\n",
    "# train_y = torch.tensor(np.array(pheno.pheno[sub]), dtype=torch.float32)\n",
    "# test_x = geno_t[sub_t]\n",
    "# test_y = torch.tensor(np.array(pheno.pheno[sub_t]), dtype=torch.float32)\n",
    "# train_x, train_y = train_x.contiguous(), train_y.contiguous()\n",
    "# test_x, test_y = test_x.contiguous(), test_y.contiguous()\n",
    "# train_x, train_y = train_x.to(output_device), train_y.to(output_device)\n",
    "# test_x, test_y = test_x.to(output_device), test_y.to(output_device)\n",
    "\n",
    "# # # train kernel\n",
    "# # ker, likelihood = train_model_cv(ker, train_x, train_y, 50, .1)\n",
    "\n",
    "# # print(\"raw_lda = %f\"%round(ker.state_dict()['raw_lda'].item(),3), \"and\", \"raw_eta = %f\"%round(ker.state_dict()['raw_eta'].item(),3))\n",
    "\n",
    "\n",
    "# sgpu()\n",
    "\n",
    "# likelihood = gpytorch.likelihoods.GaussianLikelihood().to(output_device)\n",
    "# model = models.ExactGPModel(train_x, train_y, likelihood, ker).to(output_device)\n",
    "\n",
    "\n",
    "# test_x = test_x.cuda()\n",
    "# model.eval()\n",
    "# likelihood.eval()\n",
    "\n",
    "# with gpytorch.beta_features.checkpoint_kernel(train_x.shape[0]//50):\n",
    "#     f_preds = model(test_x)\n",
    "\n",
    "# f_mean = f_preds.mean.cpu().detach().numpy()\n",
    "# y_test = test_y.detach().cpu().numpy()\n",
    "# r2_score = r2(y_test, f_mean)\n",
    "# print('training size = %i'%train_size,'; R2 = %f'%r2_score)\n",
    "# r2_score_list.append(r2_score)\n",
    "\n",
    "# del model, likelihood, f_preds\n",
    "# torch.cuda.empty_cache()\n",
    "\n",
    "# sgpu() "
   ]
  },
  {
   "cell_type": "code",
   "execution_count": null,
   "id": "5e925599-30a3-42eb-9c99-7a79c661e5f8",
   "metadata": {},
   "outputs": [],
   "source": []
  }
 ],
 "metadata": {
  "kernelspec": {
   "display_name": "PyTorch-1.7.1",
   "language": "python",
   "name": "pytorch-1.7.1"
  },
  "language_info": {
   "codemirror_mode": {
    "name": "ipython",
    "version": 3
   },
   "file_extension": ".py",
   "mimetype": "text/x-python",
   "name": "python",
   "nbconvert_exporter": "python",
   "pygments_lexer": "ipython3",
   "version": "3.8.6"
  }
 },
 "nbformat": 4,
 "nbformat_minor": 5
}
