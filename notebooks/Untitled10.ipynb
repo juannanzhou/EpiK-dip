{
 "cells": [
  {
   "cell_type": "code",
   "execution_count": 1,
   "id": "edf2a410-246a-4231-ae9b-fa91856383e9",
   "metadata": {},
   "outputs": [
    {
     "name": "stdout",
     "output_type": "stream",
     "text": [
      "Defaulting to user installation because normal site-packages is not writeable\n",
      "Looking in indexes: https://pypi.org/simple, https://pypi.ngc.nvidia.com\n",
      "Collecting Bio\n",
      "  Downloading bio-1.4.0-py3-none-any.whl (270 kB)\n",
      "\u001b[K     |████████████████████████████████| 270 kB 3.6 MB/s eta 0:00:01\n",
      "\u001b[?25hRequirement already satisfied: tqdm in /apps/jupyter/6.2.0/lib/python3.9/site-packages (from Bio) (4.62.2)\n",
      "Requirement already satisfied: requests in /apps/jupyter/6.2.0/lib/python3.9/site-packages (from Bio) (2.25.1)\n",
      "Collecting mygene\n",
      "  Downloading mygene-3.2.2-py2.py3-none-any.whl (5.4 kB)\n",
      "Requirement already satisfied: biopython>=1.79 in /home/juannanzhou/.local/lib/python3.9/site-packages (from Bio) (1.79)\n",
      "Requirement already satisfied: numpy in /apps/jupyter/6.2.0/lib/python3.9/site-packages (from biopython>=1.79->Bio) (1.21.2)\n",
      "Collecting biothings-client>=0.2.6\n",
      "  Downloading biothings_client-0.2.6-py2.py3-none-any.whl (37 kB)\n",
      "Requirement already satisfied: certifi>=2017.4.17 in /apps/jupyter/6.2.0/lib/python3.9/site-packages (from requests->Bio) (2021.10.8)\n",
      "Requirement already satisfied: idna<3,>=2.5 in /apps/jupyter/6.2.0/lib/python3.9/site-packages (from requests->Bio) (2.10)\n",
      "Requirement already satisfied: urllib3<1.27,>=1.21.1 in /apps/jupyter/6.2.0/lib/python3.9/site-packages (from requests->Bio) (1.26.5)\n",
      "Requirement already satisfied: chardet<5,>=3.0.2 in /apps/jupyter/6.2.0/lib/python3.9/site-packages (from requests->Bio) (4.0.0)\n",
      "Installing collected packages: biothings-client, mygene, Bio\n",
      "\u001b[33m  WARNING: The scripts bio and fasta_filter.py are installed in '/home/juannanzhou/.local/bin' which is not on PATH.\n",
      "  Consider adding this directory to PATH or, if you prefer to suppress this warning, use --no-warn-script-location.\u001b[0m\n",
      "Successfully installed Bio-1.4.0 biothings-client-0.2.6 mygene-3.2.2\n"
     ]
    }
   ],
   "source": [
    "!pip install Bio"
   ]
  },
  {
   "cell_type": "code",
   "execution_count": 30,
   "id": "43cc78fb-05a1-4579-9364-bb2a4144910e",
   "metadata": {},
   "outputs": [],
   "source": [
    "from Bio import SeqIO\n",
    "from Bio.Blast import NCBIWWW"
   ]
  },
  {
   "cell_type": "code",
   "execution_count": 19,
   "id": "75b5bb17-f17a-4cbd-aaa6-cfbbc2893cae",
   "metadata": {},
   "outputs": [],
   "source": [
    "seq_record = next(SeqIO.parse(open('seqs0.fasta'),'fasta')) \n",
    "\n",
    "result_handle = NCBIWWW.qblast(\"blastp\", \"nr\", seq_record.seq) \n",
    "\n",
    "\n",
    "with open('results.xml', 'w') as save_file: \n",
    "    blast_results = result_handle.read() \n",
    "    save_file.write(blast_results)\n",
    "\n",
    "from Bio.Blast import NCBIXML\n",
    "\n",
    "record = next(NCBIXML.parse(open(\"results.xml\")))\n",
    "\n",
    "align = record.alignments[0]\n",
    "\n",
    "align.title\n",
    "\n",
    "E_VALUE_THRESH = 1e-20 \n",
    "for record in NCBIXML.parse(open(\"results.xml\")): \n",
    "    if record.alignments: \n",
    "       print(\"\\n\") \n",
    "       print(\"query: %s\" % record.query[:5]) \n",
    "       for align in record.alignments: \n",
    "          for hsp in align.hsps: \n",
    "             if hsp.expect < E_VALUE_THRESH: \n",
    "                print(\"match: %s \" % align.title[:100])"
   ]
  },
  {
   "cell_type": "code",
   "execution_count": null,
   "id": "c43b2734-7d3d-4b0c-8157-a1606276fc78",
   "metadata": {},
   "outputs": [],
   "source": [
    "from Bio.Blast import NCBIXML\n",
    "\n",
    "for i in range(len(seqs)):\n",
    "    seq_record = seqs[i]\n",
    "    result_handle = NCBIWWW.qblast(\"blastp\", \"nr\", seq_record.seq)\n",
    "    \n",
    "    with open('results.xml', 'w') as save_file: \n",
    "        blast_results = result_handle.read() \n",
    "        save_file.write(blast_results)\n"
   ]
  },
  {
   "cell_type": "code",
   "execution_count": 37,
   "id": "322cd771-3783-470b-b2a4-683b8f65618c",
   "metadata": {},
   "outputs": [],
   "source": [
    "blast_results = result_handle.read() "
   ]
  },
  {
   "cell_type": "code",
   "execution_count": 38,
   "id": "a479c97f-e251-4907-8d35-9d1679bba0f1",
   "metadata": {},
   "outputs": [
    {
     "data": {
      "text/plain": [
       "''"
      ]
     },
     "execution_count": 38,
     "metadata": {},
     "output_type": "execute_result"
    }
   ],
   "source": [
    "blast_results"
   ]
  }
 ],
 "metadata": {
  "kernelspec": {
   "display_name": "Python 3 (ipykernel)",
   "language": "python",
   "name": "python3"
  },
  "language_info": {
   "codemirror_mode": {
    "name": "ipython",
    "version": 3
   },
   "file_extension": ".py",
   "mimetype": "text/x-python",
   "name": "python",
   "nbconvert_exporter": "python",
   "pygments_lexer": "ipython3",
   "version": "3.8.1"
  }
 },
 "nbformat": 4,
 "nbformat_minor": 5
}
